{
 "cells": [
  {
   "cell_type": "markdown",
   "id": "de74baa0",
   "metadata": {},
   "source": [
    "# Correlation Analysis"
   ]
  },
  {
   "cell_type": "code",
   "execution_count": 29,
   "id": "edb0606d",
   "metadata": {},
   "outputs": [
    {
     "name": "stdout",
     "output_type": "stream",
     "text": [
      "0.11.4\n"
     ]
    }
   ],
   "source": [
    "import numpy as np\n",
    "import pandas as pd\n",
    "import anndata as ad\n",
    "from scipy.sparse import csr_matrix\n",
    "from scipy.sparse import issparse\n",
    "import scanpy as sc\n",
    "import scipy.stats\n",
    "print(ad.__version__)"
   ]
  },
  {
   "cell_type": "code",
   "execution_count": 30,
   "id": "cdab252c",
   "metadata": {},
   "outputs": [
    {
     "name": "stdout",
     "output_type": "stream",
     "text": [
      "AnnData object with n_obs × n_vars = 181 × 25795\n",
      "    obs: 'reference_genome', 'gene_annotation_version', 'alignment_software', 'intronic_reads_counted', 'library_id', 'assay_ontology_term_id', 'sequenced_fragment', 'cell_number_loaded', 'institute', 'is_primary_data', 'cell_type_ontology_term_id', 'author_cell_type', 'sample_id', 'sample_preservation_method', 'tissue_ontology_term_id', 'development_stage_ontology_term_id', 'sample_collection_method', 'donor_BMI_at_collection', 'tissue_type', 'suspension_derivation_process', 'suspension_enriched_cell_types', 'cell_viability_percentage', 'suspension_uuid', 'suspension_type', 'self_reported_ethnicity_ontology_term_id', 'donor_living_at_sample_collection', 'organism_ontology_term_id', 'disease_ontology_term_id', 'sex_ontology_term_id', 'Country', 'nCount_RNA', 'nFeature_RNA', 'TCR_VDJdb', 'TCRa_V_gene', 'TCRa_D_gene', 'TCRa_J_gene', 'TCRa_C_gene', 'TCRb_V_gene', 'TCRb_D_gene', 'TCRb_J_gene', 'TCRb_C_gene', 'TCR_Clonality', 'TCR_Clone_ID', 'BCR_VDJ_V_call', 'BCR_VDJ_D_call', 'BCR_VDJ_J_call', 'BCR_VDJ_C_call', 'BCR_VJ_V_call', 'BCR_VJ_J_call', 'BCR_VJ_C_call', 'BCR_Clonality', 'BCR_Clone_size', 'BCR_mu_freq', 'cell_type', 'assay', 'disease', 'organism', 'sex', 'tissue', 'self_reported_ethnicity', 'development_stage', 'observation_joinid'\n",
      "    var: 'feature_is_filtered', 'feature_name', 'feature_reference', 'feature_biotype', 'feature_length', 'feature_type'\n",
      "    uns: 'citation', 'default_embedding', 'schema_reference', 'schema_version', 'title'\n",
      "AnnData object with n_obs × n_vars = 183 × 25795\n",
      "    obs: 'reference_genome', 'gene_annotation_version', 'alignment_software', 'intronic_reads_counted', 'library_id', 'assay_ontology_term_id', 'sequenced_fragment', 'cell_number_loaded', 'institute', 'is_primary_data', 'cell_type_ontology_term_id', 'author_cell_type', 'sample_id', 'sample_preservation_method', 'tissue_ontology_term_id', 'development_stage_ontology_term_id', 'sample_collection_method', 'donor_BMI_at_collection', 'tissue_type', 'suspension_derivation_process', 'suspension_enriched_cell_types', 'cell_viability_percentage', 'suspension_uuid', 'suspension_type', 'self_reported_ethnicity_ontology_term_id', 'donor_living_at_sample_collection', 'organism_ontology_term_id', 'disease_ontology_term_id', 'sex_ontology_term_id', 'Country', 'nCount_RNA', 'nFeature_RNA', 'TCR_VDJdb', 'TCRa_V_gene', 'TCRa_D_gene', 'TCRa_J_gene', 'TCRa_C_gene', 'TCRb_V_gene', 'TCRb_D_gene', 'TCRb_J_gene', 'TCRb_C_gene', 'TCR_Clonality', 'TCR_Clone_ID', 'BCR_VDJ_V_call', 'BCR_VDJ_D_call', 'BCR_VDJ_J_call', 'BCR_VDJ_C_call', 'BCR_VJ_V_call', 'BCR_VJ_J_call', 'BCR_VJ_C_call', 'BCR_Clonality', 'BCR_Clone_size', 'BCR_mu_freq', 'cell_type', 'assay', 'disease', 'organism', 'sex', 'tissue', 'self_reported_ethnicity', 'development_stage', 'observation_joinid'\n",
      "    var: 'feature_is_filtered', 'feature_name', 'feature_reference', 'feature_biotype', 'feature_length', 'feature_type'\n",
      "    uns: 'citation', 'default_embedding', 'schema_reference', 'schema_version', 'title'\n"
     ]
    }
   ],
   "source": [
    "# Load young and old data\n",
    "# cell_type = \"CD8-positive, alpha-beta cytotoxic T cell\"\n",
    "cell_type = \"CD14-positive monocyte\"\n",
    "young_path = \"subsets/{}_young_donors.h5ad\".format(cell_type)\n",
    "old_path = \"subsets/{}_old_donors.h5ad\".format(cell_type)\n",
    "adata_young = ad.read_h5ad(young_path)\n",
    "adata_old = ad.read_h5ad(old_path)\n",
    "print(adata_young)\n",
    "print(adata_old)"
   ]
  },
  {
   "cell_type": "code",
   "execution_count": 22,
   "id": "fe72d521",
   "metadata": {},
   "outputs": [
    {
     "name": "stdout",
     "output_type": "stream",
     "text": [
      "[ 2  8  2 ... 24 26  8]\n",
      "[ 1 13  1 ... 24 27  8]\n"
     ]
    }
   ],
   "source": [
    "# Check that every gene is expressed at least once in each dataset in .X\n",
    "print(np.sum(adata_young.X != 0, axis=0))\n",
    "print(np.sum(adata_old.X != 0, axis=0))"
   ]
  },
  {
   "cell_type": "code",
   "execution_count": 23,
   "id": "21066b78",
   "metadata": {},
   "outputs": [],
   "source": [
    "# Get the expression matrix (cells x genes)\n",
    "if issparse(adata_young.X):\n",
    "    expr_matrix = adata_young.X.toarray()  # Convert sparse to dense if needed\n",
    "else:\n",
    "    expr_matrix = adata_young.X\n",
    "\n",
    "# Transpose to genes x cells for correlation calculation\n",
    "expr_matrix = expr_matrix.T\n",
    "\n",
    "# Calculate correlation matrix (Pearson)\n",
    "corr_matrix = np.corrcoef(expr_matrix)\n",
    "\n",
    "# Convert to DataFrame for easier handling\n",
    "gene_names = adata_young.var_names\n",
    "corr_df = pd.DataFrame(corr_matrix, index=gene_names, columns=gene_names)"
   ]
  },
  {
   "cell_type": "code",
   "execution_count": 24,
   "id": "a5213fb8",
   "metadata": {},
   "outputs": [
    {
     "name": "stdout",
     "output_type": "stream",
     "text": [
      "Diagonal of the correlation matrix (should be 1):\n",
      "[1. 1. 1. ... 1. 1. 1.]\n",
      "Number of NaN values in the correlation matrix:\n",
      "0\n"
     ]
    }
   ],
   "source": [
    "# Print the diagonal of the correlation matrix and check for NaN values\n",
    "print(\"Diagonal of the correlation matrix (should be 1):\")\n",
    "print(corr_df.values.diagonal())\n",
    "print(\"Number of NaN values in the correlation matrix:\")\n",
    "print(np.isnan(corr_df.values).sum())"
   ]
  },
  {
   "cell_type": "code",
   "execution_count": 25,
   "id": "18685381",
   "metadata": {},
   "outputs": [
    {
     "name": "stdout",
     "output_type": "stream",
     "text": [
      "Top genes correlated with ENSG00000166710:\n",
      "ENSG00000166710    1.000000\n",
      "ENSG00000204525    0.879935\n",
      "ENSG00000147168    0.865610\n",
      "ENSG00000234745    0.860340\n",
      "ENSG00000206503    0.831529\n",
      "ENSG00000185885    0.813374\n",
      "ENSG00000196262    0.769701\n",
      "ENSG00000108518    0.758690\n",
      "ENSG00000145649    0.753284\n",
      "ENSG00000198668    0.735146\n",
      "Name: ENSG00000166710, dtype: float64\n"
     ]
    }
   ],
   "source": [
    "# Find top correlated genes for a specific gene of interest\n",
    "target_gene = \"ENSG00000166710\"\n",
    "if target_gene in corr_df.columns:\n",
    "    target_correlations = corr_df[target_gene].sort_values(ascending=False)\n",
    "    print(f\"Top genes correlated with {target_gene}:\")\n",
    "    print(target_correlations.head(10))\n",
    "else:\n",
    "    print(f\"{target_gene} not found in the dataset\")"
   ]
  },
  {
   "cell_type": "code",
   "execution_count": 26,
   "id": "e319aab9",
   "metadata": {},
   "outputs": [],
   "source": [
    "# Get the expression matrix for old donors\n",
    "if issparse(adata_old.X):\n",
    "    expr_matrix_old = adata_old.X.toarray()  # Convert sparse to dense if needed\n",
    "else:\n",
    "    expr_matrix_old = adata_old.X\n",
    "\n",
    "# Transpose to genes x cells for correlation calculation\n",
    "expr_matrix_old = expr_matrix_old.T\n",
    "\n",
    "# Calculate correlation matrix (Pearson) for old donors\n",
    "corr_matrix_old = np.corrcoef(expr_matrix_old)\n",
    "\n",
    "# Convert to DataFrame for easier handling\n",
    "corr_df_old = pd.DataFrame(corr_matrix_old, index=gene_names, columns=gene_names)"
   ]
  },
  {
   "cell_type": "code",
   "execution_count": 27,
   "id": "e7d577a6",
   "metadata": {},
   "outputs": [
    {
     "name": "stdout",
     "output_type": "stream",
     "text": [
      "Diagonal of the correlation matrix (should be 1):\n",
      "[1. 1. 1. ... 1. 1. 1.]\n",
      "Number of NaN values in the correlation matrix:\n",
      "0\n"
     ]
    }
   ],
   "source": [
    "# Print the diagonal of the correlation matrix and check for NaN values\n",
    "print(\"Diagonal of the correlation matrix (should be 1):\")\n",
    "print(corr_df_old.values.diagonal())\n",
    "print(\"Number of NaN values in the correlation matrix:\")\n",
    "print(np.isnan(corr_df_old.values).sum())"
   ]
  },
  {
   "cell_type": "code",
   "execution_count": 28,
   "id": "47264211",
   "metadata": {},
   "outputs": [
    {
     "name": "stdout",
     "output_type": "stream",
     "text": [
      "Top genes correlated with ENSG00000166710 in old donors:\n",
      "ENSG00000166710    1.000000\n",
      "ENSG00000147168    0.818642\n",
      "ENSG00000198821    0.797913\n",
      "ENSG00000204525    0.794538\n",
      "ENSG00000101608    0.791532\n",
      "ENSG00000172543    0.769439\n",
      "ENSG00000100242    0.756032\n",
      "ENSG00000077984    0.750802\n",
      "ENSG00000111348    0.741904\n",
      "ENSG00000105374    0.734490\n",
      "Name: ENSG00000166710, dtype: float64\n"
     ]
    }
   ],
   "source": [
    "# Find top correlated genes for a specific gene of interest in old donors\n",
    "if target_gene in corr_df_old.columns:\n",
    "    target_correlations_old = corr_df_old[target_gene].sort_values(ascending=False)\n",
    "    print(f\"Top genes correlated with {target_gene} in old donors:\")\n",
    "    print(target_correlations_old.head(10))\n",
    "else:\n",
    "    print(f\"{target_gene} not found in the old donor dataset\")"
   ]
  },
  {
   "cell_type": "code",
   "execution_count": null,
   "id": "62c0767e",
   "metadata": {},
   "outputs": [],
   "source": []
  }
 ],
 "metadata": {
  "kernelspec": {
   "display_name": "base",
   "language": "python",
   "name": "python3"
  },
  "language_info": {
   "codemirror_mode": {
    "name": "ipython",
    "version": 3
   },
   "file_extension": ".py",
   "mimetype": "text/x-python",
   "name": "python",
   "nbconvert_exporter": "python",
   "pygments_lexer": "ipython3",
   "version": "3.11.4"
  }
 },
 "nbformat": 4,
 "nbformat_minor": 5
}
