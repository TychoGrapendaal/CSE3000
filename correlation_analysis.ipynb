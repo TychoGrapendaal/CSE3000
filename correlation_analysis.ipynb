{
 "cells": [
  {
   "cell_type": "markdown",
   "id": "de74baa0",
   "metadata": {},
   "source": [
    "# Correlation Analysis"
   ]
  },
  {
   "cell_type": "code",
   "execution_count": 73,
   "id": "edb0606d",
   "metadata": {},
   "outputs": [
    {
     "name": "stdout",
     "output_type": "stream",
     "text": [
      "0.11.4\n"
     ]
    }
   ],
   "source": [
    "import numpy as np\n",
    "import pandas as pd\n",
    "import anndata as ad\n",
    "from scipy.sparse import csr_matrix\n",
    "from scipy.sparse import issparse\n",
    "import scanpy as sc\n",
    "import scipy.stats\n",
    "from scipy.stats import pearsonr\n",
    "import matplotlib.pyplot as plt\n",
    "import seaborn as sns\n",
    "print(ad.__version__)"
   ]
  },
  {
   "cell_type": "code",
   "execution_count": 74,
   "id": "cdab252c",
   "metadata": {},
   "outputs": [
    {
     "name": "stdout",
     "output_type": "stream",
     "text": [
      "AnnData object with n_obs × n_vars = 175 × 603\n",
      "    obs: 'reference_genome', 'gene_annotation_version', 'alignment_software', 'intronic_reads_counted', 'library_id', 'assay_ontology_term_id', 'sequenced_fragment', 'cell_number_loaded', 'institute', 'is_primary_data', 'cell_type_ontology_term_id', 'author_cell_type', 'sample_id', 'sample_preservation_method', 'tissue_ontology_term_id', 'development_stage_ontology_term_id', 'sample_collection_method', 'donor_BMI_at_collection', 'tissue_type', 'suspension_derivation_process', 'suspension_enriched_cell_types', 'cell_viability_percentage', 'suspension_uuid', 'suspension_type', 'self_reported_ethnicity_ontology_term_id', 'donor_living_at_sample_collection', 'organism_ontology_term_id', 'disease_ontology_term_id', 'sex_ontology_term_id', 'Country', 'nCount_RNA', 'nFeature_RNA', 'TCR_VDJdb', 'TCRa_V_gene', 'TCRa_D_gene', 'TCRa_J_gene', 'TCRa_C_gene', 'TCRb_V_gene', 'TCRb_D_gene', 'TCRb_J_gene', 'TCRb_C_gene', 'TCR_Clonality', 'TCR_Clone_ID', 'BCR_VDJ_V_call', 'BCR_VDJ_D_call', 'BCR_VDJ_J_call', 'BCR_VDJ_C_call', 'BCR_VJ_V_call', 'BCR_VJ_J_call', 'BCR_VJ_C_call', 'BCR_Clonality', 'BCR_Clone_size', 'BCR_mu_freq', 'cell_type', 'assay', 'disease', 'organism', 'sex', 'tissue', 'self_reported_ethnicity', 'development_stage', 'observation_joinid', 'n_cells'\n",
      "    var: 'feature_is_filtered', 'feature_name', 'feature_reference', 'feature_biotype', 'feature_length', 'feature_type'\n",
      "    uns: 'citation', 'default_embedding', 'schema_reference', 'schema_version', 'title'\n",
      "AnnData object with n_obs × n_vars = 181 × 603\n",
      "    obs: 'reference_genome', 'gene_annotation_version', 'alignment_software', 'intronic_reads_counted', 'library_id', 'assay_ontology_term_id', 'sequenced_fragment', 'cell_number_loaded', 'institute', 'is_primary_data', 'cell_type_ontology_term_id', 'author_cell_type', 'sample_id', 'sample_preservation_method', 'tissue_ontology_term_id', 'development_stage_ontology_term_id', 'sample_collection_method', 'donor_BMI_at_collection', 'tissue_type', 'suspension_derivation_process', 'suspension_enriched_cell_types', 'cell_viability_percentage', 'suspension_uuid', 'suspension_type', 'self_reported_ethnicity_ontology_term_id', 'donor_living_at_sample_collection', 'organism_ontology_term_id', 'disease_ontology_term_id', 'sex_ontology_term_id', 'Country', 'nCount_RNA', 'nFeature_RNA', 'TCR_VDJdb', 'TCRa_V_gene', 'TCRa_D_gene', 'TCRa_J_gene', 'TCRa_C_gene', 'TCRb_V_gene', 'TCRb_D_gene', 'TCRb_J_gene', 'TCRb_C_gene', 'TCR_Clonality', 'TCR_Clone_ID', 'BCR_VDJ_V_call', 'BCR_VDJ_D_call', 'BCR_VDJ_J_call', 'BCR_VDJ_C_call', 'BCR_VJ_V_call', 'BCR_VJ_J_call', 'BCR_VJ_C_call', 'BCR_Clonality', 'BCR_Clone_size', 'BCR_mu_freq', 'cell_type', 'assay', 'disease', 'organism', 'sex', 'tissue', 'self_reported_ethnicity', 'development_stage', 'observation_joinid', 'n_cells'\n",
      "    var: 'feature_is_filtered', 'feature_name', 'feature_reference', 'feature_biotype', 'feature_length', 'feature_type'\n",
      "    uns: 'citation', 'default_embedding', 'schema_reference', 'schema_version', 'title'\n"
     ]
    }
   ],
   "source": [
    "# Load young and old data\n",
    "# cell_type = \"CD8-positive, alpha-beta cytotoxic T cell\"\n",
    "# cell_type = \"erythrocyte\"\n",
    "cell_type = \"regulatory T cell\"\n",
    "young_path = \"subsets/{}_young_donors.h5ad\".format(cell_type)\n",
    "old_path = \"subsets/{}_old_donors.h5ad\".format(cell_type)\n",
    "adata_young = ad.read_h5ad(young_path)\n",
    "adata_old = ad.read_h5ad(old_path)\n",
    "print(adata_young)\n",
    "print(adata_old)"
   ]
  },
  {
   "cell_type": "code",
   "execution_count": 75,
   "id": "fe72d521",
   "metadata": {},
   "outputs": [
    {
     "name": "stdout",
     "output_type": "stream",
     "text": [
      "All genes expressed at least once in young dataset\n",
      "All genes expressed at least once in old dataset\n"
     ]
    }
   ],
   "source": [
    "# Check that every gene is expressed at least once in each dataset in .X\n",
    "young_check = np.sum(adata_young.X != 0, axis=0)\n",
    "old_check = np.sum(adata_old.X != 0, axis=0)\n",
    "\n",
    "# Check that every number in young_check is greater than 0\n",
    "if np.all(young_check > 0):\n",
    "    print(\"All genes expressed at least once in young dataset\")\n",
    "\n",
    "# Check that every number in old_check is greater than 0\n",
    "if np.all(old_check > 0):\n",
    "    print(\"All genes expressed at least once in old dataset\")"
   ]
  },
  {
   "cell_type": "code",
   "execution_count": 76,
   "id": "21066b78",
   "metadata": {},
   "outputs": [],
   "source": [
    "# Get the expression matrix (cells x genes)\n",
    "if issparse(adata_young.X):\n",
    "    expr_matrix = adata_young.X.toarray()  # Convert sparse to dense if needed\n",
    "else:\n",
    "    expr_matrix = adata_young.X\n",
    "\n",
    "# Transpose to genes x cells for correlation calculation\n",
    "expr_matrix = expr_matrix.T\n",
    "\n",
    "# Calculate correlation matrix (Pearson)\n",
    "corr_matrix = np.corrcoef(expr_matrix)\n",
    "\n",
    "# Convert to DataFrame for easier handling\n",
    "gene_names = adata_young.var_names\n",
    "corr_df_young = pd.DataFrame(corr_matrix, index=gene_names, columns=gene_names)"
   ]
  },
  {
   "cell_type": "code",
   "execution_count": 77,
   "id": "8861d15c",
   "metadata": {},
   "outputs": [],
   "source": [
    "# # Get the expression matrix (cells x genes)\n",
    "# if issparse(adata_young.X):\n",
    "#     expr_matrix = adata_young.X.toarray()  # Convert sparse to dense if needed\n",
    "# else:\n",
    "#     expr_matrix = adata_young.X\n",
    "\n",
    "# # Transpose to genes x cells for correlation calculation\n",
    "# expr_matrix = expr_matrix.T\n",
    "\n",
    "# # Get gene names\n",
    "# gene_names = adata_young.var_names\n",
    "# n_genes = len(gene_names)\n",
    "\n",
    "# # Initialize correlation and p-value matrices\n",
    "# corr_matrix = np.zeros((n_genes, n_genes))\n",
    "# p_matrix = np.zeros((n_genes, n_genes))\n",
    "\n",
    "# # Calculate correlation and p-value for each gene pair\n",
    "# for i in range(n_genes):\n",
    "#     for j in range(i, n_genes):  # Take advantage of symmetry\n",
    "#         corr, p_val = pearsonr(expr_matrix[i], expr_matrix[j])\n",
    "#         corr_matrix[i, j] = corr\n",
    "#         corr_matrix[j, i] = corr  # Symmetric\n",
    "#         p_matrix[i, j] = p_val\n",
    "#         p_matrix[j, i] = p_val  # Symmetric\n",
    "\n",
    "# # Convert to DataFrames\n",
    "# corr_df_young = pd.DataFrame(corr_matrix, index=gene_names, columns=gene_names)\n",
    "# p_value_df_young = pd.DataFrame(p_matrix, index=gene_names, columns=gene_names)\n",
    "\n",
    "# # Print the p-value DataFrame\n",
    "# print(corr_df_young)\n",
    "# print(p_value_df_young)"
   ]
  },
  {
   "cell_type": "code",
   "execution_count": 78,
   "id": "a5213fb8",
   "metadata": {},
   "outputs": [
    {
     "name": "stdout",
     "output_type": "stream",
     "text": [
      "Diagonal of the correlation matrix (should be 1):\n",
      "[1. 1. 1. 1. 1. 1. 1. 1. 1. 1. 1. 1. 1. 1. 1. 1. 1. 1. 1. 1. 1. 1. 1. 1.\n",
      " 1. 1. 1. 1. 1. 1. 1. 1. 1. 1. 1. 1. 1. 1. 1. 1. 1. 1. 1. 1. 1. 1. 1. 1.\n",
      " 1. 1. 1. 1. 1. 1. 1. 1. 1. 1. 1. 1. 1. 1. 1. 1. 1. 1. 1. 1. 1. 1. 1. 1.\n",
      " 1. 1. 1. 1. 1. 1. 1. 1. 1. 1. 1. 1. 1. 1. 1. 1. 1. 1. 1. 1. 1. 1. 1. 1.\n",
      " 1. 1. 1. 1. 1. 1. 1. 1. 1. 1. 1. 1. 1. 1. 1. 1. 1. 1. 1. 1. 1. 1. 1. 1.\n",
      " 1. 1. 1. 1. 1. 1. 1. 1. 1. 1. 1. 1. 1. 1. 1. 1. 1. 1. 1. 1. 1. 1. 1. 1.\n",
      " 1. 1. 1. 1. 1. 1. 1. 1. 1. 1. 1. 1. 1. 1. 1. 1. 1. 1. 1. 1. 1. 1. 1. 1.\n",
      " 1. 1. 1. 1. 1. 1. 1. 1. 1. 1. 1. 1. 1. 1. 1. 1. 1. 1. 1. 1. 1. 1. 1. 1.\n",
      " 1. 1. 1. 1. 1. 1. 1. 1. 1. 1. 1. 1. 1. 1. 1. 1. 1. 1. 1. 1. 1. 1. 1. 1.\n",
      " 1. 1. 1. 1. 1. 1. 1. 1. 1. 1. 1. 1. 1. 1. 1. 1. 1. 1. 1. 1. 1. 1. 1. 1.\n",
      " 1. 1. 1. 1. 1. 1. 1. 1. 1. 1. 1. 1. 1. 1. 1. 1. 1. 1. 1. 1. 1. 1. 1. 1.\n",
      " 1. 1. 1. 1. 1. 1. 1. 1. 1. 1. 1. 1. 1. 1. 1. 1. 1. 1. 1. 1. 1. 1. 1. 1.\n",
      " 1. 1. 1. 1. 1. 1. 1. 1. 1. 1. 1. 1. 1. 1. 1. 1. 1. 1. 1. 1. 1. 1. 1. 1.\n",
      " 1. 1. 1. 1. 1. 1. 1. 1. 1. 1. 1. 1. 1. 1. 1. 1. 1. 1. 1. 1. 1. 1. 1. 1.\n",
      " 1. 1. 1. 1. 1. 1. 1. 1. 1. 1. 1. 1. 1. 1. 1. 1. 1. 1. 1. 1. 1. 1. 1. 1.\n",
      " 1. 1. 1. 1. 1. 1. 1. 1. 1. 1. 1. 1. 1. 1. 1. 1. 1. 1. 1. 1. 1. 1. 1. 1.\n",
      " 1. 1. 1. 1. 1. 1. 1. 1. 1. 1. 1. 1. 1. 1. 1. 1. 1. 1. 1. 1. 1. 1. 1. 1.\n",
      " 1. 1. 1. 1. 1. 1. 1. 1. 1. 1. 1. 1. 1. 1. 1. 1. 1. 1. 1. 1. 1. 1. 1. 1.\n",
      " 1. 1. 1. 1. 1. 1. 1. 1. 1. 1. 1. 1. 1. 1. 1. 1. 1. 1. 1. 1. 1. 1. 1. 1.\n",
      " 1. 1. 1. 1. 1. 1. 1. 1. 1. 1. 1. 1. 1. 1. 1. 1. 1. 1. 1. 1. 1. 1. 1. 1.\n",
      " 1. 1. 1. 1. 1. 1. 1. 1. 1. 1. 1. 1. 1. 1. 1. 1. 1. 1. 1. 1. 1. 1. 1. 1.\n",
      " 1. 1. 1. 1. 1. 1. 1. 1. 1. 1. 1. 1. 1. 1. 1. 1. 1. 1. 1. 1. 1. 1. 1. 1.\n",
      " 1. 1. 1. 1. 1. 1. 1. 1. 1. 1. 1. 1. 1. 1. 1. 1. 1. 1. 1. 1. 1. 1. 1. 1.\n",
      " 1. 1. 1. 1. 1. 1. 1. 1. 1. 1. 1. 1. 1. 1. 1. 1. 1. 1. 1. 1. 1. 1. 1. 1.\n",
      " 1. 1. 1. 1. 1. 1. 1. 1. 1. 1. 1. 1. 1. 1. 1. 1. 1. 1. 1. 1. 1. 1. 1. 1.\n",
      " 1. 1. 1.]\n",
      "Number of NaN values in the correlation matrix:\n",
      "0\n"
     ]
    }
   ],
   "source": [
    "# Print the diagonal of the correlation matrix and check for NaN values\n",
    "print(\"Diagonal of the correlation matrix (should be 1):\")\n",
    "print(corr_df_young.values.diagonal())\n",
    "print(\"Number of NaN values in the correlation matrix:\")\n",
    "print(np.isnan(corr_df_young.values).sum())"
   ]
  },
  {
   "cell_type": "code",
   "execution_count": 79,
   "id": "773e321a",
   "metadata": {},
   "outputs": [
    {
     "name": "stdout",
     "output_type": "stream",
     "text": [
      "First few rows of the correlation matrix:\n",
      "                 ENSG00000116251  ENSG00000116288  ENSG00000074800  \\\n",
      "ENSG00000116251         1.000000         0.005771        -0.050362   \n",
      "ENSG00000116288         0.005771         1.000000        -0.044648   \n",
      "ENSG00000074800        -0.050362        -0.044648         1.000000   \n",
      "ENSG00000028137        -0.384027         0.068643         0.230392   \n",
      "ENSG00000077549        -0.379126         0.110784         0.290376   \n",
      "\n",
      "                 ENSG00000028137  ENSG00000077549  ENSG00000127483  \\\n",
      "ENSG00000116251        -0.384027        -0.379126        -0.297470   \n",
      "ENSG00000116288         0.068643         0.110784        -0.200846   \n",
      "ENSG00000074800         0.230392         0.290376         0.111292   \n",
      "ENSG00000028137         1.000000         0.268548         0.321051   \n",
      "ENSG00000077549         0.268548         1.000000         0.162763   \n",
      "\n",
      "                 ENSG00000070831  ENSG00000142676  ENSG00000117602  \\\n",
      "ENSG00000116251        -0.470653         0.825369        -0.360680   \n",
      "ENSG00000116288        -0.064874         0.060556        -0.152629   \n",
      "ENSG00000074800        -0.036695        -0.111670         0.031262   \n",
      "ENSG00000028137         0.259053        -0.369884         0.128146   \n",
      "ENSG00000077549         0.298532        -0.359838         0.144790   \n",
      "\n",
      "                 ENSG00000133226  ...  ENSG00000198712  ENSG00000228253  \\\n",
      "ENSG00000116251        -0.409792  ...         0.165001         0.525702   \n",
      "ENSG00000116288        -0.172335  ...        -0.017111         0.164392   \n",
      "ENSG00000074800        -0.044711  ...        -0.168984         0.000982   \n",
      "ENSG00000028137         0.215078  ...        -0.104324        -0.167633   \n",
      "ENSG00000077549         0.083313  ...        -0.062928        -0.095856   \n",
      "\n",
      "                 ENSG00000198899  ENSG00000198938  ENSG00000198840  \\\n",
      "ENSG00000116251        -0.526743         0.036584         0.566628   \n",
      "ENSG00000116288        -0.109463         0.048692         0.040394   \n",
      "ENSG00000074800        -0.066928         0.020584        -0.030002   \n",
      "ENSG00000028137         0.239160         0.036776        -0.124028   \n",
      "ENSG00000077549         0.042262         0.128373        -0.243422   \n",
      "\n",
      "                 ENSG00000212907  ENSG00000198886  ENSG00000198786  \\\n",
      "ENSG00000116251         0.369222         0.357796        -0.159646   \n",
      "ENSG00000116288        -0.016449         0.035570        -0.108441   \n",
      "ENSG00000074800        -0.083149        -0.074891         0.083330   \n",
      "ENSG00000028137        -0.029853         0.010199         0.189491   \n",
      "ENSG00000077549        -0.138114        -0.242747         0.035495   \n",
      "\n",
      "                 ENSG00000198695  ENSG00000198727  \n",
      "ENSG00000116251        -0.403383         0.124614  \n",
      "ENSG00000116288        -0.162047         0.022376  \n",
      "ENSG00000074800        -0.083131        -0.112976  \n",
      "ENSG00000028137         0.181226        -0.069020  \n",
      "ENSG00000077549         0.150943        -0.027017  \n",
      "\n",
      "[5 rows x 603 columns]\n"
     ]
    }
   ],
   "source": [
    "# Print the first few rows of the correlation matrix\n",
    "print(\"First few rows of the correlation matrix:\")\n",
    "print(corr_df_young.head())\n",
    "\n",
    "# Plot the correlation matrix\n",
    "# plt.figure(figsize=(10, 8))\n",
    "# sns.heatmap(corr_df_young, cmap='coolwarm', center=0, square=True, cbar_kws={\"shrink\": .8})\n",
    "# plt.title(\"Correlation Matrix of Gene Expression\")\n",
    "# plt.xlabel(\"Genes\")\n",
    "# plt.ylabel(\"Genes\")\n",
    "# plt.show()"
   ]
  },
  {
   "cell_type": "code",
   "execution_count": 80,
   "id": "18685381",
   "metadata": {},
   "outputs": [
    {
     "name": "stdout",
     "output_type": "stream",
     "text": [
      "Top genes correlated with ENSG00000166710:\n",
      "ENSG00000166710    1.000000\n",
      "ENSG00000196154    0.638056\n",
      "ENSG00000142669    0.630155\n",
      "ENSG00000108518    0.566622\n",
      "ENSG00000188612    0.550037\n",
      "ENSG00000034510    0.545408\n",
      "ENSG00000008517    0.526783\n",
      "ENSG00000172757    0.500740\n",
      "ENSG00000154451    0.480032\n",
      "ENSG00000197747    0.474969\n",
      "Name: ENSG00000166710, dtype: float64\n"
     ]
    }
   ],
   "source": [
    "# Find top correlated genes for a specific gene of interest\n",
    "target_gene = \"ENSG00000166710\"\n",
    "if target_gene in corr_df_young.columns:\n",
    "    target_correlations = corr_df_young[target_gene].sort_values(ascending=False)\n",
    "    print(f\"Top genes correlated with {target_gene}:\")\n",
    "    print(target_correlations.head(10))\n",
    "else:\n",
    "    print(f\"{target_gene} not found in the dataset\")"
   ]
  },
  {
   "cell_type": "code",
   "execution_count": 81,
   "id": "e319aab9",
   "metadata": {},
   "outputs": [],
   "source": [
    "# Get the expression matrix for old donors\n",
    "if issparse(adata_old.X):\n",
    "    expr_matrix_old = adata_old.X.toarray()  # Convert sparse to dense if needed\n",
    "else:\n",
    "    expr_matrix_old = adata_old.X\n",
    "\n",
    "# Transpose to genes x cells for correlation calculation\n",
    "expr_matrix_old = expr_matrix_old.T\n",
    "\n",
    "# Calculate correlation matrix (Pearson) for old donors\n",
    "corr_matrix_old = np.corrcoef(expr_matrix_old)\n",
    "\n",
    "# Convert to DataFrame for easier handling\n",
    "corr_df_old = pd.DataFrame(corr_matrix_old, index=gene_names, columns=gene_names)"
   ]
  },
  {
   "cell_type": "code",
   "execution_count": 82,
   "id": "e7d577a6",
   "metadata": {},
   "outputs": [
    {
     "name": "stdout",
     "output_type": "stream",
     "text": [
      "Diagonal of the correlation matrix (should be 1):\n",
      "[1. 1. 1. 1. 1. 1. 1. 1. 1. 1. 1. 1. 1. 1. 1. 1. 1. 1. 1. 1. 1. 1. 1. 1.\n",
      " 1. 1. 1. 1. 1. 1. 1. 1. 1. 1. 1. 1. 1. 1. 1. 1. 1. 1. 1. 1. 1. 1. 1. 1.\n",
      " 1. 1. 1. 1. 1. 1. 1. 1. 1. 1. 1. 1. 1. 1. 1. 1. 1. 1. 1. 1. 1. 1. 1. 1.\n",
      " 1. 1. 1. 1. 1. 1. 1. 1. 1. 1. 1. 1. 1. 1. 1. 1. 1. 1. 1. 1. 1. 1. 1. 1.\n",
      " 1. 1. 1. 1. 1. 1. 1. 1. 1. 1. 1. 1. 1. 1. 1. 1. 1. 1. 1. 1. 1. 1. 1. 1.\n",
      " 1. 1. 1. 1. 1. 1. 1. 1. 1. 1. 1. 1. 1. 1. 1. 1. 1. 1. 1. 1. 1. 1. 1. 1.\n",
      " 1. 1. 1. 1. 1. 1. 1. 1. 1. 1. 1. 1. 1. 1. 1. 1. 1. 1. 1. 1. 1. 1. 1. 1.\n",
      " 1. 1. 1. 1. 1. 1. 1. 1. 1. 1. 1. 1. 1. 1. 1. 1. 1. 1. 1. 1. 1. 1. 1. 1.\n",
      " 1. 1. 1. 1. 1. 1. 1. 1. 1. 1. 1. 1. 1. 1. 1. 1. 1. 1. 1. 1. 1. 1. 1. 1.\n",
      " 1. 1. 1. 1. 1. 1. 1. 1. 1. 1. 1. 1. 1. 1. 1. 1. 1. 1. 1. 1. 1. 1. 1. 1.\n",
      " 1. 1. 1. 1. 1. 1. 1. 1. 1. 1. 1. 1. 1. 1. 1. 1. 1. 1. 1. 1. 1. 1. 1. 1.\n",
      " 1. 1. 1. 1. 1. 1. 1. 1. 1. 1. 1. 1. 1. 1. 1. 1. 1. 1. 1. 1. 1. 1. 1. 1.\n",
      " 1. 1. 1. 1. 1. 1. 1. 1. 1. 1. 1. 1. 1. 1. 1. 1. 1. 1. 1. 1. 1. 1. 1. 1.\n",
      " 1. 1. 1. 1. 1. 1. 1. 1. 1. 1. 1. 1. 1. 1. 1. 1. 1. 1. 1. 1. 1. 1. 1. 1.\n",
      " 1. 1. 1. 1. 1. 1. 1. 1. 1. 1. 1. 1. 1. 1. 1. 1. 1. 1. 1. 1. 1. 1. 1. 1.\n",
      " 1. 1. 1. 1. 1. 1. 1. 1. 1. 1. 1. 1. 1. 1. 1. 1. 1. 1. 1. 1. 1. 1. 1. 1.\n",
      " 1. 1. 1. 1. 1. 1. 1. 1. 1. 1. 1. 1. 1. 1. 1. 1. 1. 1. 1. 1. 1. 1. 1. 1.\n",
      " 1. 1. 1. 1. 1. 1. 1. 1. 1. 1. 1. 1. 1. 1. 1. 1. 1. 1. 1. 1. 1. 1. 1. 1.\n",
      " 1. 1. 1. 1. 1. 1. 1. 1. 1. 1. 1. 1. 1. 1. 1. 1. 1. 1. 1. 1. 1. 1. 1. 1.\n",
      " 1. 1. 1. 1. 1. 1. 1. 1. 1. 1. 1. 1. 1. 1. 1. 1. 1. 1. 1. 1. 1. 1. 1. 1.\n",
      " 1. 1. 1. 1. 1. 1. 1. 1. 1. 1. 1. 1. 1. 1. 1. 1. 1. 1. 1. 1. 1. 1. 1. 1.\n",
      " 1. 1. 1. 1. 1. 1. 1. 1. 1. 1. 1. 1. 1. 1. 1. 1. 1. 1. 1. 1. 1. 1. 1. 1.\n",
      " 1. 1. 1. 1. 1. 1. 1. 1. 1. 1. 1. 1. 1. 1. 1. 1. 1. 1. 1. 1. 1. 1. 1. 1.\n",
      " 1. 1. 1. 1. 1. 1. 1. 1. 1. 1. 1. 1. 1. 1. 1. 1. 1. 1. 1. 1. 1. 1. 1. 1.\n",
      " 1. 1. 1. 1. 1. 1. 1. 1. 1. 1. 1. 1. 1. 1. 1. 1. 1. 1. 1. 1. 1. 1. 1. 1.\n",
      " 1. 1. 1.]\n",
      "Number of NaN values in the correlation matrix:\n",
      "0\n"
     ]
    }
   ],
   "source": [
    "# Print the diagonal of the correlation matrix and check for NaN values\n",
    "print(\"Diagonal of the correlation matrix (should be 1):\")\n",
    "print(corr_df_old.values.diagonal())\n",
    "print(\"Number of NaN values in the correlation matrix:\")\n",
    "print(np.isnan(corr_df_old.values).sum())"
   ]
  },
  {
   "cell_type": "code",
   "execution_count": 83,
   "id": "47264211",
   "metadata": {},
   "outputs": [
    {
     "name": "stdout",
     "output_type": "stream",
     "text": [
      "Top genes correlated with ENSG00000166710 in old donors:\n",
      "ENSG00000166710    1.000000\n",
      "ENSG00000196154    0.708981\n",
      "ENSG00000142669    0.689203\n",
      "ENSG00000111348    0.651324\n",
      "ENSG00000008517    0.638985\n",
      "ENSG00000034510    0.624617\n",
      "ENSG00000108518    0.609373\n",
      "ENSG00000130429    0.598153\n",
      "ENSG00000111229    0.585061\n",
      "ENSG00000019582    0.581412\n",
      "Name: ENSG00000166710, dtype: float64\n"
     ]
    }
   ],
   "source": [
    "# Find top correlated genes for a specific gene of interest in old donors\n",
    "if target_gene in corr_df_old.columns:\n",
    "    target_correlations_old = corr_df_old[target_gene].sort_values(ascending=False)\n",
    "    print(f\"Top genes correlated with {target_gene} in old donors:\")\n",
    "    print(target_correlations_old.head(10))\n",
    "else:\n",
    "    print(f\"{target_gene} not found in the old donor dataset\")"
   ]
  },
  {
   "cell_type": "code",
   "execution_count": 84,
   "id": "62c0767e",
   "metadata": {},
   "outputs": [
    {
     "name": "stdout",
     "output_type": "stream",
     "text": [
      "Difference in correlation between young and old donors:\n",
      "                 ENSG00000116251  ENSG00000116288  ENSG00000074800  \\\n",
      "ENSG00000116251     1.110223e-16     4.770000e-02     6.742630e-02   \n",
      "ENSG00000116288     4.770000e-02     1.110223e-16    -2.203983e-01   \n",
      "ENSG00000074800     6.742630e-02    -2.203983e-01    -1.110223e-16   \n",
      "ENSG00000028137     8.337909e-02    -9.151739e-02     6.325323e-02   \n",
      "ENSG00000077549    -1.722198e-02    -1.534966e-01    -1.289905e-01   \n",
      "\n",
      "                 ENSG00000028137  ENSG00000077549  ENSG00000127483  \\\n",
      "ENSG00000116251         0.083379    -1.722198e-02        -0.031251   \n",
      "ENSG00000116288        -0.091517    -1.534966e-01        -0.207612   \n",
      "ENSG00000074800         0.063253    -1.289905e-01        -0.028151   \n",
      "ENSG00000028137         0.000000    -9.469903e-02         0.099315   \n",
      "ENSG00000077549        -0.094699     1.110223e-16         0.009694   \n",
      "\n",
      "                 ENSG00000070831  ENSG00000142676  ENSG00000117602  \\\n",
      "ENSG00000116251        -0.278745         0.099328        -0.363721   \n",
      "ENSG00000116288        -0.141837         0.124437        -0.047946   \n",
      "ENSG00000074800        -0.239122         0.052075         0.017333   \n",
      "ENSG00000028137         0.120627         0.099951         0.079056   \n",
      "ENSG00000077549         0.082556         0.002732         0.206566   \n",
      "\n",
      "                 ENSG00000133226  ...  ENSG00000198712  ENSG00000228253  \\\n",
      "ENSG00000116251        -0.334698  ...        -0.087319         0.269374   \n",
      "ENSG00000116288        -0.002650  ...         0.049776         0.179402   \n",
      "ENSG00000074800        -0.046446  ...        -0.039852         0.027368   \n",
      "ENSG00000028137         0.183145  ...         0.134955         0.101377   \n",
      "ENSG00000077549         0.097024  ...         0.185802         0.042922   \n",
      "\n",
      "                 ENSG00000198899  ENSG00000198938  ENSG00000198840  \\\n",
      "ENSG00000116251        -0.353916        -0.227434         0.289996   \n",
      "ENSG00000116288         0.057796         0.081127         0.067662   \n",
      "ENSG00000074800         0.034489         0.160337        -0.039246   \n",
      "ENSG00000028137         0.192085         0.255729         0.113364   \n",
      "ENSG00000077549         0.165642         0.334194         0.005839   \n",
      "\n",
      "                 ENSG00000212907  ENSG00000198886  ENSG00000198786  \\\n",
      "ENSG00000116251         0.099133         0.109804        -0.082697   \n",
      "ENSG00000116288         0.142822         0.186757        -0.055170   \n",
      "ENSG00000074800        -0.151934         0.087238         0.002689   \n",
      "ENSG00000028137         0.201169         0.292159         0.190915   \n",
      "ENSG00000077549         0.060792         0.063638         0.146270   \n",
      "\n",
      "                 ENSG00000198695  ENSG00000198727  \n",
      "ENSG00000116251        -0.197591        -0.205115  \n",
      "ENSG00000116288        -0.088500         0.132887  \n",
      "ENSG00000074800        -0.109502        -0.023405  \n",
      "ENSG00000028137         0.012814         0.263996  \n",
      "ENSG00000077549         0.219394         0.248772  \n",
      "\n",
      "[5 rows x 603 columns]\n",
      "Dimensions of the correlation matrix for young donors: (603, 603)\n",
      "Dimensions of the correlation matrix for old donors: (603, 603)\n"
     ]
    }
   ],
   "source": [
    "# Find the differences in correlation between young and old donors\n",
    "diff_corr = corr_df_young - corr_df_old\n",
    "print(\"Difference in correlation between young and old donors:\")\n",
    "print(diff_corr.head())\n",
    "\n",
    "# Assert that the diagonal of the difference correlation matrix is 0\n",
    "assert np.all(diff_corr.values.diagonal() <= 1.0e-10), \"Diagonal of the difference correlation matrix is not zero\"\n",
    "\n",
    "# Print the dimensions of the correlation matrices\n",
    "print(\"Dimensions of the correlation matrix for young donors:\", corr_df_young.shape)\n",
    "print(\"Dimensions of the correlation matrix for old donors:\", corr_df_old.shape)"
   ]
  },
  {
   "cell_type": "code",
   "execution_count": 85,
   "id": "b44b9eff",
   "metadata": {},
   "outputs": [],
   "source": [
    "# Find the top 10 genes pairs with the largest absolute difference in correlation\n",
    "top_diff_genes = diff_corr.abs().unstack().sort_values(ascending=False)"
   ]
  },
  {
   "cell_type": "code",
   "execution_count": 86,
   "id": "f61081bc",
   "metadata": {},
   "outputs": [],
   "source": [
    "# Find the correlation between ENSG00000197111 and ENSG00000179094 in diff corr\n",
    "gene = \"ENSG00000197111\"\n",
    "gene2 = \"ENSG00000179094\"\n",
    "if gene in diff_corr.columns and gene2 in diff_corr.columns:\n",
    "    correlation = diff_corr.loc[gene, gene2]\n",
    "    print(f\"Correlation between {gene} and {gene2} in the difference correlation matrix: {correlation}\")\n",
    "\n",
    "# Find the correlation between ENSG00000197111 and ENSG00000179094 in young donors\n",
    "if gene in corr_df_young.columns and gene2 in corr_df_young.columns:\n",
    "    correlation_young = corr_df_young.loc[gene, gene2]\n",
    "    print(f\"Correlation between {gene} and {gene2} in young donors: {correlation_young}\")\n",
    "\n",
    "# Find the correlation between ENSG00000197111 and ENSG00000179094 in old donors\n",
    "if gene in corr_df_old.columns and gene2 in corr_df_old.columns:\n",
    "    correlation_old = corr_df_old.loc[gene, gene2]\n",
    "    print(f\"Correlation between {gene} and {gene2} in old donors: {correlation_old}\")"
   ]
  },
  {
   "cell_type": "code",
   "execution_count": 87,
   "id": "7dad1455",
   "metadata": {},
   "outputs": [
    {
     "name": "stdout",
     "output_type": "stream",
     "text": [
      "Top 10 gene pairs with the largest absolute difference in correlation:\n",
      "ENSG00000197111  ENSG00000163599    0.741812\n",
      "ENSG00000163599  ENSG00000197111    0.741812\n",
      "ENSG00000099622  ENSG00000198695    0.702067\n",
      "ENSG00000198695  ENSG00000099622    0.702067\n",
      "ENSG00000124614  ENSG00000167658    0.681620\n",
      "ENSG00000167658  ENSG00000124614    0.681620\n",
      "ENSG00000149806  ENSG00000146278    0.655192\n",
      "ENSG00000146278  ENSG00000149806    0.655192\n",
      "ENSG00000090104  ENSG00000197111    0.652374\n",
      "ENSG00000197111  ENSG00000090104    0.652374\n",
      "dtype: float64\n"
     ]
    }
   ],
   "source": [
    "print(\"Top 10 gene pairs with the largest absolute difference in correlation:\")\n",
    "print(top_diff_genes.head(10))"
   ]
  },
  {
   "cell_type": "code",
   "execution_count": 88,
   "id": "5bb36abc",
   "metadata": {},
   "outputs": [],
   "source": [
    "# We define a significant difference as a difference greater than 0.3\n",
    "significant_diff = 0.3\n",
    "\n",
    "# We want to create a network of genes with a significant difference in correlation between young and old donors\n",
    "# So we want to make a list of all the genes and for every gene we want a list with all the genes that are significantly different\n",
    "# in correlation with that gene so for example if gene A has a significant difference in correlation with gene B and gene C\n",
    "# we want to add B and C to the list of gene A [A: [B, C]]\n",
    "# We will use a dictionary to store the results\n",
    "significant_diff_dict = {}\n",
    "for gene in corr_df_young.columns:\n",
    "    # Get the differences in correlation for the current gene\n",
    "    diff_for_gene = diff_corr[gene]\n",
    "    \n",
    "    # Find genes with significant differences\n",
    "    significant_genes = diff_for_gene[diff_for_gene.abs() > significant_diff].index.tolist()\n",
    "    \n",
    "    # Store the results in the dictionary\n",
    "    significant_diff_dict[gene] = significant_genes"
   ]
  },
  {
   "cell_type": "code",
   "execution_count": 89,
   "id": "0dd10799",
   "metadata": {},
   "outputs": [],
   "source": [
    "# Plot the genes with the most significant differences\n",
    "# We will plot the top 10 genes with the most significant differences in the dictionary\n",
    "top_genes = sorted(significant_diff_dict.items(), key=lambda x: len(x[1]), reverse=True)\n"
   ]
  },
  {
   "cell_type": "code",
   "execution_count": 90,
   "id": "b9fb37cc",
   "metadata": {},
   "outputs": [
    {
     "name": "stdout",
     "output_type": "stream",
     "text": [
      "Top 10 gene pairs with the most amount of difference in correlation:\n",
      "ENSG00000124614: 158\n",
      "ENSG00000173812: 150\n",
      "ENSG00000179144: 147\n",
      "ENSG00000163599: 146\n",
      "ENSG00000197111: 139\n",
      "ENSG00000133574: 138\n",
      "ENSG00000146278: 136\n",
      "ENSG00000163191: 130\n",
      "ENSG00000100906: 129\n",
      "ENSG00000196924: 129\n",
      "ENSG00000115053: 128\n",
      "ENSG00000231925: 127\n",
      "Top 10 gene pairs with the least amount of differences in correlation:\n",
      "ENSG00000026025: 1\n",
      "ENSG00000166337: 1\n",
      "ENSG00000104964: 1\n",
      "ENSG00000100300: 1\n",
      "ENSG00000129824: 1\n",
      "ENSG00000116824: 0\n",
      "ENSG00000167552: 0\n",
      "ENSG00000100911: 0\n",
      "ENSG00000166794: 0\n",
      "ENSG00000221983: 0\n",
      "Total number of connections in the network: 22236\n",
      "Total number of connections in the network for the top 12 genes: 11699\n"
     ]
    }
   ],
   "source": [
    "print(\"Top 10 gene pairs with the most amount of difference in correlation:\")\n",
    "top_genes_replace_list_with_length = {}\n",
    "for gene, diff_genes in top_genes[:12]:\n",
    "    print(f\"{gene}: {len(diff_genes)}\")\n",
    "    top_genes_replace_list_with_length[gene] = len(diff_genes)\n",
    "# print(top_genes_replace_list_with_length)\n",
    "\n",
    "# Plot the top 10 genes with the least significant differences in the dictionary\n",
    "top_genes_replace_list_with_length = {}\n",
    "print(\"Top 10 gene pairs with the least amount of differences in correlation:\")\n",
    "for gene, diff_genes in top_genes[-10:]:\n",
    "    print(f\"{gene}: {len(diff_genes)}\")\n",
    "    top_genes_replace_list_with_length[gene] = len(diff_genes)\n",
    "# print(top_genes_replace_list_with_length)\n",
    "\n",
    "\n",
    "# Count the total number of connections in the network\n",
    "total_connections = sum(len(diff_genes) for diff_genes in significant_diff_dict.values())\n",
    "\n",
    "# Count the total number of connections in the network for the top 120 genes\n",
    "total_connections_top_120 = 0\n",
    "for gene, diff_genes in top_genes[:120]:\n",
    "    total_connections_top_120 += len(diff_genes)\n",
    "\n",
    "print(\"Total number of connections in the network:\", total_connections)\n",
    "print(\"Total number of connections in the network for the top 12 genes:\", total_connections_top_120)"
   ]
  },
  {
   "cell_type": "code",
   "execution_count": null,
   "id": "ee4866c2",
   "metadata": {},
   "outputs": [],
   "source": []
  }
 ],
 "metadata": {
  "kernelspec": {
   "display_name": "base",
   "language": "python",
   "name": "python3"
  },
  "language_info": {
   "codemirror_mode": {
    "name": "ipython",
    "version": 3
   },
   "file_extension": ".py",
   "mimetype": "text/x-python",
   "name": "python",
   "nbconvert_exporter": "python",
   "pygments_lexer": "ipython3",
   "version": "3.11.4"
  }
 },
 "nbformat": 4,
 "nbformat_minor": 5
}
