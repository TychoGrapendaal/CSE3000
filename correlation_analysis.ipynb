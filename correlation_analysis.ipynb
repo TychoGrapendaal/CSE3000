{
 "cells": [
  {
   "cell_type": "markdown",
   "id": "de74baa0",
   "metadata": {},
   "source": [
    "# Correlation Analysis"
   ]
  },
  {
   "cell_type": "code",
   "execution_count": 30,
   "id": "edb0606d",
   "metadata": {},
   "outputs": [
    {
     "name": "stdout",
     "output_type": "stream",
     "text": [
      "0.11.4\n"
     ]
    }
   ],
   "source": [
    "import numpy as np\n",
    "import pandas as pd\n",
    "import anndata as ad\n",
    "from scipy.sparse import csr_matrix\n",
    "from scipy.sparse import issparse\n",
    "import scanpy as sc\n",
    "import scipy.stats\n",
    "from scipy.stats import pearsonr\n",
    "import matplotlib.pyplot as plt\n",
    "import seaborn as sns\n",
    "print(ad.__version__)"
   ]
  },
  {
   "cell_type": "code",
   "execution_count": 31,
   "id": "cdab252c",
   "metadata": {},
   "outputs": [
    {
     "name": "stdout",
     "output_type": "stream",
     "text": [
      "AnnData object with n_obs × n_vars = 42 × 611\n",
      "    obs: 'reference_genome', 'gene_annotation_version', 'alignment_software', 'intronic_reads_counted', 'library_id', 'assay_ontology_term_id', 'sequenced_fragment', 'cell_number_loaded', 'institute', 'is_primary_data', 'cell_type_ontology_term_id', 'author_cell_type', 'sample_id', 'sample_preservation_method', 'tissue_ontology_term_id', 'development_stage_ontology_term_id', 'sample_collection_method', 'donor_BMI_at_collection', 'tissue_type', 'suspension_derivation_process', 'suspension_enriched_cell_types', 'cell_viability_percentage', 'suspension_uuid', 'suspension_type', 'self_reported_ethnicity_ontology_term_id', 'donor_living_at_sample_collection', 'organism_ontology_term_id', 'disease_ontology_term_id', 'sex_ontology_term_id', 'Country', 'nCount_RNA', 'nFeature_RNA', 'TCR_VDJdb', 'TCRa_V_gene', 'TCRa_D_gene', 'TCRa_J_gene', 'TCRa_C_gene', 'TCRb_V_gene', 'TCRb_D_gene', 'TCRb_J_gene', 'TCRb_C_gene', 'TCR_Clonality', 'TCR_Clone_ID', 'BCR_VDJ_V_call', 'BCR_VDJ_D_call', 'BCR_VDJ_J_call', 'BCR_VDJ_C_call', 'BCR_VJ_V_call', 'BCR_VJ_J_call', 'BCR_VJ_C_call', 'BCR_Clonality', 'BCR_Clone_size', 'BCR_mu_freq', 'cell_type', 'assay', 'disease', 'organism', 'sex', 'tissue', 'self_reported_ethnicity', 'development_stage', 'observation_joinid', 'n_cells'\n",
      "    var: 'feature_is_filtered', 'feature_name', 'feature_reference', 'feature_biotype', 'feature_length', 'feature_type'\n",
      "    uns: 'citation', 'default_embedding', 'schema_reference', 'schema_version', 'title'\n",
      "AnnData object with n_obs × n_vars = 36 × 611\n",
      "    obs: 'reference_genome', 'gene_annotation_version', 'alignment_software', 'intronic_reads_counted', 'library_id', 'assay_ontology_term_id', 'sequenced_fragment', 'cell_number_loaded', 'institute', 'is_primary_data', 'cell_type_ontology_term_id', 'author_cell_type', 'sample_id', 'sample_preservation_method', 'tissue_ontology_term_id', 'development_stage_ontology_term_id', 'sample_collection_method', 'donor_BMI_at_collection', 'tissue_type', 'suspension_derivation_process', 'suspension_enriched_cell_types', 'cell_viability_percentage', 'suspension_uuid', 'suspension_type', 'self_reported_ethnicity_ontology_term_id', 'donor_living_at_sample_collection', 'organism_ontology_term_id', 'disease_ontology_term_id', 'sex_ontology_term_id', 'Country', 'nCount_RNA', 'nFeature_RNA', 'TCR_VDJdb', 'TCRa_V_gene', 'TCRa_D_gene', 'TCRa_J_gene', 'TCRa_C_gene', 'TCRb_V_gene', 'TCRb_D_gene', 'TCRb_J_gene', 'TCRb_C_gene', 'TCR_Clonality', 'TCR_Clone_ID', 'BCR_VDJ_V_call', 'BCR_VDJ_D_call', 'BCR_VDJ_J_call', 'BCR_VDJ_C_call', 'BCR_VJ_V_call', 'BCR_VJ_J_call', 'BCR_VJ_C_call', 'BCR_Clonality', 'BCR_Clone_size', 'BCR_mu_freq', 'cell_type', 'assay', 'disease', 'organism', 'sex', 'tissue', 'self_reported_ethnicity', 'development_stage', 'observation_joinid', 'n_cells'\n",
      "    var: 'feature_is_filtered', 'feature_name', 'feature_reference', 'feature_biotype', 'feature_length', 'feature_type'\n",
      "    uns: 'citation', 'default_embedding', 'schema_reference', 'schema_version', 'title'\n",
      "AnnData object with n_obs × n_vars = 17 × 611\n",
      "    obs: 'reference_genome', 'gene_annotation_version', 'alignment_software', 'intronic_reads_counted', 'library_id', 'assay_ontology_term_id', 'sequenced_fragment', 'cell_number_loaded', 'institute', 'is_primary_data', 'cell_type_ontology_term_id', 'author_cell_type', 'sample_id', 'sample_preservation_method', 'tissue_ontology_term_id', 'development_stage_ontology_term_id', 'sample_collection_method', 'donor_BMI_at_collection', 'tissue_type', 'suspension_derivation_process', 'suspension_enriched_cell_types', 'cell_viability_percentage', 'suspension_uuid', 'suspension_type', 'self_reported_ethnicity_ontology_term_id', 'donor_living_at_sample_collection', 'organism_ontology_term_id', 'disease_ontology_term_id', 'sex_ontology_term_id', 'Country', 'nCount_RNA', 'nFeature_RNA', 'TCR_VDJdb', 'TCRa_V_gene', 'TCRa_D_gene', 'TCRa_J_gene', 'TCRa_C_gene', 'TCRb_V_gene', 'TCRb_D_gene', 'TCRb_J_gene', 'TCRb_C_gene', 'TCR_Clonality', 'TCR_Clone_ID', 'BCR_VDJ_V_call', 'BCR_VDJ_D_call', 'BCR_VDJ_J_call', 'BCR_VDJ_C_call', 'BCR_VJ_V_call', 'BCR_VJ_J_call', 'BCR_VJ_C_call', 'BCR_Clonality', 'BCR_Clone_size', 'BCR_mu_freq', 'cell_type', 'assay', 'disease', 'organism', 'sex', 'tissue', 'self_reported_ethnicity', 'development_stage', 'observation_joinid', 'n_cells'\n",
      "    var: 'feature_is_filtered', 'feature_name', 'feature_reference', 'feature_biotype', 'feature_length', 'feature_type'\n",
      "    uns: 'citation', 'default_embedding', 'schema_reference', 'schema_version', 'title'\n"
     ]
    }
   ],
   "source": [
    "# Load young and old data\n",
    "# cell_types = [\n",
    "#     \"CD4-positive, alpha-beta T cell\",\n",
    "#     \"CD8-positive, alpha-beta memory T cell\",\n",
    "#     \"CD8-positive, alpha-beta T cell\",\n",
    "#     \"central memory CD4-positive, alpha-beta T cell\",\n",
    "#     \"double negative T regulatory cell\",\n",
    "#     \"effector memory CD4-positive, alpha-beta T cell\",\n",
    "#     \"gamma-delta T cell\",\n",
    "#     \"innate lymphoid cell\",\n",
    "#     \"regulatory T cell\"\n",
    "# ]\n",
    "\n",
    "cell_type = \"innate lymphoid cell\"\n",
    "young_path = \"new_subsets/{}_young_donors.h5ad\".format(cell_type)\n",
    "middle_path = \"new_subsets/{}_middle_donors.h5ad\".format(cell_type)\n",
    "old_path = \"new_subsets/{}_old_donors.h5ad\".format(cell_type)\n",
    "adata_young = ad.read_h5ad(young_path)\n",
    "adata_middle = ad.read_h5ad(middle_path)\n",
    "adata_old = ad.read_h5ad(old_path)\n",
    "print(adata_young)\n",
    "print(adata_middle)\n",
    "print(adata_old)"
   ]
  },
  {
   "cell_type": "code",
   "execution_count": 32,
   "id": "fe72d521",
   "metadata": {},
   "outputs": [
    {
     "name": "stdout",
     "output_type": "stream",
     "text": [
      "All genes expressed at least once in young dataset\n",
      "All genes expressed at least once in middle dataset\n",
      "All genes expressed at least once in old dataset\n"
     ]
    }
   ],
   "source": [
    "# Check that every gene is expressed at least once in each dataset in .X\n",
    "young_check = np.sum(adata_young.X != 0, axis=0)\n",
    "middle_check = np.sum(adata_middle.X != 0, axis=0)\n",
    "old_check = np.sum(adata_old.X != 0, axis=0)\n",
    "\n",
    "# Check that every number in young_check is greater than 0\n",
    "if np.all(young_check > 0):\n",
    "    print(\"All genes expressed at least once in young dataset\")\n",
    "\n",
    "if np.all(middle_check > 0):\n",
    "    print(\"All genes expressed at least once in middle dataset\")\n",
    "\n",
    "# Check that every number in old_check is greater than 0\n",
    "if np.all(old_check > 0):\n",
    "    print(\"All genes expressed at least once in old dataset\")"
   ]
  },
  {
   "cell_type": "code",
   "execution_count": 33,
   "id": "21066b78",
   "metadata": {},
   "outputs": [],
   "source": [
    "# Get the expression matrix (cells x genes)\n",
    "if issparse(adata_young.X):\n",
    "    expr_matrix = adata_young.X.toarray()  # Convert sparse to dense if needed\n",
    "else:\n",
    "    expr_matrix = adata_young.X\n",
    "\n",
    "# Transpose to genes x cells for correlation calculation\n",
    "expr_matrix = expr_matrix.T\n",
    "\n",
    "# Calculate correlation matrix (Pearson)\n",
    "corr_matrix = np.corrcoef(expr_matrix)\n",
    "\n",
    "# Convert to DataFrame for easier handling\n",
    "gene_names = adata_young.var_names\n",
    "corr_df_young = pd.DataFrame(corr_matrix, index=gene_names, columns=gene_names)"
   ]
  },
  {
   "cell_type": "code",
   "execution_count": 34,
   "id": "8861d15c",
   "metadata": {},
   "outputs": [],
   "source": [
    "# # Get the expression matrix (cells x genes)\n",
    "# if issparse(adata_young.X):\n",
    "#     expr_matrix = adata_young.X.toarray()  # Convert sparse to dense if needed\n",
    "# else:\n",
    "#     expr_matrix = adata_young.X\n",
    "\n",
    "# # Transpose to genes x cells for correlation calculation\n",
    "# expr_matrix = expr_matrix.T\n",
    "\n",
    "# # Get gene names\n",
    "# gene_names = adata_young.var_names\n",
    "# n_genes = len(gene_names)\n",
    "\n",
    "# # Initialize correlation and p-value matrices\n",
    "# corr_matrix = np.zeros((n_genes, n_genes))\n",
    "# p_matrix = np.zeros((n_genes, n_genes))\n",
    "\n",
    "# # Calculate correlation and p-value for each gene pair\n",
    "# for i in range(n_genes):\n",
    "#     for j in range(i, n_genes):  # Take advantage of symmetry\n",
    "#         corr, p_val = pearsonr(expr_matrix[i], expr_matrix[j])\n",
    "#         corr_matrix[i, j] = corr\n",
    "#         corr_matrix[j, i] = corr  # Symmetric\n",
    "#         p_matrix[i, j] = p_val\n",
    "#         p_matrix[j, i] = p_val  # Symmetric\n",
    "\n",
    "# # Convert to DataFrames\n",
    "# corr_df_young = pd.DataFrame(corr_matrix, index=gene_names, columns=gene_names)\n",
    "# p_value_df_young = pd.DataFrame(p_matrix, index=gene_names, columns=gene_names)\n",
    "\n",
    "# # Print the p-value DataFrame\n",
    "# print(corr_df_young)\n",
    "# print(p_value_df_young)"
   ]
  },
  {
   "cell_type": "code",
   "execution_count": 35,
   "id": "a5213fb8",
   "metadata": {},
   "outputs": [
    {
     "name": "stdout",
     "output_type": "stream",
     "text": [
      "Diagonal of the correlation matrix (should be 1):\n",
      "[1. 1. 1. 1. 1. 1. 1. 1. 1. 1. 1. 1. 1. 1. 1. 1. 1. 1. 1. 1. 1. 1. 1. 1.\n",
      " 1. 1. 1. 1. 1. 1. 1. 1. 1. 1. 1. 1. 1. 1. 1. 1. 1. 1. 1. 1. 1. 1. 1. 1.\n",
      " 1. 1. 1. 1. 1. 1. 1. 1. 1. 1. 1. 1. 1. 1. 1. 1. 1. 1. 1. 1. 1. 1. 1. 1.\n",
      " 1. 1. 1. 1. 1. 1. 1. 1. 1. 1. 1. 1. 1. 1. 1. 1. 1. 1. 1. 1. 1. 1. 1. 1.\n",
      " 1. 1. 1. 1. 1. 1. 1. 1. 1. 1. 1. 1. 1. 1. 1. 1. 1. 1. 1. 1. 1. 1. 1. 1.\n",
      " 1. 1. 1. 1. 1. 1. 1. 1. 1. 1. 1. 1. 1. 1. 1. 1. 1. 1. 1. 1. 1. 1. 1. 1.\n",
      " 1. 1. 1. 1. 1. 1. 1. 1. 1. 1. 1. 1. 1. 1. 1. 1. 1. 1. 1. 1. 1. 1. 1. 1.\n",
      " 1. 1. 1. 1. 1. 1. 1. 1. 1. 1. 1. 1. 1. 1. 1. 1. 1. 1. 1. 1. 1. 1. 1. 1.\n",
      " 1. 1. 1. 1. 1. 1. 1. 1. 1. 1. 1. 1. 1. 1. 1. 1. 1. 1. 1. 1. 1. 1. 1. 1.\n",
      " 1. 1. 1. 1. 1. 1. 1. 1. 1. 1. 1. 1. 1. 1. 1. 1. 1. 1. 1. 1. 1. 1. 1. 1.\n",
      " 1. 1. 1. 1. 1. 1. 1. 1. 1. 1. 1. 1. 1. 1. 1. 1. 1. 1. 1. 1. 1. 1. 1. 1.\n",
      " 1. 1. 1. 1. 1. 1. 1. 1. 1. 1. 1. 1. 1. 1. 1. 1. 1. 1. 1. 1. 1. 1. 1. 1.\n",
      " 1. 1. 1. 1. 1. 1. 1. 1. 1. 1. 1. 1. 1. 1. 1. 1. 1. 1. 1. 1. 1. 1. 1. 1.\n",
      " 1. 1. 1. 1. 1. 1. 1. 1. 1. 1. 1. 1. 1. 1. 1. 1. 1. 1. 1. 1. 1. 1. 1. 1.\n",
      " 1. 1. 1. 1. 1. 1. 1. 1. 1. 1. 1. 1. 1. 1. 1. 1. 1. 1. 1. 1. 1. 1. 1. 1.\n",
      " 1. 1. 1. 1. 1. 1. 1. 1. 1. 1. 1. 1. 1. 1. 1. 1. 1. 1. 1. 1. 1. 1. 1. 1.\n",
      " 1. 1. 1. 1. 1. 1. 1. 1. 1. 1. 1. 1. 1. 1. 1. 1. 1. 1. 1. 1. 1. 1. 1. 1.\n",
      " 1. 1. 1. 1. 1. 1. 1. 1. 1. 1. 1. 1. 1. 1. 1. 1. 1. 1. 1. 1. 1. 1. 1. 1.\n",
      " 1. 1. 1. 1. 1. 1. 1. 1. 1. 1. 1. 1. 1. 1. 1. 1. 1. 1. 1. 1. 1. 1. 1. 1.\n",
      " 1. 1. 1. 1. 1. 1. 1. 1. 1. 1. 1. 1. 1. 1. 1. 1. 1. 1. 1. 1. 1. 1. 1. 1.\n",
      " 1. 1. 1. 1. 1. 1. 1. 1. 1. 1. 1. 1. 1. 1. 1. 1. 1. 1. 1. 1. 1. 1. 1. 1.\n",
      " 1. 1. 1. 1. 1. 1. 1. 1. 1. 1. 1. 1. 1. 1. 1. 1. 1. 1. 1. 1. 1. 1. 1. 1.\n",
      " 1. 1. 1. 1. 1. 1. 1. 1. 1. 1. 1. 1. 1. 1. 1. 1. 1. 1. 1. 1. 1. 1. 1. 1.\n",
      " 1. 1. 1. 1. 1. 1. 1. 1. 1. 1. 1. 1. 1. 1. 1. 1. 1. 1. 1. 1. 1. 1. 1. 1.\n",
      " 1. 1. 1. 1. 1. 1. 1. 1. 1. 1. 1. 1. 1. 1. 1. 1. 1. 1. 1. 1. 1. 1. 1. 1.\n",
      " 1. 1. 1. 1. 1. 1. 1. 1. 1. 1. 1.]\n",
      "Number of NaN values in the correlation matrix:\n",
      "0\n"
     ]
    }
   ],
   "source": [
    "# Print the diagonal of the correlation matrix and check for NaN values\n",
    "print(\"Diagonal of the correlation matrix (should be 1):\")\n",
    "print(corr_df_young.values.diagonal())\n",
    "print(\"Number of NaN values in the correlation matrix:\")\n",
    "print(np.isnan(corr_df_young.values).sum())"
   ]
  },
  {
   "cell_type": "code",
   "execution_count": 36,
   "id": "773e321a",
   "metadata": {},
   "outputs": [
    {
     "name": "stdout",
     "output_type": "stream",
     "text": [
      "First few rows of the correlation matrix:\n",
      "                 ENSG00000116251  ENSG00000215788  ENSG00000074800  \\\n",
      "ENSG00000116251         1.000000         0.202123        -0.025551   \n",
      "ENSG00000215788         0.202123         1.000000         0.092317   \n",
      "ENSG00000074800        -0.025551         0.092317         1.000000   \n",
      "ENSG00000077549         0.104709         0.152751         0.279388   \n",
      "ENSG00000127483        -0.066749         0.034313         0.185094   \n",
      "\n",
      "                 ENSG00000077549  ENSG00000127483  ENSG00000070831  \\\n",
      "ENSG00000116251         0.104709        -0.066749         0.432288   \n",
      "ENSG00000215788         0.152751         0.034313         0.253403   \n",
      "ENSG00000074800         0.279388         0.185094        -0.057536   \n",
      "ENSG00000077549         1.000000         0.050217        -0.000105   \n",
      "ENSG00000127483         0.050217         1.000000        -0.059671   \n",
      "\n",
      "                 ENSG00000142676  ENSG00000133226  ENSG00000117616  \\\n",
      "ENSG00000116251         0.051005        -0.256279        -0.044856   \n",
      "ENSG00000215788        -0.214541        -0.250358         0.198623   \n",
      "ENSG00000074800        -0.128038        -0.149564        -0.235492   \n",
      "ENSG00000077549         0.177497        -0.357771        -0.066624   \n",
      "ENSG00000127483         0.194262         0.070907         0.057835   \n",
      "\n",
      "                 ENSG00000183726  ...  ENSG00000198712  ENSG00000228253  \\\n",
      "ENSG00000116251        -0.016197  ...        -0.095661         0.243384   \n",
      "ENSG00000215788        -0.061230  ...        -0.196917         0.102770   \n",
      "ENSG00000074800         0.150734  ...        -0.087078        -0.023396   \n",
      "ENSG00000077549         0.111715  ...        -0.079802         0.151715   \n",
      "ENSG00000127483         0.053489  ...        -0.302072        -0.140670   \n",
      "\n",
      "                 ENSG00000198899  ENSG00000198938  ENSG00000198840  \\\n",
      "ENSG00000116251        -0.151668         0.189292         0.085473   \n",
      "ENSG00000215788        -0.313594         0.009041        -0.228730   \n",
      "ENSG00000074800         0.078339         0.094265        -0.011665   \n",
      "ENSG00000077549        -0.081117         0.063736        -0.059138   \n",
      "ENSG00000127483        -0.375121        -0.094813         0.031968   \n",
      "\n",
      "                 ENSG00000212907  ENSG00000198886  ENSG00000198786  \\\n",
      "ENSG00000116251         0.095670        -0.137533         0.159314   \n",
      "ENSG00000215788        -0.071999        -0.296834        -0.378815   \n",
      "ENSG00000074800        -0.224350         0.015808        -0.158361   \n",
      "ENSG00000077549        -0.097867        -0.075884         0.020438   \n",
      "ENSG00000127483        -0.190369         0.007915        -0.280703   \n",
      "\n",
      "                 ENSG00000198695  ENSG00000198727  \n",
      "ENSG00000116251         0.010296         0.148135  \n",
      "ENSG00000215788        -0.224338        -0.181032  \n",
      "ENSG00000074800        -0.111626        -0.079700  \n",
      "ENSG00000077549        -0.136727        -0.159284  \n",
      "ENSG00000127483         0.125147        -0.273517  \n",
      "\n",
      "[5 rows x 611 columns]\n"
     ]
    }
   ],
   "source": [
    "# Print the first few rows of the correlation matrix\n",
    "print(\"First few rows of the correlation matrix:\")\n",
    "print(corr_df_young.head())\n",
    "\n",
    "# Plot the correlation matrix\n",
    "# plt.figure(figsize=(10, 8))\n",
    "# sns.heatmap(corr_df_young, cmap='coolwarm', center=0, square=True, cbar_kws={\"shrink\": .8})\n",
    "# plt.title(\"Correlation Matrix of Gene Expression\")\n",
    "# plt.xlabel(\"Genes\")\n",
    "# plt.ylabel(\"Genes\")\n",
    "# plt.show()"
   ]
  },
  {
   "cell_type": "code",
   "execution_count": 37,
   "id": "18685381",
   "metadata": {},
   "outputs": [
    {
     "name": "stdout",
     "output_type": "stream",
     "text": [
      "ENSG00000090104 not found in the dataset\n"
     ]
    }
   ],
   "source": [
    "# Find top correlated genes for a specific gene of interest\n",
    "target_gene = \"ENSG00000090104\"\n",
    "if target_gene in corr_df_young.columns:\n",
    "    target_correlations = corr_df_young[target_gene].sort_values(ascending=False)\n",
    "    print(f\"Top genes correlated with {target_gene}:\")\n",
    "    print(target_correlations.head(110))\n",
    "else:\n",
    "    print(f\"{target_gene} not found in the dataset\")"
   ]
  },
  {
   "cell_type": "code",
   "execution_count": 38,
   "id": "9bbdff00",
   "metadata": {},
   "outputs": [],
   "source": [
    "# Get the expression matrix (cells x genes)\n",
    "if issparse(adata_middle.X):\n",
    "    expr_matrix = adata_middle.X.toarray()  # Convert sparse to dense if needed\n",
    "else:\n",
    "    expr_matrix = adata_middle.X\n",
    "\n",
    "# Transpose to genes x cells for correlation calculation\n",
    "expr_matrix = expr_matrix.T\n",
    "\n",
    "# Calculate correlation matrix (Pearson)\n",
    "corr_matrix = np.corrcoef(expr_matrix)\n",
    "\n",
    "# Convert to DataFrame for easier handling\n",
    "gene_names = adata_middle.var_names\n",
    "corr_df_middle = pd.DataFrame(corr_matrix, index=gene_names, columns=gene_names)"
   ]
  },
  {
   "cell_type": "code",
   "execution_count": 39,
   "id": "23065bc0",
   "metadata": {},
   "outputs": [
    {
     "name": "stdout",
     "output_type": "stream",
     "text": [
      "Diagonal of the correlation matrix (should be 1):\n",
      "[1. 1. 1. 1. 1. 1. 1. 1. 1. 1. 1. 1. 1. 1. 1. 1. 1. 1. 1. 1. 1. 1. 1. 1.\n",
      " 1. 1. 1. 1. 1. 1. 1. 1. 1. 1. 1. 1. 1. 1. 1. 1. 1. 1. 1. 1. 1. 1. 1. 1.\n",
      " 1. 1. 1. 1. 1. 1. 1. 1. 1. 1. 1. 1. 1. 1. 1. 1. 1. 1. 1. 1. 1. 1. 1. 1.\n",
      " 1. 1. 1. 1. 1. 1. 1. 1. 1. 1. 1. 1. 1. 1. 1. 1. 1. 1. 1. 1. 1. 1. 1. 1.\n",
      " 1. 1. 1. 1. 1. 1. 1. 1. 1. 1. 1. 1. 1. 1. 1. 1. 1. 1. 1. 1. 1. 1. 1. 1.\n",
      " 1. 1. 1. 1. 1. 1. 1. 1. 1. 1. 1. 1. 1. 1. 1. 1. 1. 1. 1. 1. 1. 1. 1. 1.\n",
      " 1. 1. 1. 1. 1. 1. 1. 1. 1. 1. 1. 1. 1. 1. 1. 1. 1. 1. 1. 1. 1. 1. 1. 1.\n",
      " 1. 1. 1. 1. 1. 1. 1. 1. 1. 1. 1. 1. 1. 1. 1. 1. 1. 1. 1. 1. 1. 1. 1. 1.\n",
      " 1. 1. 1. 1. 1. 1. 1. 1. 1. 1. 1. 1. 1. 1. 1. 1. 1. 1. 1. 1. 1. 1. 1. 1.\n",
      " 1. 1. 1. 1. 1. 1. 1. 1. 1. 1. 1. 1. 1. 1. 1. 1. 1. 1. 1. 1. 1. 1. 1. 1.\n",
      " 1. 1. 1. 1. 1. 1. 1. 1. 1. 1. 1. 1. 1. 1. 1. 1. 1. 1. 1. 1. 1. 1. 1. 1.\n",
      " 1. 1. 1. 1. 1. 1. 1. 1. 1. 1. 1. 1. 1. 1. 1. 1. 1. 1. 1. 1. 1. 1. 1. 1.\n",
      " 1. 1. 1. 1. 1. 1. 1. 1. 1. 1. 1. 1. 1. 1. 1. 1. 1. 1. 1. 1. 1. 1. 1. 1.\n",
      " 1. 1. 1. 1. 1. 1. 1. 1. 1. 1. 1. 1. 1. 1. 1. 1. 1. 1. 1. 1. 1. 1. 1. 1.\n",
      " 1. 1. 1. 1. 1. 1. 1. 1. 1. 1. 1. 1. 1. 1. 1. 1. 1. 1. 1. 1. 1. 1. 1. 1.\n",
      " 1. 1. 1. 1. 1. 1. 1. 1. 1. 1. 1. 1. 1. 1. 1. 1. 1. 1. 1. 1. 1. 1. 1. 1.\n",
      " 1. 1. 1. 1. 1. 1. 1. 1. 1. 1. 1. 1. 1. 1. 1. 1. 1. 1. 1. 1. 1. 1. 1. 1.\n",
      " 1. 1. 1. 1. 1. 1. 1. 1. 1. 1. 1. 1. 1. 1. 1. 1. 1. 1. 1. 1. 1. 1. 1. 1.\n",
      " 1. 1. 1. 1. 1. 1. 1. 1. 1. 1. 1. 1. 1. 1. 1. 1. 1. 1. 1. 1. 1. 1. 1. 1.\n",
      " 1. 1. 1. 1. 1. 1. 1. 1. 1. 1. 1. 1. 1. 1. 1. 1. 1. 1. 1. 1. 1. 1. 1. 1.\n",
      " 1. 1. 1. 1. 1. 1. 1. 1. 1. 1. 1. 1. 1. 1. 1. 1. 1. 1. 1. 1. 1. 1. 1. 1.\n",
      " 1. 1. 1. 1. 1. 1. 1. 1. 1. 1. 1. 1. 1. 1. 1. 1. 1. 1. 1. 1. 1. 1. 1. 1.\n",
      " 1. 1. 1. 1. 1. 1. 1. 1. 1. 1. 1. 1. 1. 1. 1. 1. 1. 1. 1. 1. 1. 1. 1. 1.\n",
      " 1. 1. 1. 1. 1. 1. 1. 1. 1. 1. 1. 1. 1. 1. 1. 1. 1. 1. 1. 1. 1. 1. 1. 1.\n",
      " 1. 1. 1. 1. 1. 1. 1. 1. 1. 1. 1. 1. 1. 1. 1. 1. 1. 1. 1. 1. 1. 1. 1. 1.\n",
      " 1. 1. 1. 1. 1. 1. 1. 1. 1. 1. 1.]\n",
      "Number of NaN values in the correlation matrix:\n",
      "0\n"
     ]
    }
   ],
   "source": [
    "# Print the diagonal of the correlation matrix and check for NaN values\n",
    "print(\"Diagonal of the correlation matrix (should be 1):\")\n",
    "print(corr_df_middle.values.diagonal())\n",
    "print(\"Number of NaN values in the correlation matrix:\")\n",
    "print(np.isnan(corr_df_middle.values).sum())"
   ]
  },
  {
   "cell_type": "code",
   "execution_count": 40,
   "id": "3a855df8",
   "metadata": {},
   "outputs": [
    {
     "name": "stdout",
     "output_type": "stream",
     "text": [
      "First few rows of the correlation matrix:\n",
      "                 ENSG00000116251  ENSG00000215788  ENSG00000074800  \\\n",
      "ENSG00000116251         1.000000         0.100117        -0.086816   \n",
      "ENSG00000215788         0.100117         1.000000         0.085220   \n",
      "ENSG00000074800        -0.086816         0.085220         1.000000   \n",
      "ENSG00000077549        -0.168776         0.231050        -0.244126   \n",
      "ENSG00000127483        -0.266843         0.015699         0.164755   \n",
      "\n",
      "                 ENSG00000077549  ENSG00000127483  ENSG00000070831  \\\n",
      "ENSG00000116251        -0.168776        -0.266843        -0.093194   \n",
      "ENSG00000215788         0.231050         0.015699         0.104957   \n",
      "ENSG00000074800        -0.244126         0.164755        -0.044885   \n",
      "ENSG00000077549         1.000000         0.080102         0.068377   \n",
      "ENSG00000127483         0.080102         1.000000        -0.285592   \n",
      "\n",
      "                 ENSG00000142676  ENSG00000133226  ENSG00000117616  \\\n",
      "ENSG00000116251        -0.103460        -0.289344        -0.189044   \n",
      "ENSG00000215788        -0.051919        -0.012078         0.022469   \n",
      "ENSG00000074800        -0.065315        -0.032070         0.094426   \n",
      "ENSG00000077549        -0.108662         0.195913         0.330340   \n",
      "ENSG00000127483         0.126264        -0.004296         0.372308   \n",
      "\n",
      "                 ENSG00000183726  ...  ENSG00000198712  ENSG00000228253  \\\n",
      "ENSG00000116251        -0.282093  ...         0.029039         0.096396   \n",
      "ENSG00000215788         0.097982  ...        -0.024229         0.239715   \n",
      "ENSG00000074800         0.082083  ...        -0.235607        -0.191937   \n",
      "ENSG00000077549         0.099323  ...         0.035893         0.031052   \n",
      "ENSG00000127483         0.130393  ...        -0.225153         0.014314   \n",
      "\n",
      "                 ENSG00000198899  ENSG00000198938  ENSG00000198840  \\\n",
      "ENSG00000116251        -0.167554         0.148344         0.285512   \n",
      "ENSG00000215788        -0.250423         0.243308        -0.044696   \n",
      "ENSG00000074800         0.099667        -0.145094        -0.227993   \n",
      "ENSG00000077549         0.005852        -0.073572        -0.105539   \n",
      "ENSG00000127483        -0.169423        -0.312256        -0.014752   \n",
      "\n",
      "                 ENSG00000212907  ENSG00000198886  ENSG00000198786  \\\n",
      "ENSG00000116251         0.184981         0.092475         0.266470   \n",
      "ENSG00000215788        -0.107869         0.019105        -0.184021   \n",
      "ENSG00000074800        -0.184667        -0.282113         0.157795   \n",
      "ENSG00000077549        -0.029313         0.264426        -0.281972   \n",
      "ENSG00000127483        -0.402133        -0.000185        -0.302579   \n",
      "\n",
      "                 ENSG00000198695  ENSG00000198727  \n",
      "ENSG00000116251         0.007003         0.000963  \n",
      "ENSG00000215788        -0.269035        -0.003099  \n",
      "ENSG00000074800         0.176655        -0.293640  \n",
      "ENSG00000077549        -0.273053         0.156030  \n",
      "ENSG00000127483         0.052180        -0.018256  \n",
      "\n",
      "[5 rows x 611 columns]\n"
     ]
    }
   ],
   "source": [
    "# Print the first few rows of the correlation matrix\n",
    "print(\"First few rows of the correlation matrix:\")\n",
    "print(corr_df_middle.head())"
   ]
  },
  {
   "cell_type": "code",
   "execution_count": 41,
   "id": "f65ce06f",
   "metadata": {},
   "outputs": [
    {
     "name": "stdout",
     "output_type": "stream",
     "text": [
      "Top genes correlated with ENSG00000166710:\n",
      "ENSG00000166710    1.000000\n",
      "ENSG00000118680    0.461684\n",
      "ENSG00000204525    0.433591\n",
      "ENSG00000134333    0.428257\n",
      "ENSG00000147168    0.427039\n",
      "ENSG00000100097    0.425301\n",
      "ENSG00000228474    0.413232\n",
      "ENSG00000234745    0.411142\n",
      "ENSG00000197956    0.400355\n",
      "ENSG00000106153    0.396788\n",
      "Name: ENSG00000166710, dtype: float64\n"
     ]
    }
   ],
   "source": [
    "# Find top correlated genes for a specific gene of interest\n",
    "target_gene = \"ENSG00000166710\"\n",
    "if target_gene in corr_df_middle.columns:\n",
    "    target_correlations = corr_df_middle[target_gene].sort_values(ascending=False)\n",
    "    print(f\"Top genes correlated with {target_gene}:\")\n",
    "    print(target_correlations.head(10))\n",
    "else:\n",
    "    print(f\"{target_gene} not found in the dataset\")"
   ]
  },
  {
   "cell_type": "code",
   "execution_count": 42,
   "id": "e319aab9",
   "metadata": {},
   "outputs": [],
   "source": [
    "# Get the expression matrix for old donors\n",
    "if issparse(adata_old.X):\n",
    "    expr_matrix_old = adata_old.X.toarray()  # Convert sparse to dense if needed\n",
    "else:\n",
    "    expr_matrix_old = adata_old.X\n",
    "\n",
    "# Transpose to genes x cells for correlation calculation\n",
    "expr_matrix_old = expr_matrix_old.T\n",
    "\n",
    "# Calculate correlation matrix (Pearson) for old donors\n",
    "corr_matrix_old = np.corrcoef(expr_matrix_old)\n",
    "\n",
    "# Convert to DataFrame for easier handling\n",
    "corr_df_old = pd.DataFrame(corr_matrix_old, index=gene_names, columns=gene_names)"
   ]
  },
  {
   "cell_type": "code",
   "execution_count": 43,
   "id": "e7d577a6",
   "metadata": {},
   "outputs": [
    {
     "name": "stdout",
     "output_type": "stream",
     "text": [
      "Diagonal of the correlation matrix (should be 1):\n",
      "[1. 1. 1. 1. 1. 1. 1. 1. 1. 1. 1. 1. 1. 1. 1. 1. 1. 1. 1. 1. 1. 1. 1. 1.\n",
      " 1. 1. 1. 1. 1. 1. 1. 1. 1. 1. 1. 1. 1. 1. 1. 1. 1. 1. 1. 1. 1. 1. 1. 1.\n",
      " 1. 1. 1. 1. 1. 1. 1. 1. 1. 1. 1. 1. 1. 1. 1. 1. 1. 1. 1. 1. 1. 1. 1. 1.\n",
      " 1. 1. 1. 1. 1. 1. 1. 1. 1. 1. 1. 1. 1. 1. 1. 1. 1. 1. 1. 1. 1. 1. 1. 1.\n",
      " 1. 1. 1. 1. 1. 1. 1. 1. 1. 1. 1. 1. 1. 1. 1. 1. 1. 1. 1. 1. 1. 1. 1. 1.\n",
      " 1. 1. 1. 1. 1. 1. 1. 1. 1. 1. 1. 1. 1. 1. 1. 1. 1. 1. 1. 1. 1. 1. 1. 1.\n",
      " 1. 1. 1. 1. 1. 1. 1. 1. 1. 1. 1. 1. 1. 1. 1. 1. 1. 1. 1. 1. 1. 1. 1. 1.\n",
      " 1. 1. 1. 1. 1. 1. 1. 1. 1. 1. 1. 1. 1. 1. 1. 1. 1. 1. 1. 1. 1. 1. 1. 1.\n",
      " 1. 1. 1. 1. 1. 1. 1. 1. 1. 1. 1. 1. 1. 1. 1. 1. 1. 1. 1. 1. 1. 1. 1. 1.\n",
      " 1. 1. 1. 1. 1. 1. 1. 1. 1. 1. 1. 1. 1. 1. 1. 1. 1. 1. 1. 1. 1. 1. 1. 1.\n",
      " 1. 1. 1. 1. 1. 1. 1. 1. 1. 1. 1. 1. 1. 1. 1. 1. 1. 1. 1. 1. 1. 1. 1. 1.\n",
      " 1. 1. 1. 1. 1. 1. 1. 1. 1. 1. 1. 1. 1. 1. 1. 1. 1. 1. 1. 1. 1. 1. 1. 1.\n",
      " 1. 1. 1. 1. 1. 1. 1. 1. 1. 1. 1. 1. 1. 1. 1. 1. 1. 1. 1. 1. 1. 1. 1. 1.\n",
      " 1. 1. 1. 1. 1. 1. 1. 1. 1. 1. 1. 1. 1. 1. 1. 1. 1. 1. 1. 1. 1. 1. 1. 1.\n",
      " 1. 1. 1. 1. 1. 1. 1. 1. 1. 1. 1. 1. 1. 1. 1. 1. 1. 1. 1. 1. 1. 1. 1. 1.\n",
      " 1. 1. 1. 1. 1. 1. 1. 1. 1. 1. 1. 1. 1. 1. 1. 1. 1. 1. 1. 1. 1. 1. 1. 1.\n",
      " 1. 1. 1. 1. 1. 1. 1. 1. 1. 1. 1. 1. 1. 1. 1. 1. 1. 1. 1. 1. 1. 1. 1. 1.\n",
      " 1. 1. 1. 1. 1. 1. 1. 1. 1. 1. 1. 1. 1. 1. 1. 1. 1. 1. 1. 1. 1. 1. 1. 1.\n",
      " 1. 1. 1. 1. 1. 1. 1. 1. 1. 1. 1. 1. 1. 1. 1. 1. 1. 1. 1. 1. 1. 1. 1. 1.\n",
      " 1. 1. 1. 1. 1. 1. 1. 1. 1. 1. 1. 1. 1. 1. 1. 1. 1. 1. 1. 1. 1. 1. 1. 1.\n",
      " 1. 1. 1. 1. 1. 1. 1. 1. 1. 1. 1. 1. 1. 1. 1. 1. 1. 1. 1. 1. 1. 1. 1. 1.\n",
      " 1. 1. 1. 1. 1. 1. 1. 1. 1. 1. 1. 1. 1. 1. 1. 1. 1. 1. 1. 1. 1. 1. 1. 1.\n",
      " 1. 1. 1. 1. 1. 1. 1. 1. 1. 1. 1. 1. 1. 1. 1. 1. 1. 1. 1. 1. 1. 1. 1. 1.\n",
      " 1. 1. 1. 1. 1. 1. 1. 1. 1. 1. 1. 1. 1. 1. 1. 1. 1. 1. 1. 1. 1. 1. 1. 1.\n",
      " 1. 1. 1. 1. 1. 1. 1. 1. 1. 1. 1. 1. 1. 1. 1. 1. 1. 1. 1. 1. 1. 1. 1. 1.\n",
      " 1. 1. 1. 1. 1. 1. 1. 1. 1. 1. 1.]\n",
      "Number of NaN values in the correlation matrix:\n",
      "0\n"
     ]
    }
   ],
   "source": [
    "# Print the diagonal of the correlation matrix and check for NaN values\n",
    "print(\"Diagonal of the correlation matrix (should be 1):\")\n",
    "print(corr_df_old.values.diagonal())\n",
    "print(\"Number of NaN values in the correlation matrix:\")\n",
    "print(np.isnan(corr_df_old.values).sum())"
   ]
  },
  {
   "cell_type": "code",
   "execution_count": 44,
   "id": "47264211",
   "metadata": {},
   "outputs": [
    {
     "name": "stdout",
     "output_type": "stream",
     "text": [
      "Top genes correlated with ENSG00000166710 in old donors:\n",
      "ENSG00000166710    1.000000\n",
      "ENSG00000126756    0.737109\n",
      "ENSG00000109971    0.716487\n",
      "ENSG00000102265    0.682927\n",
      "ENSG00000133872    0.678998\n",
      "ENSG00000196531    0.675995\n",
      "ENSG00000182196    0.675482\n",
      "ENSG00000133574    0.665376\n",
      "ENSG00000188229    0.663447\n",
      "ENSG00000102007    0.661197\n",
      "Name: ENSG00000166710, dtype: float64\n"
     ]
    }
   ],
   "source": [
    "# Find top correlated genes for a specific gene of interest in old donors\n",
    "if target_gene in corr_df_old.columns:\n",
    "    target_correlations_old = corr_df_old[target_gene].sort_values(ascending=False)\n",
    "    print(f\"Top genes correlated with {target_gene} in old donors:\")\n",
    "    print(target_correlations_old.head(10))\n",
    "else:\n",
    "    print(f\"{target_gene} not found in the old donor dataset\")"
   ]
  },
  {
   "cell_type": "code",
   "execution_count": 45,
   "id": "6233e894",
   "metadata": {},
   "outputs": [],
   "source": [
    "# Create a difference correlation matrix\n",
    "def create_difference_correlation_matrix(corr_df1, corr_df2):\n",
    "    \"\"\"\n",
    "    Create a difference correlation matrix between two correlation DataFrames.\n",
    "    \"\"\"\n",
    "    # Ensure both DataFrames have the same index and columns\n",
    "    assert corr_df1.shape == corr_df2.shape, \"DataFrames must have the same shape\"\n",
    "    \n",
    "    # Calculate the difference\n",
    "    diff_corr_matrix = corr_df1 - corr_df2\n",
    "    \n",
    "    return diff_corr_matrix\n",
    "\n",
    "# Create difference correlation matrices\n",
    "diff_corr_young_middle = create_difference_correlation_matrix(corr_df_young, corr_df_middle)\n",
    "diff_corr_young_old = create_difference_correlation_matrix(corr_df_young, corr_df_old)\n",
    "diff_corr_middle_old = create_difference_correlation_matrix(corr_df_middle, corr_df_old)\n",
    "\n",
    "# Assert that all difference correlation matrices have zero diagonal\n",
    "assert np.all(diff_corr_young_middle.values.diagonal() <= 1e-10), \"Diagonal of difference correlation matrix should be zero\"\n"
   ]
  },
  {
   "cell_type": "code",
   "execution_count": 46,
   "id": "cfbd59aa",
   "metadata": {},
   "outputs": [],
   "source": [
    "# Find the top 10 genes pairs with the largest absolute difference in correlation\n",
    "top_diff_genes = diff_corr_young_old.abs().unstack().sort_values(ascending=False)\n"
   ]
  },
  {
   "cell_type": "code",
   "execution_count": 47,
   "id": "7b26fd78",
   "metadata": {},
   "outputs": [
    {
     "name": "stdout",
     "output_type": "stream",
     "text": [
      "Top 10 gene pairs with the largest absolute difference in correlation:\n",
      "ENSG00000051523  ENSG00000137154    1.319248\n",
      "ENSG00000137154  ENSG00000051523    1.319248\n",
      "ENSG00000125740  ENSG00000197061    1.286339\n",
      "ENSG00000197061  ENSG00000125740    1.286339\n",
      "ENSG00000108107  ENSG00000177954    1.214680\n",
      "ENSG00000177954  ENSG00000108107    1.214680\n",
      "ENSG00000227507  ENSG00000160888    1.214258\n",
      "ENSG00000160888  ENSG00000227507    1.214258\n",
      "ENSG00000099783  ENSG00000152795    1.212363\n",
      "ENSG00000152795  ENSG00000099783    1.212363\n",
      "dtype: float64\n"
     ]
    }
   ],
   "source": [
    "print(\"Top 10 gene pairs with the largest absolute difference in correlation:\")\n",
    "print(top_diff_genes.head(10))"
   ]
  },
  {
   "cell_type": "code",
   "execution_count": 48,
   "id": "96d9b8a5",
   "metadata": {},
   "outputs": [
    {
     "name": "stdout",
     "output_type": "stream",
     "text": [
      "Correlation between ENSG00000197111 and ENSG00000104660 in the difference correlation matrix: -0.10493622846774847\n",
      "Correlation between ENSG00000197111 and ENSG00000104660 in young donors: 0.15863801390650822\n",
      "Correlation between ENSG00000197111 and ENSG00000104660 in middle donors: -0.11232015887566747\n",
      "Correlation between ENSG00000197111 and ENSG00000104660 in old donors: 0.2635742423742567\n"
     ]
    }
   ],
   "source": [
    "# Find the correlation between gene and gene2 in the difference correlation matrix\n",
    "gene = \"ENSG00000197111\"\n",
    "gene2 = \"ENSG00000104660\"\n",
    "if gene in diff_corr_young_old.columns and gene2 in diff_corr_young_old.columns:\n",
    "    correlation = diff_corr_young_old.loc[gene, gene2]\n",
    "    print(f\"Correlation between {gene} and {gene2} in the difference correlation matrix: {correlation}\")\n",
    "\n",
    "# Find the correlation between ENSG00000197111 and ENSG00000179094 in young donors\n",
    "if gene in corr_df_young.columns and gene2 in corr_df_young.columns:\n",
    "    correlation_young = corr_df_young.loc[gene, gene2]\n",
    "    print(f\"Correlation between {gene} and {gene2} in young donors: {correlation_young}\")\n",
    "\n",
    "# Find the correlation between ENSG00000197111 and ENSG00000179094 in middle donors\n",
    "if gene in corr_df_middle.columns and gene2 in corr_df_middle.columns:\n",
    "    correlation_middle = corr_df_middle.loc[gene, gene2]\n",
    "    print(f\"Correlation between {gene} and {gene2} in middle donors: {correlation_middle}\")\n",
    "\n",
    "# Find the correlation between ENSG00000197111 and ENSG00000179094 in old donors\n",
    "if gene in corr_df_old.columns and gene2 in corr_df_old.columns:\n",
    "    correlation_old = corr_df_old.loc[gene, gene2]\n",
    "    print(f\"Correlation between {gene} and {gene2} in old donors: {correlation_old}\")\n",
    "\n",
    "\n"
   ]
  },
  {
   "cell_type": "code",
   "execution_count": 49,
   "id": "b483cd87",
   "metadata": {},
   "outputs": [],
   "source": [
    "# # Create a excel file with the same information for the top 10 gene pairs \n",
    "# # The columns would be gene1, gene2, correlation difference, correlation in young, correlation in middle, correlation in old\n",
    "# top_diff_genes_df = pd.DataFrame(top_diff_genes, columns=[\"Correlation Difference\"])\n",
    "# top_diff_genes_df.reset_index(inplace=True)\n",
    "# top_diff_genes_df.columns = [\"Gene1\", \"Gene2\", \"Correlation Difference\"]\n",
    "\n",
    "# # Add correlation values from young, middle, and old datasets\n",
    "# top_diff_genes_df[\"Correlation Young\"] = top_diff_genes_df.apply(lambda x: corr_df_young.loc[x[\"Gene1\"], x[\"Gene2\"]], axis=1)\n",
    "# top_diff_genes_df[\"Correlation Middle\"] = top_diff_genes_df.apply(lambda x: corr_df_middle.loc[x[\"Gene1\"], x[\"Gene2\"]], axis=1)\n",
    "# top_diff_genes_df[\"Correlation Old\"] = top_diff_genes_df.apply(lambda x: corr_df_old.loc[x[\"Gene1\"], x[\"Gene2\"]], axis=1)\n",
    "# # Save to Excel\n",
    "# path = \"results/{}_top_diff_genes.xlsx\".format(cell_type)\n",
    "# top_diff_genes_df.to_excel(path, index=False)"
   ]
  },
  {
   "cell_type": "code",
   "execution_count": 50,
   "id": "a76b8979",
   "metadata": {},
   "outputs": [
    {
     "name": "stdout",
     "output_type": "stream",
     "text": [
      "Number of NaN values in z_diff: 0 0 0\n",
      "Number of infinite values in z_diff: 0 0 0\n",
      "Shape of the z_diff matrix:\n",
      "(611, 611)\n"
     ]
    }
   ],
   "source": [
    "# Calculate the z value for the correlation coefficients of the two datasets\n",
    "def fisher_z_transform(r):\n",
    "    \"\"\"Fisher Z transformation.\"\"\"\n",
    "    return 0.5 * np.log((1 + r) / (1 - r))\n",
    "\n",
    "n1 = adata_young.shape[0]  # Number of donors in young dataset\n",
    "n2 = adata_middle.shape[0]  # Number of donors in middle dataset\n",
    "n3 = adata_old.shape[0]  # Number of donors in old dataset\n",
    "\n",
    "SE_diff_young_middle = np.sqrt((1 / (n1 - 3)) + (1 / (n2 - 3)))  # Standard error of the difference\n",
    "SE_diff_middle_old = np.sqrt((1 / (n2 - 3)) + (1 / (n3 - 3)))  # Standard error of the difference\n",
    "SE_diff_young_old = np.sqrt((1 / (n1 - 3)) + (1 / (n3 - 3)))  # Standard error of the difference\n",
    "\n",
    "gene_names = adata_young.var_names\n",
    "\n",
    "z_diff_young_middle = fisher_z_transform(corr_df_young) - fisher_z_transform(corr_df_middle)\n",
    "z_diff_middle_old = fisher_z_transform(corr_df_middle) - fisher_z_transform(corr_df_old)\n",
    "z_diff_young_old = fisher_z_transform(corr_df_young) - fisher_z_transform(corr_df_old)\n",
    "\n",
    "# Zet all the diagonal values to 0\n",
    "for i in range(z_diff_young_middle.shape[0]):\n",
    "    z_diff_young_middle.values[i, i] = 0\n",
    "    z_diff_middle_old.values[i, i] = 0\n",
    "    z_diff_young_old.values[i, i] = 0\n",
    "\n",
    "\n",
    "# Count the number of NaN values\n",
    "num_nan = np.isnan(z_diff_young_middle).sum().sum()\n",
    "num_nan2 = np.isnan(z_diff_middle_old).sum().sum()\n",
    "num_nan3 = np.isnan(z_diff_young_old).sum().sum()\n",
    "print(\"Number of NaN values in z_diff:\", num_nan, num_nan2, num_nan3)\n",
    "# Count the number of infinite values\n",
    "num_inf = np.isinf(z_diff_young_middle).sum().sum()\n",
    "num_inf2 = np.isinf(z_diff_middle_old).sum().sum()\n",
    "num_inf3 = np.isinf(z_diff_young_old).sum().sum()\n",
    "print(\"Number of infinite values in z_diff:\", num_inf, num_inf2, num_inf3)\n",
    "\n",
    "# Turn the z_diff into a DataFrame\n",
    "z_diff_young_middle = pd.DataFrame(z_diff_young_middle, index=gene_names, columns=gene_names)\n",
    "z_diff_middle_old = pd.DataFrame(z_diff_middle_old, index=gene_names, columns=gene_names)\n",
    "z_diff_young_old = pd.DataFrame(z_diff_young_old, index=gene_names, columns=gene_names)\n",
    "\n",
    "\n",
    "z_diff_young_middle /= SE_diff_young_middle\n",
    "z_diff_middle_old /= SE_diff_middle_old\n",
    "z_diff_young_old /= SE_diff_young_old\n",
    "\n",
    "# Print the shape of the z_diff matrix\n",
    "print(\"Shape of the z_diff matrix:\")\n",
    "print(z_diff_young_middle.shape)"
   ]
  },
  {
   "cell_type": "code",
   "execution_count": null,
   "id": "167e655e",
   "metadata": {},
   "outputs": [
    {
     "name": "stdout",
     "output_type": "stream",
     "text": [
      "Top 10 genes with the largest absolute z-scores:\n",
      "ENSG00000185787  ENSG00000185787    0.0\n",
      "ENSG00000103653  ENSG00000103653    0.0\n",
      "ENSG00000137818  ENSG00000137818    0.0\n",
      "ENSG00000174444  ENSG00000174444    0.0\n",
      "ENSG00000166794  ENSG00000166794    0.0\n",
      "ENSG00000069667  ENSG00000069667    0.0\n",
      "ENSG00000255302  ENSG00000255302    0.0\n",
      "ENSG00000166710  ENSG00000166710    0.0\n",
      "ENSG00000140264  ENSG00000140264    0.0\n",
      "ENSG00000198727  ENSG00000198727    0.0\n",
      "dtype: float64\n"
     ]
    }
   ],
   "source": [
    "# Find the top 10 genes with the largest absolute z-scores\n",
    "top_genes = z_diff_young_old.abs().unstack().sort_values(ascending=False)\n",
    "\n",
    "print(\"Top 10 genes with the largest absolute z-scores:\")\n",
    "print(top_genes.head(10))"
   ]
  },
  {
   "cell_type": "code",
   "execution_count": 52,
   "id": "3b922e43",
   "metadata": {},
   "outputs": [],
   "source": [
    "# We define a significant difference as |Z| > 2.576 or p < 0.01\n",
    "# This corresponds to a 99% confidence interval for a two-tailed test\n",
    "significant_diff = 2.576\n",
    "\n",
    "# We want to create a network of genes with a significant difference in correlation between young and old donors\n",
    "# So we want to make a list of all the genes and for every gene we want a list with all the genes that are significantly different\n",
    "# in correlation with that gene so for example if gene A has a significant difference in correlation with gene B and gene C\n",
    "# we want to add B and C to the list of gene A [A: [B, C]]\n",
    "# We will use a dictionary to store the results\n",
    "significant_diff_dict = {}\n",
    "for gene in gene_names:\n",
    "    # Get the differences in correlation for the current gene\n",
    "    diff_for_gene = z_diff_young_middle[gene]\n",
    "    diff_for_gene2 = z_diff_middle_old[gene]\n",
    "    diff_for_gene3 = z_diff_young_old[gene]\n",
    "    \n",
    "    # Find genes with significant differences\n",
    "    significant_genes = diff_for_gene[diff_for_gene.abs() > significant_diff].index.tolist()\n",
    "    significant_genes2 = diff_for_gene2[diff_for_gene2.abs() > significant_diff].index.tolist()\n",
    "    significant_genes3 = diff_for_gene3[diff_for_gene3.abs() > significant_diff].index.tolist()\n",
    "\n",
    "    # Intersect the lists to find genes that are significantly different in all three comparisons\n",
    "    significant_genes_final = list(set(significant_genes) & set(significant_genes2) & set(significant_genes3))\n",
    "    \n",
    "    # Store the results in the dictionary\n",
    "    significant_diff_dict[gene] = significant_genes_final"
   ]
  },
  {
   "cell_type": "code",
   "execution_count": 53,
   "id": "a7650bbb",
   "metadata": {},
   "outputs": [],
   "source": [
    "# Plot the genes with the most significant differences\n",
    "# We will plot the top 10 genes with the most significant differences in the dictionary\n",
    "top_genes = sorted(significant_diff_dict.items(), key=lambda x: len(x[1]), reverse=True)\n"
   ]
  },
  {
   "cell_type": "code",
   "execution_count": 54,
   "id": "0571a002",
   "metadata": {},
   "outputs": [
    {
     "name": "stdout",
     "output_type": "stream",
     "text": [
      "Top 10 gene pairs with the most amount of difference in correlation:\n",
      "ENSG00000034510: 1\n",
      "ENSG00000169567: 1\n",
      "ENSG00000148362: 1\n",
      "ENSG00000169100: 1\n",
      "ENSG00000116251: 0\n",
      "ENSG00000215788: 0\n",
      "ENSG00000074800: 0\n",
      "ENSG00000077549: 0\n",
      "ENSG00000127483: 0\n",
      "ENSG00000070831: 0\n",
      "ENSG00000142676: 0\n",
      "ENSG00000133226: 0\n",
      "Top 10 gene pairs with the least amount of differences in correlation:\n",
      "ENSG00000198712: 0\n",
      "ENSG00000228253: 0\n",
      "ENSG00000198899: 0\n",
      "ENSG00000198938: 0\n",
      "ENSG00000198840: 0\n",
      "ENSG00000212907: 0\n",
      "ENSG00000198886: 0\n",
      "ENSG00000198786: 0\n",
      "ENSG00000198695: 0\n",
      "ENSG00000198727: 0\n",
      "Twenty percent of the top genes: 122\n",
      "Total number of connections in the network: 4\n",
      "Total number of connections in the network for the top 122 genes: 4\n",
      "The pareto principle applies:  1.0\n"
     ]
    }
   ],
   "source": [
    "print(\"Top 10 gene pairs with the most amount of difference in correlation:\")\n",
    "top_genes_replace_list_with_length = {}\n",
    "for gene, diff_genes in top_genes:\n",
    "    top_genes_replace_list_with_length[gene] = len(diff_genes)\n",
    "\n",
    "\n",
    "for gene, diff_genes in top_genes[:12]:\n",
    "    print(f\"{gene}: {len(diff_genes)}\")\n",
    "\n",
    "# Plot the top 10 genes with the least significant differences in the dictionary\n",
    "print(\"Top 10 gene pairs with the least amount of differences in correlation:\")\n",
    "for gene, diff_genes in top_genes[-10:]:\n",
    "    print(f\"{gene}: {len(diff_genes)}\")\n",
    "\n",
    "\n",
    "# Count the total number of connections in the network\n",
    "total_connections = sum(len(diff_genes) for diff_genes in significant_diff_dict.values())\n",
    "\n",
    "twenty_percent = int(0.2 * len(top_genes))\n",
    "print(\"Twenty percent of the top genes:\", twenty_percent)\n",
    "\n",
    "# Count the total number of connections in the network for the top 120 genes\n",
    "total_connections_top_120 = 0\n",
    "for gene, diff_genes in top_genes[:twenty_percent]:\n",
    "    total_connections_top_120 += len(diff_genes)\n",
    "\n",
    "print(\"Total number of connections in the network:\", total_connections)\n",
    "print(\"Total number of connections in the network for the top\", twenty_percent, \"genes:\", total_connections_top_120)\n",
    "\n",
    "# Print if the pareto principle applies\n",
    "if total_connections_top_120 / total_connections > 0.8:\n",
    "    print(\"The pareto principle applies: \", total_connections_top_120 / total_connections)\n",
    "else:\n",
    "    print(\"The pareto principle does not apply: \", total_connections_top_120 / total_connections)\n",
    "\n",
    "\n",
    "\n",
    "\n",
    "# Write the total_connections to a excel file the columns are gene and number of significant differences\n",
    "significant_diff_df = pd.DataFrame.from_dict(top_genes_replace_list_with_length, orient='index', columns=['Number of Significant Differences'])\n",
    "# Reset the index to have gene names as a column\n",
    "significant_diff_df.reset_index(inplace=True)\n",
    "# Rename the columns\n",
    "significant_diff_df.columns = ['Gene', 'Number of Significant Differences']\n",
    "# Save to Excel\n",
    "path = \"results/{}_significant_differences.xlsx\".format(cell_type)\n",
    "significant_diff_df.to_excel(path, index=False)"
   ]
  },
  {
   "cell_type": "code",
   "execution_count": 55,
   "id": "09112c2f",
   "metadata": {},
   "outputs": [
    {
     "name": "stdout",
     "output_type": "stream",
     "text": [
      "('ENSG00000034510', ['ENSG00000148362'])\n",
      "Excel file saved successfully!\n"
     ]
    }
   ],
   "source": [
    "# Print the genes of the first gene\n",
    "print(top_genes[0])\n",
    "\n",
    "top_genes_dict = {}\n",
    "for gene, diff_genes in top_genes:\n",
    "    top_genes_dict[gene] = diff_genes\n",
    "\n",
    "# Convert the dictionary into a DataFrame\n",
    "df = pd.DataFrame({\n",
    "    \"Gene\": top_genes_dict.keys(),\n",
    "    \"Associated Genes\": top_genes_dict.values()\n",
    "})\n",
    "\n",
    "# Write to Excel\n",
    "path = \"results/{}_gene_associations.xlsx\".format(cell_type)\n",
    "df.to_excel(path, index=False)\n",
    "\n",
    "print(\"Excel file saved successfully!\")"
   ]
  },
  {
   "cell_type": "code",
   "execution_count": 56,
   "id": "ee4866c2",
   "metadata": {},
   "outputs": [
    {
     "name": "stdout",
     "output_type": "stream",
     "text": [
      "Number of nodes: 611\n",
      "Number of edges: 4\n"
     ]
    }
   ],
   "source": [
    "# Create a visualization of the network\n",
    "\n",
    "import networkx as nx\n",
    "import matplotlib.pyplot as plt\n",
    "# from pyvis.network import Network\n",
    "\n",
    "# Initialize a directed graph (since correlations may be asymmetric)\n",
    "G = nx.DiGraph()\n",
    "\n",
    "# Add nodes (genes)\n",
    "G.add_nodes_from(gene_names)\n",
    "\n",
    "# Add edges based on significant_diff_dict\n",
    "for gene, connected_genes in significant_diff_dict.items():\n",
    "    for target_gene in connected_genes:\n",
    "        G.add_edge(gene, target_gene)\n",
    "\n",
    "# Optional: Print basic graph info\n",
    "print(f\"Number of nodes: {G.number_of_nodes()}\")\n",
    "print(f\"Number of edges: {G.number_of_edges()}\")\n",
    "\n",
    "# Turn the graph to an undirected graph\n",
    "G = G.to_undirected()"
   ]
  },
  {
   "cell_type": "code",
   "execution_count": 57,
   "id": "a7c4f50b",
   "metadata": {},
   "outputs": [
    {
     "data": {
      "image/png": "[encoded data removed]",
      "text/plain": [
       "<Figure size 1200x1000 with 1 Axes>"
      ]
     },
     "metadata": {},
     "output_type": "display_data"
    }
   ],
   "source": [
    "plt.figure(figsize=(12, 10))\n",
    "pos = nx.spring_layout(G, k=0.15, iterations=50)  # Force-directed layout\n",
    "nx.draw_networkx(\n",
    "    G,\n",
    "    pos=pos,\n",
    "    with_labels=False,\n",
    "    node_size=3,\n",
    "    node_color=\"skyblue\",\n",
    "    width=0.1,\n",
    "    edge_color=\"gray\",\n",
    "    font_size=1,\n",
    "    alpha=0.7,\n",
    ")\n",
    "plt.title(\"Gene Correlation Difference Network (p < 0.01)\")\n",
    "plt.axis(\"off\")\n",
    "plt.show()"
   ]
  },
  {
   "cell_type": "code",
   "execution_count": 287,
   "id": "e153aa8d",
   "metadata": {},
   "outputs": [],
   "source": [
    "# Load all the network excel files for all cell types\n",
    "cell_types = [\n",
    "    \"CD4-positive, alpha-beta T cell\",\n",
    "    \"CD8-positive, alpha-beta memory T cell\",\n",
    "    \"CD8-positive, alpha-beta T cell\",\n",
    "    \"central memory CD4-positive, alpha-beta T cell\",\n",
    "    \"double negative T regulatory cell\",\n",
    "    \"effector memory CD4-positive, alpha-beta T cell\",\n",
    "    \"gamma-delta T cell\",\n",
    "    \"innate lymphoid cell\",\n",
    "    \"regulatory T cell\"\n",
    "]\n",
    "\n",
    "network_data = {}\n",
    "for cell_type in cell_types:\n",
    "    path = \"results/{}_gene_associations.xlsx\".format(cell_type)\n",
    "    try:\n",
    "        df = pd.read_excel(path)\n",
    "        network_data[cell_type] = df\n",
    "    except FileNotFoundError:\n",
    "        print(f\"File not found for cell type: {cell_type}\")"
   ]
  },
  {
   "cell_type": "code",
   "execution_count": null,
   "id": "2eb14fa1",
   "metadata": {},
   "outputs": [],
   "source": []
  }
 ],
 "metadata": {
  "kernelspec": {
   "display_name": "base",
   "language": "python",
   "name": "python3"
  },
  "language_info": {
   "codemirror_mode": {
    "name": "ipython",
    "version": 3
   },
   "file_extension": ".py",
   "mimetype": "text/x-python",
   "name": "python",
   "nbconvert_exporter": "python",
   "pygments_lexer": "ipython3",
   "version": "3.11.4"
  }
 },
 "nbformat": 4,
 "nbformat_minor": 5
}
