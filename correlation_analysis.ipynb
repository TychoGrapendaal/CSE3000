{
 "cells": [
  {
   "cell_type": "markdown",
   "id": "de74baa0",
   "metadata": {},
   "source": [
    "# Correlation Analysis"
   ]
  },
  {
   "cell_type": "code",
   "execution_count": 10,
   "id": "edb0606d",
   "metadata": {},
   "outputs": [
    {
     "name": "stdout",
     "output_type": "stream",
     "text": [
      "0.11.4\n"
     ]
    }
   ],
   "source": [
    "import numpy as np\n",
    "import pandas as pd\n",
    "import anndata as ad\n",
    "from scipy.sparse import csr_matrix\n",
    "from scipy.sparse import issparse\n",
    "import scanpy as sc\n",
    "import scipy.stats\n",
    "from scipy.stats import pearsonr\n",
    "import matplotlib.pyplot as plt\n",
    "import seaborn as sns\n",
    "print(ad.__version__)"
   ]
  },
  {
   "cell_type": "code",
   "execution_count": 4,
   "id": "cdab252c",
   "metadata": {},
   "outputs": [
    {
     "name": "stdout",
     "output_type": "stream",
     "text": [
      "AnnData object with n_obs × n_vars = 26 × 132\n",
      "    obs: 'reference_genome', 'gene_annotation_version', 'alignment_software', 'intronic_reads_counted', 'library_id', 'assay_ontology_term_id', 'sequenced_fragment', 'cell_number_loaded', 'institute', 'is_primary_data', 'cell_type_ontology_term_id', 'author_cell_type', 'sample_id', 'sample_preservation_method', 'tissue_ontology_term_id', 'development_stage_ontology_term_id', 'sample_collection_method', 'donor_BMI_at_collection', 'tissue_type', 'suspension_derivation_process', 'suspension_enriched_cell_types', 'cell_viability_percentage', 'suspension_uuid', 'suspension_type', 'self_reported_ethnicity_ontology_term_id', 'donor_living_at_sample_collection', 'organism_ontology_term_id', 'disease_ontology_term_id', 'sex_ontology_term_id', 'Country', 'nCount_RNA', 'nFeature_RNA', 'TCR_VDJdb', 'TCRa_V_gene', 'TCRa_D_gene', 'TCRa_J_gene', 'TCRa_C_gene', 'TCRb_V_gene', 'TCRb_D_gene', 'TCRb_J_gene', 'TCRb_C_gene', 'TCR_Clonality', 'TCR_Clone_ID', 'BCR_VDJ_V_call', 'BCR_VDJ_D_call', 'BCR_VDJ_J_call', 'BCR_VDJ_C_call', 'BCR_VJ_V_call', 'BCR_VJ_J_call', 'BCR_VJ_C_call', 'BCR_Clonality', 'BCR_Clone_size', 'BCR_mu_freq', 'cell_type', 'assay', 'disease', 'organism', 'sex', 'tissue', 'self_reported_ethnicity', 'development_stage', 'observation_joinid', 'n_cells'\n",
      "    var: 'feature_is_filtered', 'feature_name', 'feature_reference', 'feature_biotype', 'feature_length', 'feature_type'\n",
      "    uns: 'citation', 'default_embedding', 'schema_reference', 'schema_version', 'title'\n",
      "AnnData object with n_obs × n_vars = 27 × 132\n",
      "    obs: 'reference_genome', 'gene_annotation_version', 'alignment_software', 'intronic_reads_counted', 'library_id', 'assay_ontology_term_id', 'sequenced_fragment', 'cell_number_loaded', 'institute', 'is_primary_data', 'cell_type_ontology_term_id', 'author_cell_type', 'sample_id', 'sample_preservation_method', 'tissue_ontology_term_id', 'development_stage_ontology_term_id', 'sample_collection_method', 'donor_BMI_at_collection', 'tissue_type', 'suspension_derivation_process', 'suspension_enriched_cell_types', 'cell_viability_percentage', 'suspension_uuid', 'suspension_type', 'self_reported_ethnicity_ontology_term_id', 'donor_living_at_sample_collection', 'organism_ontology_term_id', 'disease_ontology_term_id', 'sex_ontology_term_id', 'Country', 'nCount_RNA', 'nFeature_RNA', 'TCR_VDJdb', 'TCRa_V_gene', 'TCRa_D_gene', 'TCRa_J_gene', 'TCRa_C_gene', 'TCRb_V_gene', 'TCRb_D_gene', 'TCRb_J_gene', 'TCRb_C_gene', 'TCR_Clonality', 'TCR_Clone_ID', 'BCR_VDJ_V_call', 'BCR_VDJ_D_call', 'BCR_VDJ_J_call', 'BCR_VDJ_C_call', 'BCR_VJ_V_call', 'BCR_VJ_J_call', 'BCR_VJ_C_call', 'BCR_Clonality', 'BCR_Clone_size', 'BCR_mu_freq', 'cell_type', 'assay', 'disease', 'organism', 'sex', 'tissue', 'self_reported_ethnicity', 'development_stage', 'observation_joinid', 'n_cells'\n",
      "    var: 'feature_is_filtered', 'feature_name', 'feature_reference', 'feature_biotype', 'feature_length', 'feature_type'\n",
      "    uns: 'citation', 'default_embedding', 'schema_reference', 'schema_version', 'title'\n"
     ]
    }
   ],
   "source": [
    "# Load young and old data\n",
    "# cell_type = \"CD8-positive, alpha-beta cytotoxic T cell\"\n",
    "cell_type = \"erythrocyte\"\n",
    "young_path = \"subsets/{}_young_donors.h5ad\".format(cell_type)\n",
    "old_path = \"subsets/{}_old_donors.h5ad\".format(cell_type)\n",
    "adata_young = ad.read_h5ad(young_path)\n",
    "adata_old = ad.read_h5ad(old_path)\n",
    "print(adata_young)\n",
    "print(adata_old)"
   ]
  },
  {
   "cell_type": "code",
   "execution_count": 5,
   "id": "fe72d521",
   "metadata": {},
   "outputs": [
    {
     "name": "stdout",
     "output_type": "stream",
     "text": [
      "All genes expressed at least once in young dataset\n",
      "All genes expressed at least once in old dataset\n"
     ]
    }
   ],
   "source": [
    "# Check that every gene is expressed at least once in each dataset in .X\n",
    "young_check = np.sum(adata_young.X != 0, axis=0)\n",
    "old_check = np.sum(adata_old.X != 0, axis=0)\n",
    "\n",
    "# Check that every number in young_check is greater than 0\n",
    "if np.all(young_check > 0):\n",
    "    print(\"All genes expressed at least once in young dataset\")\n",
    "\n",
    "# Check that every number in old_check is greater than 0\n",
    "if np.all(old_check > 0):\n",
    "    print(\"All genes expressed at least once in old dataset\")"
   ]
  },
  {
   "cell_type": "code",
   "execution_count": 14,
   "id": "21066b78",
   "metadata": {},
   "outputs": [],
   "source": [
    "# Get the expression matrix (cells x genes)\n",
    "if issparse(adata_young.X):\n",
    "    expr_matrix = adata_young.X.toarray()  # Convert sparse to dense if needed\n",
    "else:\n",
    "    expr_matrix = adata_young.X\n",
    "\n",
    "# Transpose to genes x cells for correlation calculation\n",
    "expr_matrix = expr_matrix.T\n",
    "\n",
    "# Calculate correlation matrix (Pearson)\n",
    "corr_matrix = np.corrcoef(expr_matrix)\n",
    "\n",
    "# Convert to DataFrame for easier handling\n",
    "gene_names = adata_young.var_names\n",
    "corr_df_young = pd.DataFrame(corr_matrix, index=gene_names, columns=gene_names)"
   ]
  },
  {
   "cell_type": "code",
   "execution_count": 15,
   "id": "8861d15c",
   "metadata": {},
   "outputs": [],
   "source": [
    "# # Get the expression matrix (cells x genes)\n",
    "# if issparse(adata_young.X):\n",
    "#     expr_matrix = adata_young.X.toarray()  # Convert sparse to dense if needed\n",
    "# else:\n",
    "#     expr_matrix = adata_young.X\n",
    "\n",
    "# # Transpose to genes x cells for correlation calculation\n",
    "# expr_matrix = expr_matrix.T\n",
    "\n",
    "# # Get gene names\n",
    "# gene_names = adata_young.var_names\n",
    "# n_genes = len(gene_names)\n",
    "\n",
    "# # Initialize correlation and p-value matrices\n",
    "# corr_matrix = np.zeros((n_genes, n_genes))\n",
    "# p_matrix = np.zeros((n_genes, n_genes))\n",
    "\n",
    "# # Calculate correlation and p-value for each gene pair\n",
    "# for i in range(n_genes):\n",
    "#     for j in range(i, n_genes):  # Take advantage of symmetry\n",
    "#         corr, p_val = pearsonr(expr_matrix[i], expr_matrix[j])\n",
    "#         corr_matrix[i, j] = corr\n",
    "#         corr_matrix[j, i] = corr  # Symmetric\n",
    "#         p_matrix[i, j] = p_val\n",
    "#         p_matrix[j, i] = p_val  # Symmetric\n",
    "\n",
    "# # Convert to DataFrames\n",
    "# corr_df_young = pd.DataFrame(corr_matrix, index=gene_names, columns=gene_names)\n",
    "# p_value_df_young = pd.DataFrame(p_matrix, index=gene_names, columns=gene_names)\n",
    "\n",
    "# # Print the p-value DataFrame\n",
    "# print(corr_df_young)\n",
    "# print(p_value_df_young)"
   ]
  },
  {
   "cell_type": "code",
   "execution_count": 16,
   "id": "a5213fb8",
   "metadata": {},
   "outputs": [
    {
     "name": "stdout",
     "output_type": "stream",
     "text": [
      "Diagonal of the correlation matrix (should be 1):\n",
      "[1. 1. 1. 1. 1. 1. 1. 1. 1. 1. 1. 1. 1. 1. 1. 1. 1. 1. 1. 1. 1. 1. 1. 1.\n",
      " 1. 1. 1. 1. 1. 1. 1. 1. 1. 1. 1. 1. 1. 1. 1. 1. 1. 1. 1. 1. 1. 1. 1. 1.\n",
      " 1. 1. 1. 1. 1. 1. 1. 1. 1. 1. 1. 1. 1. 1. 1. 1. 1. 1. 1. 1. 1. 1. 1. 1.\n",
      " 1. 1. 1. 1. 1. 1. 1. 1. 1. 1. 1. 1. 1. 1. 1. 1. 1. 1. 1. 1. 1. 1. 1. 1.\n",
      " 1. 1. 1. 1. 1. 1. 1. 1. 1. 1. 1. 1. 1. 1. 1. 1. 1. 1. 1. 1. 1. 1. 1. 1.\n",
      " 1. 1. 1. 1. 1. 1. 1. 1. 1. 1. 1. 1.]\n",
      "Number of NaN values in the correlation matrix:\n",
      "0\n"
     ]
    }
   ],
   "source": [
    "# Print the diagonal of the correlation matrix and check for NaN values\n",
    "print(\"Diagonal of the correlation matrix (should be 1):\")\n",
    "print(corr_df_young.values.diagonal())\n",
    "print(\"Number of NaN values in the correlation matrix:\")\n",
    "print(np.isnan(corr_df_young.values).sum())"
   ]
  },
  {
   "cell_type": "code",
   "execution_count": 8,
   "id": "773e321a",
   "metadata": {},
   "outputs": [
    {
     "name": "stdout",
     "output_type": "stream",
     "text": [
      "First few rows of the correlation matrix:\n",
      "                 ENSG00000116251  ENSG00000142676  ENSG00000142669  \\\n",
      "ENSG00000116251         1.000000         0.721429        -0.248207   \n",
      "ENSG00000142676         0.721429         1.000000        -0.209977   \n",
      "ENSG00000142669        -0.248207        -0.209977         1.000000   \n",
      "ENSG00000142937         0.768505         0.909732        -0.452678   \n",
      "ENSG00000177606         0.242342         0.367620        -0.179291   \n",
      "\n",
      "                 ENSG00000142937  ENSG00000177606  ENSG00000122406  \\\n",
      "ENSG00000116251         0.768505         0.242342         0.668391   \n",
      "ENSG00000142676         0.909732         0.367620         0.874849   \n",
      "ENSG00000142669        -0.452678        -0.179291        -0.154893   \n",
      "ENSG00000142937         1.000000         0.388147         0.845123   \n",
      "ENSG00000177606         0.388147         1.000000         0.395468   \n",
      "\n",
      "                 ENSG00000163220  ENSG00000197956  ENSG00000196154  \\\n",
      "ENSG00000116251        -0.050978         0.065388         0.029273   \n",
      "ENSG00000142676        -0.283057         0.043701         0.017030   \n",
      "ENSG00000142669         0.269517         0.610951         0.781153   \n",
      "ENSG00000142937        -0.190748        -0.064578        -0.157205   \n",
      "ENSG00000177606        -0.202709        -0.091680         0.048253   \n",
      "\n",
      "                 ENSG00000177954  ...  ENSG00000198763  ENSG00000198804  \\\n",
      "ENSG00000116251         0.479964  ...         0.075815        -0.049535   \n",
      "ENSG00000142676         0.779915  ...        -0.230176         0.129196   \n",
      "ENSG00000142669        -0.146898  ...         0.010021         0.154135   \n",
      "ENSG00000142937         0.670298  ...        -0.143148         0.043098   \n",
      "ENSG00000177606         0.394439  ...        -0.188741        -0.019278   \n",
      "\n",
      "                 ENSG00000198712  ENSG00000198899  ENSG00000198938  \\\n",
      "ENSG00000116251         0.410940         0.059110         0.362300   \n",
      "ENSG00000142676         0.539892        -0.060642         0.394822   \n",
      "ENSG00000142669         0.253636        -0.306916        -0.164081   \n",
      "ENSG00000142937         0.422177        -0.006878         0.378806   \n",
      "ENSG00000177606         0.120046        -0.080262        -0.088803   \n",
      "\n",
      "                 ENSG00000198840  ENSG00000212907  ENSG00000198886  \\\n",
      "ENSG00000116251         0.104391         0.182202         0.501479   \n",
      "ENSG00000142676         0.129615         0.278249         0.299240   \n",
      "ENSG00000142669         0.179407        -0.055967         0.078099   \n",
      "ENSG00000142937         0.105696         0.162341         0.318660   \n",
      "ENSG00000177606         0.001287         0.177229         0.136718   \n",
      "\n",
      "                 ENSG00000198786  ENSG00000198727  \n",
      "ENSG00000116251         0.061909         0.461365  \n",
      "ENSG00000142676        -0.003729         0.535069  \n",
      "ENSG00000142669        -0.001636         0.003996  \n",
      "ENSG00000142937         0.016555         0.486467  \n",
      "ENSG00000177606         0.036068         0.061887  \n",
      "\n",
      "[5 rows x 132 columns]\n"
     ]
    }
   ],
   "source": [
    "# Print the first few rows of the correlation matrix\n",
    "print(\"First few rows of the correlation matrix:\")\n",
    "print(corr_df_young.head())\n",
    "\n",
    "# Plot the correlation matrix\n",
    "# plt.figure(figsize=(10, 8))\n",
    "# sns.heatmap(corr_df_young, cmap='coolwarm', center=0, square=True, cbar_kws={\"shrink\": .8})\n",
    "# plt.title(\"Correlation Matrix of Gene Expression\")\n",
    "# plt.xlabel(\"Genes\")\n",
    "# plt.ylabel(\"Genes\")\n",
    "# plt.show()"
   ]
  },
  {
   "cell_type": "code",
   "execution_count": 9,
   "id": "18685381",
   "metadata": {},
   "outputs": [
    {
     "name": "stdout",
     "output_type": "stream",
     "text": [
      "Top genes correlated with ENSG00000166710:\n",
      "ENSG00000166710    1.000000\n",
      "ENSG00000204525    0.879935\n",
      "ENSG00000234745    0.860340\n",
      "ENSG00000206503    0.831529\n",
      "ENSG00000108518    0.758690\n",
      "ENSG00000177954    0.732153\n",
      "ENSG00000118181    0.701874\n",
      "ENSG00000108654    0.700075\n",
      "ENSG00000198242    0.696914\n",
      "ENSG00000184009    0.692602\n",
      "Name: ENSG00000166710, dtype: float64\n"
     ]
    }
   ],
   "source": [
    "# Find top correlated genes for a specific gene of interest\n",
    "target_gene = \"ENSG00000166710\"\n",
    "if target_gene in corr_df_young.columns:\n",
    "    target_correlations = corr_df_young[target_gene].sort_values(ascending=False)\n",
    "    print(f\"Top genes correlated with {target_gene}:\")\n",
    "    print(target_correlations.head(10))\n",
    "else:\n",
    "    print(f\"{target_gene} not found in the dataset\")"
   ]
  },
  {
   "cell_type": "code",
   "execution_count": 74,
   "id": "e319aab9",
   "metadata": {},
   "outputs": [],
   "source": [
    "# Get the expression matrix for old donors\n",
    "if issparse(adata_old.X):\n",
    "    expr_matrix_old = adata_old.X.toarray()  # Convert sparse to dense if needed\n",
    "else:\n",
    "    expr_matrix_old = adata_old.X\n",
    "\n",
    "# Transpose to genes x cells for correlation calculation\n",
    "expr_matrix_old = expr_matrix_old.T\n",
    "\n",
    "# Calculate correlation matrix (Pearson) for old donors\n",
    "corr_matrix_old = np.corrcoef(expr_matrix_old)\n",
    "\n",
    "# Convert to DataFrame for easier handling\n",
    "corr_df_young_old = pd.DataFrame(corr_matrix_old, index=gene_names, columns=gene_names)"
   ]
  },
  {
   "cell_type": "code",
   "execution_count": 75,
   "id": "e7d577a6",
   "metadata": {},
   "outputs": [
    {
     "name": "stdout",
     "output_type": "stream",
     "text": [
      "Diagonal of the correlation matrix (should be 1):\n",
      "[1. 1. 1. 1. 1. 1. 1. 1. 1. 1. 1. 1. 1. 1. 1. 1. 1. 1. 1. 1. 1. 1. 1. 1.\n",
      " 1. 1. 1. 1. 1. 1. 1. 1. 1. 1. 1. 1. 1. 1. 1. 1. 1. 1. 1. 1. 1. 1. 1. 1.\n",
      " 1. 1. 1. 1. 1. 1. 1. 1. 1. 1. 1. 1. 1. 1. 1. 1. 1. 1. 1. 1. 1. 1. 1. 1.\n",
      " 1. 1. 1. 1. 1. 1. 1. 1. 1. 1. 1. 1. 1. 1. 1. 1. 1. 1. 1. 1. 1. 1. 1. 1.\n",
      " 1. 1. 1. 1. 1. 1. 1. 1. 1. 1. 1. 1. 1. 1. 1. 1. 1. 1. 1. 1. 1. 1. 1. 1.\n",
      " 1. 1. 1. 1. 1. 1. 1. 1. 1. 1. 1. 1.]\n",
      "Number of NaN values in the correlation matrix:\n",
      "0\n"
     ]
    }
   ],
   "source": [
    "# Print the diagonal of the correlation matrix and check for NaN values\n",
    "print(\"Diagonal of the correlation matrix (should be 1):\")\n",
    "print(corr_df_young_old.values.diagonal())\n",
    "print(\"Number of NaN values in the correlation matrix:\")\n",
    "print(np.isnan(corr_df_young_old.values).sum())"
   ]
  },
  {
   "cell_type": "code",
   "execution_count": 76,
   "id": "47264211",
   "metadata": {},
   "outputs": [
    {
     "name": "stdout",
     "output_type": "stream",
     "text": [
      "Top genes correlated with ENSG00000166710 in old donors:\n",
      "ENSG00000166710    1.000000\n",
      "ENSG00000204525    0.794538\n",
      "ENSG00000105374    0.734490\n",
      "ENSG00000234745    0.728718\n",
      "ENSG00000271503    0.712339\n",
      "ENSG00000206503    0.690381\n",
      "ENSG00000204592    0.667698\n",
      "ENSG00000115523    0.614709\n",
      "ENSG00000108518    0.574090\n",
      "ENSG00000127528    0.557906\n",
      "Name: ENSG00000166710, dtype: float64\n"
     ]
    }
   ],
   "source": [
    "# Find top correlated genes for a specific gene of interest in old donors\n",
    "if target_gene in corr_df_young_old.columns:\n",
    "    target_correlations_old = corr_df_young_old[target_gene].sort_values(ascending=False)\n",
    "    print(f\"Top genes correlated with {target_gene} in old donors:\")\n",
    "    print(target_correlations_old.head(10))\n",
    "else:\n",
    "    print(f\"{target_gene} not found in the old donor dataset\")"
   ]
  },
  {
   "cell_type": "code",
   "execution_count": 77,
   "id": "62c0767e",
   "metadata": {},
   "outputs": [
    {
     "name": "stdout",
     "output_type": "stream",
     "text": [
      "Difference in correlation between young and old donors:\n",
      "                 ENSG00000116251  ENSG00000142676  ENSG00000142669  \\\n",
      "ENSG00000116251         0.000000         0.028675     2.425776e-01   \n",
      "ENSG00000142676         0.028675         0.000000     3.019102e-01   \n",
      "ENSG00000142669         0.242578         0.301910     1.110223e-16   \n",
      "ENSG00000142937         0.066972         0.041282     1.739678e-01   \n",
      "ENSG00000177606         0.168205         0.355668    -1.426803e-01   \n",
      "\n",
      "                 ENSG00000142937  ENSG00000177606  ENSG00000122406  \\\n",
      "ENSG00000116251         0.066972     1.682046e-01        -0.019041   \n",
      "ENSG00000142676         0.041282     3.556684e-01        -0.008988   \n",
      "ENSG00000142669         0.173968    -1.426803e-01         0.442757   \n",
      "ENSG00000142937         0.000000     2.872648e-01        -0.112311   \n",
      "ENSG00000177606         0.287265     2.220446e-16         0.283976   \n",
      "\n",
      "                 ENSG00000163220  ENSG00000197956  ENSG00000196154  \\\n",
      "ENSG00000116251        -0.046119         0.230522         0.343095   \n",
      "ENSG00000142676        -0.114721         0.367427         0.495335   \n",
      "ENSG00000142669         0.033269         0.045872         0.026851   \n",
      "ENSG00000142937        -0.006137         0.343097         0.381633   \n",
      "ENSG00000177606        -0.218485         0.065214         0.146071   \n",
      "\n",
      "                 ENSG00000177954  ...  ENSG00000198763  ENSG00000198804  \\\n",
      "ENSG00000116251        -0.116822  ...         0.156948         0.445127   \n",
      "ENSG00000142676         0.061231  ...        -0.190602         0.609882   \n",
      "ENSG00000142669         0.356462  ...        -0.253156        -0.682523   \n",
      "ENSG00000142937        -0.041545  ...        -0.139461         0.643374   \n",
      "ENSG00000177606         0.072186  ...        -0.227720        -0.041210   \n",
      "\n",
      "                 ENSG00000198712  ENSG00000198899  ENSG00000198938  \\\n",
      "ENSG00000116251         0.463571         0.248306         0.270644   \n",
      "ENSG00000142676         0.605364         0.046146         0.193343   \n",
      "ENSG00000142669        -0.296656        -0.661634        -0.435664   \n",
      "ENSG00000142937         0.633293         0.020819         0.251878   \n",
      "ENSG00000177606         0.174975        -0.192277        -0.073049   \n",
      "\n",
      "                 ENSG00000198840  ENSG00000212907  ENSG00000198886  \\\n",
      "ENSG00000116251         0.368640         0.556975         0.797318   \n",
      "ENSG00000142676         0.480725         0.655566         0.427013   \n",
      "ENSG00000142669        -0.233803        -0.272082        -0.243758   \n",
      "ENSG00000142937         0.559158         0.334854         0.557325   \n",
      "ENSG00000177606        -0.082186         0.014875         0.080442   \n",
      "\n",
      "                 ENSG00000198786  ENSG00000198727  \n",
      "ENSG00000116251         0.436862         0.306822  \n",
      "ENSG00000142676         0.395628         0.351944  \n",
      "ENSG00000142669        -0.321465         0.059232  \n",
      "ENSG00000142937         0.352489         0.307228  \n",
      "ENSG00000177606        -0.306870        -0.098392  \n",
      "\n",
      "[5 rows x 132 columns]\n",
      "Dimensions of the correlation matrix for young donors: (132, 132)\n",
      "Dimensions of the correlation matrix for old donors: (132, 132)\n"
     ]
    }
   ],
   "source": [
    "# Find the differences in correlation between young and old donors\n",
    "diff_corr = corr_df_young - corr_df_young_old\n",
    "print(\"Difference in correlation between young and old donors:\")\n",
    "print(diff_corr.head())\n",
    "\n",
    "# Assert that the diagonal of the difference correlation matrix is 0\n",
    "assert np.all(diff_corr.values.diagonal() <= 1.0e-10), \"Diagonal of the difference correlation matrix is not zero\"\n",
    "\n",
    "# Print the dimensions of the correlation matrices\n",
    "print(\"Dimensions of the correlation matrix for young donors:\", corr_df_young.shape)\n",
    "print(\"Dimensions of the correlation matrix for old donors:\", corr_df_young_old.shape)"
   ]
  },
  {
   "cell_type": "code",
   "execution_count": 78,
   "id": "b44b9eff",
   "metadata": {},
   "outputs": [],
   "source": [
    "# Find the top 10 genes pairs with the largest absolute difference in correlation\n",
    "top_diff_genes = diff_corr.abs().unstack().sort_values(ascending=False)"
   ]
  },
  {
   "cell_type": "code",
   "execution_count": 79,
   "id": "7dad1455",
   "metadata": {},
   "outputs": [
    {
     "name": "stdout",
     "output_type": "stream",
     "text": [
      "Top 10 gene pairs with the largest absolute difference in correlation:\n",
      "ENSG00000198712  ENSG00000197756    1.151111\n",
      "ENSG00000197756  ENSG00000198712    1.151111\n",
      "ENSG00000147403  ENSG00000184009    1.142995\n",
      "ENSG00000184009  ENSG00000147403    1.142995\n",
      "ENSG00000161016  ENSG00000034510    1.141795\n",
      "ENSG00000034510  ENSG00000161016    1.141795\n",
      "ENSG00000184009  ENSG00000122406    1.133046\n",
      "ENSG00000122406  ENSG00000184009    1.133046\n",
      "ENSG00000184009  ENSG00000161016    1.119225\n",
      "ENSG00000161016  ENSG00000184009    1.119225\n",
      "dtype: float64\n"
     ]
    }
   ],
   "source": [
    "print(\"Top 10 gene pairs with the largest absolute difference in correlation:\")\n",
    "print(top_diff_genes.head(10))"
   ]
  },
  {
   "cell_type": "code",
   "execution_count": 80,
   "id": "5bb36abc",
   "metadata": {},
   "outputs": [],
   "source": [
    "# We define a significant difference as a difference greater than 0.3\n",
    "significant_diff = 0.3\n",
    "\n",
    "# We want to create a network of genes with a significant difference in correlation between young and old donors\n",
    "# So we want to make a list of all the genes and for every gene we want a list with all the genes that are significantly different\n",
    "# in correlation with that gene so for example if gene A has a significant difference in correlation with gene B and gene C\n",
    "# we want to add B and C to the list of gene A [A: [B, C]]\n",
    "# We will use a dictionary to store the results\n",
    "significant_diff_dict = {}\n",
    "for gene in corr_df_young.columns:\n",
    "    # Get the differences in correlation for the current gene\n",
    "    diff_for_gene = diff_corr[gene]\n",
    "    \n",
    "    # Find genes with significant differences\n",
    "    significant_genes = diff_for_gene[diff_for_gene.abs() > significant_diff].index.tolist()\n",
    "    \n",
    "    # Store the results in the dictionary\n",
    "    significant_diff_dict[gene] = significant_genes"
   ]
  },
  {
   "cell_type": "code",
   "execution_count": 81,
   "id": "0dd10799",
   "metadata": {},
   "outputs": [],
   "source": [
    "# Plot the genes with the most significant differences\n",
    "# We will plot the top 10 genes with the most significant differences in the dictionary\n",
    "top_genes = sorted(significant_diff_dict.items(), key=lambda x: len(x[1]), reverse=True)\n"
   ]
  },
  {
   "cell_type": "code",
   "execution_count": 83,
   "id": "b9fb37cc",
   "metadata": {},
   "outputs": [
    {
     "name": "stdout",
     "output_type": "stream",
     "text": [
      "Top 10 gene pairs with the largest absolute difference in correlation:\n",
      "ENSG00000184009: 103\n",
      "ENSG00000034510: 99\n",
      "ENSG00000150991: 98\n",
      "ENSG00000198712: 95\n",
      "ENSG00000198804: 94\n",
      "ENSG00000132475: 93\n",
      "ENSG00000146278: 92\n",
      "ENSG00000197728: 92\n",
      "ENSG00000198840: 92\n",
      "ENSG00000198886: 92\n",
      "{'ENSG00000184009': 103, 'ENSG00000034510': 99, 'ENSG00000150991': 98, 'ENSG00000198712': 95, 'ENSG00000198804': 94, 'ENSG00000132475': 93, 'ENSG00000146278': 92, 'ENSG00000197728': 92, 'ENSG00000198840': 92, 'ENSG00000198886': 92}\n",
      "ENSG00000100906: 22\n",
      "ENSG00000087086: 22\n",
      "ENSG00000251562: 18\n",
      "ENSG00000090382: 17\n",
      "ENSG00000130066: 17\n",
      "ENSG00000173812: 16\n",
      "ENSG00000204592: 15\n",
      "ENSG00000163220: 14\n",
      "ENSG00000206172: 11\n",
      "ENSG00000188536: 10\n",
      "{'ENSG00000100906': 22, 'ENSG00000087086': 22, 'ENSG00000251562': 18, 'ENSG00000090382': 17, 'ENSG00000130066': 17, 'ENSG00000173812': 16, 'ENSG00000204592': 15, 'ENSG00000163220': 14, 'ENSG00000206172': 11, 'ENSG00000188536': 10}\n"
     ]
    }
   ],
   "source": [
    "print(\"Top 10 gene pairs with the largest absolute difference in correlation:\")\n",
    "top_genes_replace_list_with_length = {}\n",
    "for gene, diff_genes in top_genes[:10]:\n",
    "    print(f\"{gene}: {len(diff_genes)}\")\n",
    "    top_genes_replace_list_with_length[gene] = len(diff_genes)\n",
    "print(top_genes_replace_list_with_length)\n",
    "\n",
    "# Plot the top 10 genes with the least significant differences in the dictionary\n",
    "top_genes_replace_list_with_length = {}\n",
    "for gene, diff_genes in top_genes[-10:]:\n",
    "    print(f\"{gene}: {len(diff_genes)}\")\n",
    "    top_genes_replace_list_with_length[gene] = len(diff_genes)\n",
    "print(top_genes_replace_list_with_length)"
   ]
  },
  {
   "cell_type": "code",
   "execution_count": null,
   "id": "c5cd95cf",
   "metadata": {},
   "outputs": [],
   "source": []
  }
 ],
 "metadata": {
  "kernelspec": {
   "display_name": "base",
   "language": "python",
   "name": "python3"
  },
  "language_info": {
   "codemirror_mode": {
    "name": "ipython",
    "version": 3
   },
   "file_extension": ".py",
   "mimetype": "text/x-python",
   "name": "python",
   "nbconvert_exporter": "python",
   "pygments_lexer": "ipython3",
   "version": "3.11.4"
  }
 },
 "nbformat": 4,
 "nbformat_minor": 5
}
