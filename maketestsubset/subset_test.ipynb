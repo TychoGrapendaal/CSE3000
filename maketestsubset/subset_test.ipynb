{
 "cells": [
  {
   "cell_type": "markdown",
   "id": "de74baa0",
   "metadata": {},
   "source": [
    "# Subset"
   ]
  },
  {
   "cell_type": "code",
   "execution_count": 3,
   "id": "edb0606d",
   "metadata": {},
   "outputs": [
    {
     "name": "stdout",
     "output_type": "stream",
     "text": [
      "0.11.4\n"
     ]
    }
   ],
   "source": [
    "import numpy as np\n",
    "import pandas as pd\n",
    "import anndata as ad\n",
    "from scipy.sparse import csr_matrix\n",
    "from scipy.sparse import issparse\n",
    "import matplotlib.pyplot as plt\n",
    "import seaborn as sns\n",
    "print(ad.__version__)"
   ]
  },
  {
   "cell_type": "code",
   "execution_count": 4,
   "id": "69c396a9",
   "metadata": {},
   "outputs": [
    {
     "name": "stdout",
     "output_type": "stream",
     "text": [
      "AnnData object with n_obs × n_vars = 1058909 × 36169 backed at '..\\\\h5ad\\\\0fce5dd5-bcec-4288-90b3-19a16b45ad16.h5ad'\n",
      "    obs: 'reference_genome', 'gene_annotation_version', 'alignment_software', 'intronic_reads_counted', 'library_id', 'assay_ontology_term_id', 'sequenced_fragment', 'cell_number_loaded', 'institute', 'is_primary_data', 'cell_type_ontology_term_id', 'author_cell_type', 'sample_id', 'sample_preservation_method', 'tissue_ontology_term_id', 'development_stage_ontology_term_id', 'sample_collection_method', 'donor_BMI_at_collection', 'tissue_type', 'suspension_derivation_process', 'suspension_enriched_cell_types', 'cell_viability_percentage', 'suspension_uuid', 'suspension_type', 'donor_id', 'self_reported_ethnicity_ontology_term_id', 'donor_living_at_sample_collection', 'organism_ontology_term_id', 'disease_ontology_term_id', 'sex_ontology_term_id', 'Country', 'nCount_RNA', 'nFeature_RNA', 'TCR_VDJdb', 'TCRa_V_gene', 'TCRa_D_gene', 'TCRa_J_gene', 'TCRa_C_gene', 'TCRb_V_gene', 'TCRb_D_gene', 'TCRb_J_gene', 'TCRb_C_gene', 'TCR_Clonality', 'TCR_Clone_ID', 'BCR_VDJ_V_call', 'BCR_VDJ_D_call', 'BCR_VDJ_J_call', 'BCR_VDJ_C_call', 'BCR_VJ_V_call', 'BCR_VJ_J_call', 'BCR_VJ_C_call', 'BCR_Clonality', 'BCR_Clone_size', 'BCR_mu_freq', 'cell_type', 'assay', 'disease', 'organism', 'sex', 'tissue', 'self_reported_ethnicity', 'development_stage', 'observation_joinid'\n",
      "    var: 'feature_is_filtered', 'feature_name', 'feature_reference', 'feature_biotype', 'feature_length', 'feature_type'\n",
      "    uns: 'citation', 'default_embedding', 'schema_reference', 'schema_version', 'title'\n",
      "    obsm: 'X_umap'\n"
     ]
    }
   ],
   "source": [
    "adata = ad.read_h5ad(\"../h5ad/0fce5dd5-bcec-4288-90b3-19a16b45ad16.h5ad\", backed='r')\n",
    "print(adata)\n"
   ]
  },
  {
   "cell_type": "code",
   "execution_count": 5,
   "id": "f1f8ca37",
   "metadata": {},
   "outputs": [
    {
     "name": "stdout",
     "output_type": "stream",
     "text": [
      "AnnData object with n_obs × n_vars = 141 × 36169\n",
      "    obs: 'reference_genome', 'gene_annotation_version', 'alignment_software', 'intronic_reads_counted', 'library_id', 'assay_ontology_term_id', 'sequenced_fragment', 'cell_number_loaded', 'institute', 'is_primary_data', 'cell_type_ontology_term_id', 'author_cell_type', 'sample_id', 'sample_preservation_method', 'tissue_ontology_term_id', 'development_stage_ontology_term_id', 'sample_collection_method', 'donor_BMI_at_collection', 'tissue_type', 'suspension_derivation_process', 'suspension_enriched_cell_types', 'cell_viability_percentage', 'suspension_uuid', 'suspension_type', 'donor_id', 'self_reported_ethnicity_ontology_term_id', 'donor_living_at_sample_collection', 'organism_ontology_term_id', 'disease_ontology_term_id', 'sex_ontology_term_id', 'Country', 'nCount_RNA', 'nFeature_RNA', 'TCR_VDJdb', 'TCRa_V_gene', 'TCRa_D_gene', 'TCRa_J_gene', 'TCRa_C_gene', 'TCRb_V_gene', 'TCRb_D_gene', 'TCRb_J_gene', 'TCRb_C_gene', 'TCR_Clonality', 'TCR_Clone_ID', 'BCR_VDJ_V_call', 'BCR_VDJ_D_call', 'BCR_VDJ_J_call', 'BCR_VDJ_C_call', 'BCR_VJ_V_call', 'BCR_VJ_J_call', 'BCR_VJ_C_call', 'BCR_Clonality', 'BCR_Clone_size', 'BCR_mu_freq', 'cell_type', 'assay', 'disease', 'organism', 'sex', 'tissue', 'self_reported_ethnicity', 'development_stage', 'observation_joinid'\n",
      "    var: 'feature_is_filtered', 'feature_name', 'feature_reference', 'feature_biotype', 'feature_length', 'feature_type'\n",
      "    uns: 'citation', 'default_embedding', 'schema_reference', 'schema_version', 'title'\n",
      "    obsm: 'X_umap'\n",
      "  (0, 24)\t0.8972525950788295\n",
      "  (0, 30)\t1.362439513153965\n",
      "  (0, 44)\t1.362439513153965\n",
      "  (0, 53)\t1.362439513153965\n",
      "  (0, 55)\t0.8972525950788295\n",
      "  (0, 59)\t0.8972525950788295\n",
      "  (0, 60)\t0.8972525950788295\n",
      "  (0, 62)\t0.8972525950788295\n",
      "  (0, 69)\t0.8972525950788295\n",
      "  (0, 78)\t0.8972525950788295\n",
      "  (0, 80)\t0.8972525950788295\n",
      "  (0, 83)\t0.8972525950788295\n",
      "  (0, 85)\t1.362439513153965\n",
      "  (0, 97)\t0.8972525950788295\n",
      "  (0, 104)\t0.8972525950788295\n",
      "  (0, 136)\t1.362439513153965\n",
      "  (0, 147)\t0.8972525950788295\n",
      "  (0, 170)\t2.273890220813528\n",
      "  (0, 216)\t0.8972525950788295\n",
      "  (0, 219)\t0.8972525950788295\n",
      "  (0, 234)\t1.362439513153965\n",
      "  (0, 237)\t1.362439513153965\n",
      "  (0, 250)\t0.8972525950788295\n",
      "  (0, 277)\t0.8972525950788295\n",
      "  (0, 279)\t0.8972525950788295\n",
      "  :\t:\n",
      "  (4, 35816)\t1.168999547848254\n",
      "  (4, 35818)\t1.6933270473193307\n",
      "  (4, 35873)\t1.6933270473193307\n",
      "  (4, 35900)\t1.168999547848254\n",
      "  (4, 35953)\t1.168999547848254\n",
      "  (4, 35958)\t1.168999547848254\n",
      "  (4, 35965)\t1.168999547848254\n",
      "  (4, 35973)\t1.168999547848254\n",
      "  (4, 35976)\t3.9936121946534398\n",
      "  (4, 35982)\t1.168999547848254\n",
      "  (4, 35985)\t1.168999547848254\n",
      "  (4, 35989)\t1.168999547848254\n",
      "  (4, 36132)\t3.0430421621219113\n",
      "  (4, 36133)\t2.492697390079902\n",
      "  (4, 36134)\t4.179671028200819\n",
      "  (4, 36135)\t3.4676962055772305\n",
      "  (4, 36136)\t1.168999547848254\n",
      "  (4, 36137)\t3.395984498588774\n",
      "  (4, 36138)\t3.143622311098849\n",
      "  (4, 36139)\t2.290014736463592\n",
      "  (4, 36140)\t2.805261336994607\n",
      "  (4, 36141)\t2.0355304582984006\n",
      "  (4, 36142)\t2.805261336994607\n",
      "  (4, 36143)\t2.0355304582984006\n",
      "  (4, 36144)\t3.2350042127882714\n",
      "  (0, 24)\t1.0\n",
      "  (0, 30)\t2.0\n",
      "  (0, 44)\t2.0\n",
      "  (0, 53)\t2.0\n",
      "  (0, 55)\t1.0\n",
      "  (0, 59)\t1.0\n",
      "  (0, 60)\t1.0\n",
      "  (0, 62)\t1.0\n",
      "  (0, 69)\t1.0\n",
      "  (0, 78)\t1.0\n",
      "  (0, 80)\t1.0\n",
      "  (0, 83)\t1.0\n",
      "  (0, 85)\t2.0\n",
      "  (0, 97)\t1.0\n",
      "  (0, 104)\t1.0\n",
      "  (0, 136)\t2.0\n",
      "  (0, 147)\t1.0\n",
      "  (0, 170)\t6.0\n",
      "  (0, 216)\t1.0\n",
      "  (0, 219)\t1.0\n",
      "  (0, 234)\t2.0\n",
      "  (0, 237)\t2.0\n",
      "  (0, 250)\t1.0\n",
      "  (0, 277)\t1.0\n",
      "  (0, 279)\t1.0\n",
      "  :\t:\n",
      "  (4, 35816)\t1.0\n",
      "  (4, 35818)\t2.0\n",
      "  (4, 35873)\t2.0\n",
      "  (4, 35900)\t1.0\n",
      "  (4, 35953)\t1.0\n",
      "  (4, 35958)\t1.0\n",
      "  (4, 35965)\t1.0\n",
      "  (4, 35973)\t1.0\n",
      "  (4, 35976)\t24.0\n",
      "  (4, 35982)\t1.0\n",
      "  (4, 35985)\t1.0\n",
      "  (4, 35989)\t1.0\n",
      "  (4, 36132)\t9.0\n",
      "  (4, 36133)\t5.0\n",
      "  (4, 36134)\t29.0\n",
      "  (4, 36135)\t14.0\n",
      "  (4, 36136)\t1.0\n",
      "  (4, 36137)\t13.0\n",
      "  (4, 36138)\t10.0\n",
      "  (4, 36139)\t4.0\n",
      "  (4, 36140)\t7.0\n",
      "  (4, 36141)\t3.0\n",
      "  (4, 36142)\t7.0\n",
      "  (4, 36143)\t3.0\n",
      "  (4, 36144)\t11.0\n"
     ]
    }
   ],
   "source": [
    "# Create a subset of the erythrocyte type\n",
    "erythrocyte = adata[adata.obs['cell_type'] == 'erythrocyte'].to_memory()\n",
    "print(erythrocyte)\n",
    "\n",
    "# Print the first few rows of the data .X matrix\n",
    "print(erythrocyte.X[:5])\n",
    "\n",
    "# Print the first few rows of the data .raw_X matrix\n",
    "print(erythrocyte.raw.X[:5])"
   ]
  },
  {
   "cell_type": "code",
   "execution_count": null,
   "id": "05fbf817",
   "metadata": {},
   "outputs": [
    {
     "name": "stdout",
     "output_type": "stream",
     "text": [
      "Test data created with shape: (300, 50)\n",
      "Cell types: ['regulatory T cell', 'central memory CD4-positive, alpha-beta T cell', 'CD8-positive, alpha-beta T cell', 'effector memory CD4-positive, alpha-beta T cell', 'CD4-positive, alpha-beta T cell', 'double negative T regulatory cell', 'CD8-positive, alpha-beta memory T cell', 'gamma-delta T cell', 'innate lymphoid cell']\n",
      "Categories (9, object): ['CD4-positive, alpha-beta T cell', 'CD8-positive, alpha-beta T cell', 'CD8-positive, alpha-beta memory T cell', 'central memory CD4-positive, alpha-beta T cell', ..., 'effector memory CD4-positive, alpha-beta T cell', 'gamma-delta T cell', 'innate lymphoid cell', 'regulatory T cell']\n",
      "Donors: ['donor2', 'donor1', 'donor4', 'donor9', 'donor11', ..., 'donor8', 'donor12', 'donor6', 'donor5', 'donor7']\n",
      "Length: 12\n",
      "Categories (12, object): ['donor1', 'donor2', 'donor3', 'donor4', ..., 'donor9', 'donor10', 'donor11', 'donor12']\n",
      "Age stages: ['20-year-old stage', '30-year-old stage', '60-year-old stage', '70-year-old stage', '50-year-old stage', '40-year-old stage']\n",
      "Categories (6, object): ['20-year-old stage', '30-year-old stage', '40-year-old stage', '50-year-old stage', '60-year-old stage', '70-year-old stage']\n"
     ]
    },
    {
     "name": "stderr",
     "output_type": "stream",
     "text": [
      "c:\\Users\\Tycho\\anaconda3\\Lib\\site-packages\\anndata\\_core\\aligned_df.py:68: ImplicitModificationWarning: Transforming to str index.\n",
      "  warnings.warn(\"Transforming to str index.\", ImplicitModificationWarning)\n",
      "c:\\Users\\Tycho\\anaconda3\\Lib\\site-packages\\anndata\\_core\\aligned_df.py:68: ImplicitModificationWarning: Transforming to str index.\n",
      "  warnings.warn(\"Transforming to str index.\", ImplicitModificationWarning)\n"
     ]
    },
    {
     "data": {
      "image/png": "[encoded data removed]",
      "text/plain": [
       "<Figure size 1000x600 with 1 Axes>"
      ]
     },
     "metadata": {},
     "output_type": "display_data"
    }
   ],
   "source": [
    "def create_test_data():\n",
    "    # Set random seed for reproducibility\n",
    "    np.random.seed(42)\n",
    "    \n",
    "    # Create a small test dataset with 9 cell types and 12 donors\n",
    "    n_cells = 600\n",
    "    n_genes = 50\n",
    "    \n",
    "    # Generate random expression data (sparse matrix)\n",
    "    X = np.random.negative_binomial(5, 0.3, size=(n_cells, (n_genes-2)))\n",
    "    X = np.concatenate([X, np.zeros((n_cells, 2))], axis=1)  # Add two zero columns\n",
    "    X = csr_matrix(X)\n",
    "\n",
    "    cell_type = np.random.choice([\n",
    "        \"CD4-positive, alpha-beta T cell\",\n",
    "        \"CD8-positive, alpha-beta memory T cell\",\n",
    "        \"CD8-positive, alpha-beta T cell\",\n",
    "        \"central memory CD4-positive, alpha-beta T cell\",\n",
    "        \"double negative T regulatory cell\",\n",
    "        \"effector memory CD4-positive, alpha-beta T cell\",\n",
    "        \"gamma-delta T cell\",\n",
    "        \"innate lymphoid cell\",\n",
    "        \"regulatory T cell\"\n",
    "    ], size=n_cells)\n",
    "    \n",
    "    choices_donor_and_age = [\n",
    "        ('donor1', '20-year-old stage'),\n",
    "        ('donor2', '20-year-old stage'),\n",
    "        ('donor3', '30-year-old stage'),\n",
    "        ('donor4', '30-year-old stage'),\n",
    "        ('donor5', '40-year-old stage'),\n",
    "        ('donor6', '40-year-old stage'),\n",
    "        ('donor7', '50-year-old stage'),\n",
    "        ('donor8', '50-year-old stage'),\n",
    "        ('donor9', '60-year-old stage'),\n",
    "        ('donor10', '60-year-old stage'),\n",
    "        ('donor11', '70-year-old stage'),\n",
    "        ('donor12', '70-year-old stage')\n",
    "    ]\n",
    "\n",
    "    \n",
    "    indexes = np.random.choice(len(choices_donor_and_age), size=n_cells)\n",
    "    donor_and_age = [choices_donor_and_age[i] for i in indexes]\n",
    "    donor_and_age = np.array(donor_and_age)\n",
    "\n",
    "    \n",
    "    # Create cell metadata\n",
    "    obs = pd.DataFrame({\n",
    "        'cell_type': cell_type,\n",
    "        'donor_id': [donor for donor, _ in donor_and_age],\n",
    "        'development_stage': [age for _, age in donor_and_age],\n",
    "    })\n",
    "    \n",
    "    # Create gene metadata\n",
    "    var = pd.DataFrame(index=[f'gene_{i}' for i in range(n_genes)])\n",
    "    \n",
    "    # Create the AnnData object\n",
    "    adata_test = ad.AnnData(X=X, obs=obs, var=var, raw=ad.AnnData(X=X, obs=obs, var=var))\n",
    "    \n",
    "    return adata_test\n",
    "\n",
    "# Create test data\n",
    "test_data = create_test_data()\n",
    "\n",
    "# Save to file\n",
    "test_data.write_h5ad(\"test_data.h5ad\")\n",
    "\n",
    "# Verify the structure\n",
    "print(\"Test data created with shape:\", test_data.shape)\n",
    "print(\"Cell types:\", test_data.obs['cell_type'].unique())\n",
    "print(\"Donors:\", test_data.obs['donor_id'].unique())\n",
    "print(\"Age stages:\", test_data.obs['development_stage'].unique())\n",
    "\n",
    "# Plot age distribution for one cell type to test visualization\n",
    "# Use a bar graph to visualize the age distribution of a specific cell type\n",
    "celltype = 'CD4-positive, alpha-beta T cell'\n",
    "subset = test_data[test_data.obs['cell_type'] == celltype]\n",
    "string_age = subset.obs['development_stage'].astype(str)\n",
    "string_age = string_age.str.extract('(\\d+)').astype(int).squeeze()\n",
    "plt.figure(figsize=(10, 6))\n",
    "sns.countplot(x=string_age, order=sorted(string_age.unique()))\n",
    "plt.title(f'Age Distribution for {celltype}')\n",
    "plt.xlabel('Age (years)')\n",
    "plt.ylabel('Count')\n",
    "plt.xticks(rotation=45)\n",
    "plt.tight_layout()\n",
    "plt.show()"
   ]
  },
  {
   "cell_type": "code",
   "execution_count": 7,
   "id": "7313224a",
   "metadata": {},
   "outputs": [
    {
     "name": "stdout",
     "output_type": "stream",
     "text": [
      "                                         cell_type donor_id  development_stage\n",
      "0                                regulatory T cell   donor2  20-year-old stage\n",
      "1   central memory CD4-positive, alpha-beta T cell   donor1  20-year-old stage\n",
      "2                  CD8-positive, alpha-beta T cell   donor4  30-year-old stage\n",
      "3  effector memory CD4-positive, alpha-beta T cell   donor9  60-year-old stage\n",
      "4                  CD8-positive, alpha-beta T cell   donor2  20-year-old stage\n",
      "Empty DataFrame\n",
      "Columns: []\n",
      "Index: [gene_0, gene_1, gene_2, gene_3, gene_4, gene_5, gene_6, gene_7, gene_8, gene_9, gene_10, gene_11, gene_12, gene_13, gene_14, gene_15, gene_16, gene_17, gene_18, gene_19, gene_20, gene_21, gene_22, gene_23, gene_24, gene_25, gene_26, gene_27, gene_28, gene_29, gene_30, gene_31, gene_32, gene_33, gene_34, gene_35, gene_36, gene_37, gene_38, gene_39, gene_40, gene_41, gene_42, gene_43, gene_44, gene_45, gene_46, gene_47, gene_48, gene_49]\n"
     ]
    }
   ],
   "source": [
    "# Print the first few rows of the test data\n",
    "print(test_data.obs.head())\n",
    "print(test_data.var.head(51))"
   ]
  },
  {
   "cell_type": "code",
   "execution_count": 8,
   "id": "7a2a320d",
   "metadata": {},
   "outputs": [
    {
     "name": "stdout",
     "output_type": "stream",
     "text": [
      "Test data .x shape: (300, 50)\n"
     ]
    }
   ],
   "source": [
    "# Print test data .x\n",
    "print(\"Test data .x shape:\", test_data.X.shape)\n",
    "\n",
    "for i in range(100):\n",
    "    # if the donor_id is 1 print the row\n",
    "    if test_data.obs['donor_id'].iloc[i] == 'donor1':\n",
    "        # If the cell_type is 'CD14-positive monocyte' print the row\n",
    "        if test_data.obs['cell_type'].iloc[i] == 'CD14-positive monocyte':\n",
    "            print(f\"Test data .x row {i} (dense):\", test_data.X[i].A.flatten())"
   ]
  },
  {
   "cell_type": "code",
   "execution_count": 9,
   "id": "b10551a2",
   "metadata": {},
   "outputs": [
    {
     "name": "stdout",
     "output_type": "stream",
     "text": [
      "First 10 rows of test data .X (dense):\n",
      "[15. 11.  7. 13.  7.  6. 12. 10.  7. 20.  6.  9.  5. 21. 17. 18.  6. 11.\n",
      "  9. 22. 21. 17.  4.  6. 16.  9.  4.  8. 20. 22.  7. 15. 19. 16. 17. 16.\n",
      " 10. 18. 12.  5.  4. 10. 10. 19.  8. 11. 23.  3.  0.  0.]\n",
      "[15. 11.  7. 13.  7.  6. 12. 10.  7. 20.  6.  9.  5. 21. 17. 18.  6. 11.\n",
      "  9. 22. 21. 17.  4.  6. 16.  9.  4.  8. 20. 22.  7. 15. 19. 16. 17. 16.\n",
      " 10. 18. 12.  5.  4. 10. 10. 19.  8. 11. 23.  3.  0.  0.]\n",
      "[12.  8.  8. 10. 14. 19. 22. 13. 13.  8. 22. 15.  5. 11. 18. 11. 11.  4.\n",
      "  5. 17.  9. 21.  7. 17. 11. 15.  6. 14.  6. 18. 16. 11. 11. 12.  5. 11.\n",
      "  5.  9.  6.  2. 10. 10.  6.  3. 12. 15.  8.  7.  0.  0.]\n",
      "[12.  8.  8. 10. 14. 19. 22. 13. 13.  8. 22. 15.  5. 11. 18. 11. 11.  4.\n",
      "  5. 17.  9. 21.  7. 17. 11. 15.  6. 14.  6. 18. 16. 11. 11. 12.  5. 11.\n",
      "  5.  9.  6.  2. 10. 10.  6.  3. 12. 15.  8.  7.  0.  0.]\n",
      "[ 1. 29.  7.  5.  6. 13. 11. 19. 17. 10. 10.  9.  8. 26. 15. 11. 15. 18.\n",
      " 13. 10. 10. 34.  8. 10.  9. 13. 23.  7. 11. 11.  6. 16. 11.  6.  6. 20.\n",
      " 10. 11.  9.  9.  9.  4. 23. 18. 26. 11. 19. 15.  0.  0.]\n",
      "[ 1. 29.  7.  5.  6. 13. 11. 19. 17. 10. 10.  9.  8. 26. 15. 11. 15. 18.\n",
      " 13. 10. 10. 34.  8. 10.  9. 13. 23.  7. 11. 11.  6. 16. 11.  6.  6. 20.\n",
      " 10. 11.  9.  9.  9.  4. 23. 18. 26. 11. 19. 15.  0.  0.]\n",
      "[ 8. 14.  9. 10. 17.  6. 19.  7. 16.  4. 10.  7. 15.  8.  5. 27. 15. 12.\n",
      " 15.  9. 14. 10. 24. 18.  7. 20. 10. 10. 11. 13. 19.  6. 15. 15.  2. 33.\n",
      "  8. 10.  2. 12. 17. 26. 17. 11. 19. 10.  9. 14.  0.  0.]\n",
      "[ 8. 14.  9. 10. 17.  6. 19.  7. 16.  4. 10.  7. 15.  8.  5. 27. 15. 12.\n",
      " 15.  9. 14. 10. 24. 18.  7. 20. 10. 10. 11. 13. 19.  6. 15. 15.  2. 33.\n",
      "  8. 10.  2. 12. 17. 26. 17. 11. 19. 10.  9. 14.  0.  0.]\n",
      "[23. 11.  5. 15. 16.  8.  7. 20. 24.  8.  9. 11. 10.  9. 15. 18. 10.  6.\n",
      "  7.  7.  0. 22. 11.  6.  6.  8. 22.  8. 10.  9. 17. 10.  3.  3. 12. 16.\n",
      "  6. 11. 13. 12. 17.  9.  4. 10.  4. 11.  6.  9.  0.  0.]\n",
      "[23. 11.  5. 15. 16.  8.  7. 20. 24.  8.  9. 11. 10.  9. 15. 18. 10.  6.\n",
      "  7.  7.  0. 22. 11.  6.  6.  8. 22.  8. 10.  9. 17. 10.  3.  3. 12. 16.\n",
      "  6. 11. 13. 12. 17.  9.  4. 10.  4. 11.  6.  9.  0.  0.]\n",
      "[ 3.  8. 11.  5.  4.  2. 29.  9.  6.  3.  5.  5. 22. 11. 23. 12. 10. 17.\n",
      " 14.  4. 17. 17. 14.  8. 16. 23.  6. 30. 18. 10. 11.  7.  8.  9. 11.  6.\n",
      "  3.  1. 26.  5.  5. 14. 18.  8.  6.  8. 16. 14.  0.  0.]\n",
      "[ 3.  8. 11.  5.  4.  2. 29.  9.  6.  3.  5.  5. 22. 11. 23. 12. 10. 17.\n",
      " 14.  4. 17. 17. 14.  8. 16. 23.  6. 30. 18. 10. 11.  7.  8.  9. 11.  6.\n",
      "  3.  1. 26.  5.  5. 14. 18.  8.  6.  8. 16. 14.  0.  0.]\n",
      "[15.  7. 14.  7. 11. 18. 12.  9. 16. 14. 14.  6.  9. 16.  3.  8. 15. 20.\n",
      " 11. 20. 11. 13. 10.  7.  7. 10.  9. 15. 21.  5.  4.  5. 20. 17.  4. 12.\n",
      " 18. 16. 13. 18.  9.  8.  5. 30.  8. 12.  5. 10.  0.  0.]\n",
      "[15.  7. 14.  7. 11. 18. 12.  9. 16. 14. 14.  6.  9. 16.  3.  8. 15. 20.\n",
      " 11. 20. 11. 13. 10.  7.  7. 10.  9. 15. 21.  5.  4.  5. 20. 17.  4. 12.\n",
      " 18. 16. 13. 18.  9.  8.  5. 30.  8. 12.  5. 10.  0.  0.]\n",
      "[11. 17. 17.  8. 12. 26. 12. 11. 20. 10. 10.  7. 13.  8.  6. 11. 14.  7.\n",
      "  1.  4.  4.  9. 16.  7. 22.  6.  3.  4. 11.  5.  1. 11. 17.  3.  6. 16.\n",
      " 11.  5. 10.  6. 11.  4.  7. 26. 12. 15. 20. 16.  0.  0.]\n",
      "[11. 17. 17.  8. 12. 26. 12. 11. 20. 10. 10.  7. 13.  8.  6. 11. 14.  7.\n",
      "  1.  4.  4.  9. 16.  7. 22.  6.  3.  4. 11.  5.  1. 11. 17.  3.  6. 16.\n",
      " 11.  5. 10.  6. 11.  4.  7. 26. 12. 15. 20. 16.  0.  0.]\n",
      "[12.  2. 22. 13.  4. 11.  9. 19.  5.  9. 27.  1. 17. 18. 13.  7. 24. 22.\n",
      " 13. 11. 12. 25.  7.  4.  3. 20. 11.  6.  5.  9.  4.  8. 18. 16. 13. 30.\n",
      " 15. 12.  6. 13. 10. 13. 12.  2. 11.  8. 19. 10.  0.  0.]\n",
      "[12.  2. 22. 13.  4. 11.  9. 19.  5.  9. 27.  1. 17. 18. 13.  7. 24. 22.\n",
      " 13. 11. 12. 25.  7.  4.  3. 20. 11.  6.  5.  9.  4.  8. 18. 16. 13. 30.\n",
      " 15. 12.  6. 13. 10. 13. 12.  2. 11.  8. 19. 10.  0.  0.]\n",
      "[ 6.  3. 18. 11. 31. 16. 15. 13. 16.  6.  6. 29.  5. 14.  6.  6. 21. 17.\n",
      " 11.  9.  9. 13. 10. 15.  5.  3. 13. 22. 13.  7. 11. 25.  8.  4. 15.  8.\n",
      " 14.  4. 19. 12. 13. 13. 14. 19. 13.  5. 18. 14.  0.  0.]\n",
      "[ 6.  3. 18. 11. 31. 16. 15. 13. 16.  6.  6. 29.  5. 14.  6.  6. 21. 17.\n",
      " 11.  9.  9. 13. 10. 15.  5.  3. 13. 22. 13.  7. 11. 25.  8.  4. 15.  8.\n",
      " 14.  4. 19. 12. 13. 13. 14. 19. 13.  5. 18. 14.  0.  0.]\n"
     ]
    }
   ],
   "source": [
    "# Print the first 10 rows of the test data .X\n",
    "print(\"First 10 rows of test data .X (dense):\")\n",
    "for i in range(10):\n",
    "    print(test_data.X[i].A.flatten())\n",
    "    print(test_data.raw.X[i].A.flatten())"
   ]
  },
  {
   "cell_type": "code",
   "execution_count": 10,
   "id": "93c68a64",
   "metadata": {},
   "outputs": [
    {
     "name": "stdout",
     "output_type": "stream",
     "text": [
      "Number of cells for each donor_id:\n",
      "donor9     30\n",
      "donor4     29\n",
      "donor10    28\n",
      "donor11    28\n",
      "donor5     27\n",
      "donor1     24\n",
      "donor3     24\n",
      "donor8     24\n",
      "donor6     22\n",
      "donor7     22\n",
      "donor2     21\n",
      "donor12    21\n",
      "Name: donor_id, dtype: int64\n"
     ]
    }
   ],
   "source": [
    "# Print the number of cells for every donor_id\n",
    "donor_counts = test_data.obs['donor_id'].value_counts()\n",
    "print(\"Number of cells for each donor_id:\")\n",
    "print(donor_counts)"
   ]
  },
  {
   "cell_type": "code",
   "execution_count": 11,
   "id": "968cb8c0",
   "metadata": {},
   "outputs": [
    {
     "name": "stdout",
     "output_type": "stream",
     "text": [
      "\n",
      "Number of cells for each donor_id for each cell type:\n",
      "cell_type                        donor_id\n",
      "CD4-positive, alpha-beta T cell  donor4      6\n",
      "                                 donor11     6\n",
      "                                 donor5      5\n",
      "                                 donor9      5\n",
      "                                 donor12     4\n",
      "                                            ..\n",
      "regulatory T cell                donor4      1\n",
      "                                 donor6      1\n",
      "                                 donor8      1\n",
      "                                 donor9      1\n",
      "                                 donor11     1\n",
      "Name: donor_id, Length: 108, dtype: int64\n",
      "\n",
      "Number of cells for each cell type:\n",
      "CD4-positive, alpha-beta T cell                    41\n",
      "innate lymphoid cell                               38\n",
      "gamma-delta T cell                                 35\n",
      "CD8-positive, alpha-beta memory T cell             33\n",
      "double negative T regulatory cell                  33\n",
      "central memory CD4-positive, alpha-beta T cell     32\n",
      "effector memory CD4-positive, alpha-beta T cell    31\n",
      "regulatory T cell                                  29\n",
      "CD8-positive, alpha-beta T cell                    28\n",
      "Name: cell_type, dtype: int64\n"
     ]
    }
   ],
   "source": [
    "# Print the number of cells for every donor_id for each cell type\n",
    "cell_type_counts = test_data.obs.groupby('cell_type')['donor_id'].value_counts()\n",
    "print(\"\\nNumber of cells for each donor_id for each cell type:\")\n",
    "print(cell_type_counts)\n",
    "# Print the number of cells for each cell type\n",
    "cell_type_counts = test_data.obs['cell_type'].value_counts()\n",
    "print(\"\\nNumber of cells for each cell type:\")\n",
    "print(cell_type_counts)"
   ]
  },
  {
   "cell_type": "code",
   "execution_count": null,
   "id": "6117c060",
   "metadata": {},
   "outputs": [],
   "source": []
  }
 ],
 "metadata": {
  "kernelspec": {
   "display_name": "base",
   "language": "python",
   "name": "python3"
  },
  "language_info": {
   "codemirror_mode": {
    "name": "ipython",
    "version": 3
   },
   "file_extension": ".py",
   "mimetype": "text/x-python",
   "name": "python",
   "nbconvert_exporter": "python",
   "pygments_lexer": "ipython3",
   "version": "3.11.4"
  }
 },
 "nbformat": 4,
 "nbformat_minor": 5
}
