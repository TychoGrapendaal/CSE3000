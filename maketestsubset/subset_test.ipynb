{
 "cells": [
  {
   "cell_type": "markdown",
   "id": "de74baa0",
   "metadata": {},
   "source": [
    "# Subset"
   ]
  },
  {
   "cell_type": "code",
   "execution_count": 1,
   "id": "edb0606d",
   "metadata": {},
   "outputs": [
    {
     "name": "stdout",
     "output_type": "stream",
     "text": [
      "0.11.4\n"
     ]
    }
   ],
   "source": [
    "import numpy as np\n",
    "import pandas as pd\n",
    "import anndata as ad\n",
    "from scipy.sparse import csr_matrix\n",
    "from scipy.sparse import issparse\n",
    "import matplotlib.pyplot as plt\n",
    "import seaborn as sns\n",
    "print(ad.__version__)"
   ]
  },
  {
   "cell_type": "code",
   "execution_count": 13,
   "id": "69c396a9",
   "metadata": {},
   "outputs": [
    {
     "name": "stdout",
     "output_type": "stream",
     "text": [
      "AnnData object with n_obs × n_vars = 1058909 × 36169 backed at 'C:\\\\Users\\\\Tycho\\\\Desktop\\\\SchoolTU\\\\year3\\\\q4_RP\\\\data\\\\0fce5dd5-bcec-4288-90b3-19a16b45ad16.h5ad'\n",
      "    obs: 'reference_genome', 'gene_annotation_version', 'alignment_software', 'intronic_reads_counted', 'library_id', 'assay_ontology_term_id', 'sequenced_fragment', 'cell_number_loaded', 'institute', 'is_primary_data', 'cell_type_ontology_term_id', 'author_cell_type', 'sample_id', 'sample_preservation_method', 'tissue_ontology_term_id', 'development_stage_ontology_term_id', 'sample_collection_method', 'donor_BMI_at_collection', 'tissue_type', 'suspension_derivation_process', 'suspension_enriched_cell_types', 'cell_viability_percentage', 'suspension_uuid', 'suspension_type', 'donor_id', 'self_reported_ethnicity_ontology_term_id', 'donor_living_at_sample_collection', 'organism_ontology_term_id', 'disease_ontology_term_id', 'sex_ontology_term_id', 'Country', 'nCount_RNA', 'nFeature_RNA', 'TCR_VDJdb', 'TCRa_V_gene', 'TCRa_D_gene', 'TCRa_J_gene', 'TCRa_C_gene', 'TCRb_V_gene', 'TCRb_D_gene', 'TCRb_J_gene', 'TCRb_C_gene', 'TCR_Clonality', 'TCR_Clone_ID', 'BCR_VDJ_V_call', 'BCR_VDJ_D_call', 'BCR_VDJ_J_call', 'BCR_VDJ_C_call', 'BCR_VJ_V_call', 'BCR_VJ_J_call', 'BCR_VJ_C_call', 'BCR_Clonality', 'BCR_Clone_size', 'BCR_mu_freq', 'cell_type', 'assay', 'disease', 'organism', 'sex', 'tissue', 'self_reported_ethnicity', 'development_stage', 'observation_joinid'\n",
      "    var: 'feature_is_filtered', 'feature_name', 'feature_reference', 'feature_biotype', 'feature_length', 'feature_type'\n",
      "    uns: 'citation', 'default_embedding', 'schema_reference', 'schema_version', 'title'\n",
      "    obsm: 'X_umap'\n"
     ]
    }
   ],
   "source": [
    "adata = ad.read_h5ad(\"C:/Users/Tycho/Desktop/SchoolTU/year3/q4_RP/data/0fce5dd5-bcec-4288-90b3-19a16b45ad16.h5ad\", backed='r')\n",
    "print(adata)"
   ]
  },
  {
   "cell_type": "code",
   "execution_count": 14,
   "id": "f1f8ca37",
   "metadata": {},
   "outputs": [
    {
     "name": "stdout",
     "output_type": "stream",
     "text": [
      "AnnData object with n_obs × n_vars = 141 × 36169\n",
      "    obs: 'reference_genome', 'gene_annotation_version', 'alignment_software', 'intronic_reads_counted', 'library_id', 'assay_ontology_term_id', 'sequenced_fragment', 'cell_number_loaded', 'institute', 'is_primary_data', 'cell_type_ontology_term_id', 'author_cell_type', 'sample_id', 'sample_preservation_method', 'tissue_ontology_term_id', 'development_stage_ontology_term_id', 'sample_collection_method', 'donor_BMI_at_collection', 'tissue_type', 'suspension_derivation_process', 'suspension_enriched_cell_types', 'cell_viability_percentage', 'suspension_uuid', 'suspension_type', 'donor_id', 'self_reported_ethnicity_ontology_term_id', 'donor_living_at_sample_collection', 'organism_ontology_term_id', 'disease_ontology_term_id', 'sex_ontology_term_id', 'Country', 'nCount_RNA', 'nFeature_RNA', 'TCR_VDJdb', 'TCRa_V_gene', 'TCRa_D_gene', 'TCRa_J_gene', 'TCRa_C_gene', 'TCRb_V_gene', 'TCRb_D_gene', 'TCRb_J_gene', 'TCRb_C_gene', 'TCR_Clonality', 'TCR_Clone_ID', 'BCR_VDJ_V_call', 'BCR_VDJ_D_call', 'BCR_VDJ_J_call', 'BCR_VDJ_C_call', 'BCR_VJ_V_call', 'BCR_VJ_J_call', 'BCR_VJ_C_call', 'BCR_Clonality', 'BCR_Clone_size', 'BCR_mu_freq', 'cell_type', 'assay', 'disease', 'organism', 'sex', 'tissue', 'self_reported_ethnicity', 'development_stage', 'observation_joinid'\n",
      "    var: 'feature_is_filtered', 'feature_name', 'feature_reference', 'feature_biotype', 'feature_length', 'feature_type'\n",
      "    uns: 'citation', 'default_embedding', 'schema_reference', 'schema_version', 'title'\n",
      "    obsm: 'X_umap'\n"
     ]
    }
   ],
   "source": [
    "# Create a subset of the erythrocyte type\n",
    "erythrocyte = adata[adata.obs['cell_type'] == 'erythrocyte'].to_memory()\n",
    "print(erythrocyte)"
   ]
  },
  {
   "cell_type": "code",
   "execution_count": 28,
   "id": "05fbf817",
   "metadata": {},
   "outputs": [
    {
     "name": "stderr",
     "output_type": "stream",
     "text": [
      "c:\\Users\\Tycho\\anaconda3\\Lib\\site-packages\\anndata\\_core\\aligned_df.py:68: ImplicitModificationWarning: Transforming to str index.\n",
      "  warnings.warn(\"Transforming to str index.\", ImplicitModificationWarning)\n"
     ]
    },
    {
     "name": "stdout",
     "output_type": "stream",
     "text": [
      "Test data created with shape: (100, 50)\n",
      "Cell types: ['naive thymus-derived CD4-positive, alpha-beta..., 'CD16-positive, CD56-dim natural killer cell, ..., 'CD14-positive monocyte']\n",
      "Categories (3, object): ['CD14-positive monocyte', 'CD16-positive, CD56-dim natural killer cell, ..., 'naive thymus-derived CD4-positive, alpha-beta...]\n",
      "Donors: ['donor3', 'donor2', 'donor5', 'donor4', 'donor1']\n",
      "Categories (5, object): ['donor1', 'donor2', 'donor3', 'donor4', 'donor5']\n",
      "Age stages: ['40-year-old human stage', '35-year-old human stage', '60-year-old human stage', '50-year-old human stage', '30-year-old human stage']\n",
      "Categories (5, object): ['30-year-old human stage', '35-year-old human stage', '40-year-old human stage', '50-year-old human stage', '60-year-old human stage']\n"
     ]
    },
    {
     "data": {
      "image/png": "[encoded data removed]",
      "text/plain": [
       "<Figure size 640x480 with 1 Axes>"
      ]
     },
     "metadata": {},
     "output_type": "display_data"
    }
   ],
   "source": [
    "def create_test_data():\n",
    "    # Set random seed for reproducibility\n",
    "    np.random.seed(42)\n",
    "    \n",
    "    # Create a small test dataset with 3 cell types and 5 donors\n",
    "    n_cells = 100\n",
    "    n_genes = 50\n",
    "    \n",
    "    # Generate random expression data (sparse matrix)\n",
    "    X = np.random.negative_binomial(5, 0.3, size=(n_cells, (n_genes-2)))\n",
    "    X = np.concatenate([X, np.zeros((n_cells, 2))], axis=1)  # Add two zero columns\n",
    "    X = csr_matrix(X)\n",
    "\n",
    "    cell_type = np.random.choice(['CD14-positive monocyte', \n",
    "                                   'naive thymus-derived CD4-positive, alpha-beta T cell',\n",
    "                                   'CD16-positive, CD56-dim natural killer cell, human'], \n",
    "                                  size=n_cells)\n",
    "    \n",
    "    choices_donor_and_age = [('donor1', '30-year-old human stage'),\n",
    "                             ('donor2', '35-year-old human stage'),\n",
    "                             ('donor3', '40-year-old human stage'),\n",
    "                             ('donor4', '50-year-old human stage'),\n",
    "                             ('donor5', '60-year-old human stage')]\n",
    "    \n",
    "    indexes = np.random.choice(len(choices_donor_and_age), size=n_cells)\n",
    "    donor_and_age = [choices_donor_and_age[i] for i in indexes]\n",
    "    donor_and_age = np.array(donor_and_age)\n",
    "\n",
    "    \n",
    "    # Create cell metadata\n",
    "    obs = pd.DataFrame({\n",
    "        'cell_type': cell_type,\n",
    "        'donor_id': [donor for donor, _ in donor_and_age],\n",
    "        'development_stage': [age for _, age in donor_and_age],\n",
    "    })\n",
    "    \n",
    "    # Create gene metadata\n",
    "    var = pd.DataFrame(index=[f'gene_{i}' for i in range(n_genes)])\n",
    "    \n",
    "    # Create the AnnData object\n",
    "    adata = ad.AnnData(X=X, obs=obs, var=var)\n",
    "    \n",
    "    return adata\n",
    "\n",
    "# Create test data\n",
    "test_data = create_test_data()\n",
    "\n",
    "# Save to file\n",
    "test_data.write_h5ad(\"test_data.h5ad\")\n",
    "\n",
    "# Verify the structure\n",
    "print(\"Test data created with shape:\", test_data.shape)\n",
    "print(\"Cell types:\", test_data.obs['cell_type'].unique())\n",
    "print(\"Donors:\", test_data.obs['donor_id'].unique())\n",
    "print(\"Age stages:\", test_data.obs['development_stage'].unique())\n",
    "\n",
    "# Plot age distribution for one cell type to test visualization\n",
    "celltype = 'CD14-positive monocyte'\n",
    "subset = test_data[test_data.obs['cell_type'] == celltype]\n",
    "string_age = subset.obs['development_stage'].astype(str)\n",
    "string_age = string_age.str.extract('(\\d+)').astype(int).squeeze()\n",
    "sns.histplot(string_age, bins=5)\n",
    "plt.xlabel('Age')\n",
    "plt.ylabel('Count')\n",
    "plt.title(f'Test Age Distribution of {celltype}')\n",
    "plt.show()"
   ]
  },
  {
   "cell_type": "code",
   "execution_count": 29,
   "id": "7313224a",
   "metadata": {},
   "outputs": [
    {
     "name": "stdout",
     "output_type": "stream",
     "text": [
      "                                           cell_type donor_id  \\\n",
      "0  naive thymus-derived CD4-positive, alpha-beta ...   donor3   \n",
      "1  CD16-positive, CD56-dim natural killer cell, h...   donor2   \n",
      "2                             CD14-positive monocyte   donor2   \n",
      "3  CD16-positive, CD56-dim natural killer cell, h...   donor5   \n",
      "4  naive thymus-derived CD4-positive, alpha-beta ...   donor3   \n",
      "\n",
      "         development_stage  \n",
      "0  40-year-old human stage  \n",
      "1  35-year-old human stage  \n",
      "2  35-year-old human stage  \n",
      "3  60-year-old human stage  \n",
      "4  40-year-old human stage  \n"
     ]
    }
   ],
   "source": [
    "# Print the first few rows of the test data\n",
    "print(test_data.obs.head())"
   ]
  },
  {
   "cell_type": "code",
   "execution_count": 30,
   "id": "7a2a320d",
   "metadata": {},
   "outputs": [
    {
     "name": "stdout",
     "output_type": "stream",
     "text": [
      "Test data .x shape: (100, 50)\n",
      "Test data .x row 11 (dense): [ 7.  8. 17.  9. 20.  8.  9.  7. 12. 17. 16.  9.  9. 21.  6. 12.  4. 12.\n",
      " 13. 37. 13.  4. 10. 13. 15.  6. 15.  4.  7. 11. 10. 21.  7.  6. 18. 15.\n",
      "  5.  8.  6. 20. 12. 17. 12. 19.  9. 13.  7. 21.  0.  0.]\n",
      "Test data .x row 18 (dense): [17.  3. 13.  6. 19. 11. 12.  6. 11. 12. 10. 13.  8. 15. 14.  3. 12. 10.\n",
      " 11.  4. 24. 14.  5. 31.  2.  4. 14. 11.  9. 19. 14. 10.  1.  7.  5. 17.\n",
      " 12. 19. 12.  8. 13. 15. 14.  6. 12.  0. 21. 11.  0.  0.]\n",
      "Test data .x row 20 (dense): [ 1. 14. 11. 11. 14.  6. 10. 21.  9.  7.  6.  4. 11. 23.  8.  0.  3. 21.\n",
      " 15.  7.  9.  7. 16. 14. 23. 13.  9.  5. 16. 10.  5. 11.  7. 10.  8.  6.\n",
      "  2. 14.  7.  2. 13.  6.  2.  8.  8. 10. 24.  7.  0.  0.]\n",
      "Test data .x row 24 (dense): [ 0. 11.  5. 14. 16. 13. 28. 12. 14.  3. 11. 10.  6.  9. 16. 16. 15.  4.\n",
      "  6.  6.  7.  7.  5. 11. 14. 10. 14. 12.  7. 11. 15. 11. 13.  3.  6. 18.\n",
      " 14. 20. 14. 10. 21. 19.  9.  9. 15.  6.  7. 10.  0.  0.]\n",
      "Test data .x row 26 (dense): [ 5. 15.  6. 19. 19.  1. 11. 17.  5. 18. 23.  8.  7. 29.  9. 13. 14. 26.\n",
      "  7. 29.  9.  8.  4.  4. 14. 32. 25.  4. 10. 12. 19.  8. 17. 17.  7.  9.\n",
      " 13.  5.  6.  9. 42. 23. 11.  3.  7.  6. 13. 12.  0.  0.]\n",
      "Test data .x row 41 (dense): [15. 17. 12.  6. 15. 14. 10. 21.  6. 16. 23. 21. 10. 12. 13. 11.  8.  5.\n",
      " 14. 15.  8. 15. 13. 12. 22.  9.  7. 17. 12.  0. 18. 11.  4.  6.  9. 22.\n",
      " 17. 21. 15. 16. 16. 10. 17. 23. 14. 15. 12. 17.  0.  0.]\n",
      "Test data .x row 67 (dense): [ 6. 11. 15.  3. 16.  9. 19. 19. 26. 11. 22. 14. 11. 10.  0.  6. 22. 12.\n",
      "  8.  6. 10. 11. 25.  5. 11. 15. 17. 12.  7.  9. 14. 27.  7. 10. 13. 13.\n",
      "  2. 11. 11. 19. 10.  3. 10.  2. 12. 12. 10.  9.  0.  0.]\n"
     ]
    }
   ],
   "source": [
    "# Print test data .x\n",
    "print(\"Test data .x shape:\", test_data.X.shape)\n",
    "\n",
    "for i in range(100):\n",
    "    # if the donor_id is 1 print the row\n",
    "    if test_data.obs['donor_id'].iloc[i] == 'donor1':\n",
    "        # If the cell_type is 'CD14-positive monocyte' print the row\n",
    "        if test_data.obs['cell_type'].iloc[i] == 'CD14-positive monocyte':\n",
    "            print(f\"Test data .x row {i} (dense):\", test_data.X[i].A.flatten())"
   ]
  },
  {
   "cell_type": "code",
   "execution_count": 2,
   "id": "b2bf78d6",
   "metadata": {},
   "outputs": [],
   "source": [
    "# Load subsets/CD14-positive monocyte_old_donors.h5ad\n",
    "adata = ad.read_h5ad(\"CD14-positive monocyte_young_donors.h5ad\")"
   ]
  },
  {
   "cell_type": "code",
   "execution_count": 3,
   "id": "d8ca4108",
   "metadata": {},
   "outputs": [
    {
     "name": "stdout",
     "output_type": "stream",
     "text": [
      "Subsets .x shape: (2, 48)\n"
     ]
    },
    {
     "data": {
      "text/plain": [
       "array([8.33333333, 7.28571429])"
      ]
     },
     "execution_count": 3,
     "metadata": {},
     "output_type": "execute_result"
    }
   ],
   "source": [
    "# Print the .x data of the first column\n",
    "print(\"Subsets .x shape:\", adata.X.shape)\n",
    "adata.X[:, 0]"
   ]
  },
  {
   "cell_type": "code",
   "execution_count": 4,
   "id": "24117ee1",
   "metadata": {},
   "outputs": [
    {
     "name": "stdout",
     "output_type": "stream",
     "text": [
      "Subsets metadata shape: (2, 3)\n",
      "Subsets metadata:                        cell_type        development_stage  n_cells\n",
      "donor_id                                                          \n",
      "donor2    CD14-positive monocyte  35-year-old human stage        6\n",
      "donor1    CD14-positive monocyte  30-year-old human stage        7\n"
     ]
    }
   ],
   "source": [
    "# Print metadata\n",
    "print(\"Subsets metadata shape:\", adata.obs.shape)\n",
    "print(\"Subsets metadata:\", adata.obs.head())"
   ]
  },
  {
   "cell_type": "code",
   "execution_count": null,
   "id": "93c68a64",
   "metadata": {},
   "outputs": [],
   "source": []
  }
 ],
 "metadata": {
  "kernelspec": {
   "display_name": "base",
   "language": "python",
   "name": "python3"
  },
  "language_info": {
   "codemirror_mode": {
    "name": "ipython",
    "version": 3
   },
   "file_extension": ".py",
   "mimetype": "text/x-python",
   "name": "python",
   "nbconvert_exporter": "python",
   "pygments_lexer": "ipython3",
   "version": "3.11.4"
  }
 },
 "nbformat": 4,
 "nbformat_minor": 5
}
