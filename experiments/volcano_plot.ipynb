{
 "cells": [
  {
   "cell_type": "markdown",
   "id": "de74baa0",
   "metadata": {},
   "source": [
    "# Volcano Plot"
   ]
  },
  {
   "cell_type": "code",
   "execution_count": 22,
   "id": "edb0606d",
   "metadata": {},
   "outputs": [
    {
     "name": "stdout",
     "output_type": "stream",
     "text": [
      "0.11.4\n"
     ]
    }
   ],
   "source": [
    "import numpy as np\n",
    "import pandas as pd\n",
    "import anndata as ad\n",
    "from scipy.sparse import csr_matrix\n",
    "from scipy.sparse import issparse\n",
    "import scanpy as sc\n",
    "import scipy.stats\n",
    "from scipy.stats import pearsonr\n",
    "import matplotlib.pyplot as plt\n",
    "import seaborn as sns\n",
    "print(ad.__version__)"
   ]
  },
  {
   "cell_type": "code",
   "execution_count": 23,
   "id": "e0cf72be",
   "metadata": {},
   "outputs": [],
   "source": [
    "# There are 9 excel files in the folder results\n",
    "# The excel files have two collumns: 'Gene' and 'Number of Significant Differences'\n",
    "\n",
    "# The excel files are named: \"results/{}_significant_differences.xlsx\".format(cell_type)\n",
    "cell_types = [\n",
    "    # \"CD8-positive, alpha-beta T cell\",\n",
    "    # \"CD8-positive, alpha-beta memory T cell\",\n",
    "    \"CD4-positive, alpha-beta T cell\",\n",
    "    # \"central memory CD4-positive, alpha-beta T cell\",\n",
    "    \"effector memory CD4-positive, alpha-beta T cell\",\n",
    "    \"gamma-delta T cell\",\n",
    "    \"regulatory T cell\",\n",
    "    # \"double negative T regulatory cell\",\n",
    "    # \"innate lymphoid cell\"\n",
    "]\n",
    "    "
   ]
  },
  {
   "cell_type": "code",
   "execution_count": 24,
   "id": "359a91cd",
   "metadata": {},
   "outputs": [],
   "source": [
    "# Load all the excel files of the same cell type\n",
    "\n",
    "excel_files_top_diff_genes = {}\n",
    "\n",
    "for cell_type in cell_types:\n",
    "    file_path = f\"results/{cell_type}_top_diff_genes.xlsx\"\n",
    "    excel_files_top_diff_genes[cell_type] = pd.read_excel(file_path)\n"
   ]
  },
  {
   "cell_type": "code",
   "execution_count": null,
   "id": "011a1d53",
   "metadata": {},
   "outputs": [],
   "source": [
    "# Create a volcano plot for each cell type\n",
    "# On the x-axis: is the difference between 'Correlation Young' and 'Correlation Old'\n",
    "# On the y-axis: is the -log10 of the p-value\n",
    "\n",
    "def z_score_to_p_value(z):\n",
    "    \"\"\"Convert a z-score to a p-value. for a two-tailed test.\"\"\"\n",
    "    return 2 * (1 - scipy.stats.norm.cdf(np.abs(z)))\n",
    "\n",
    "\n",
    "def create_volcano_plot(df, cell_type):\n",
    "    df['log_p_value'] = -np.log10(z_score_to_p_value(df['Z Diff Young-Old']))\n",
    "    df['Significant'] = df['log_p_value'] > -np.log10(0.01)\n",
    "    df['correlation_diff'] = df['Correlation Young'] - df['Correlation Old']\n",
    "    \n",
    "    plt.figure(figsize=(10, 6))\n",
    "    sns.scatterplot(data=df, x='correlation_diff', y='log_p_value', hue='Significant', alpha=0.7)\n",
    "    \n",
    "    plt.axhline(y=-np.log10(0.01), color='red', linestyle='--', label='p-value = 0.01')\n",
    "    plt.axvline(x=0, color='grey', linestyle='--')\n",
    "    \n",
    "    plt.title(f'Volcano Plot for {cell_type}')\n",
    "    plt.xlabel('Difference in Correlation (Young - Old)')\n",
    "    plt.ylabel('-log10(p-value)')\n",
    "    plt.legend()\n",
    "    plt.grid()\n",
    "\n",
    "    # add labels for the points that have a -log10(p-value) > 0.9 * max(log_p_value)\n",
    "    max_log_p_value = df['log_p_value'].max()\n",
    "    threshold = 0.9 * max_log_p_value\n",
    "    for i, row in df.iterrows():\n",
    "        if row['log_p_value'] > threshold and (i % 2 == 0):\n",
    "            label = row['Gene1'] + '-' + row['Gene2']\n",
    "            print(f\"Labeling point: {label} at ({row['correlation_diff']}, {row['log_p_value']})\")\n",
    "\n",
    "            # If the point is left of the y-axis, adjust the label position\n",
    "            if row['correlation_diff'] < 0:\n",
    "                plt.text(row['correlation_diff'], row['log_p_value'], label, fontsize=8, ha='left', va='bottom')\n",
    "            else:\n",
    "                plt.text(row['correlation_diff'], row['log_p_value'], label, fontsize=8, ha='right', va='bottom')\n",
    "    \n",
    "    plt.savefig(f\"results/volcano_plot_{cell_type}.png\")\n",
    "    plt.close()\n",
    "\n"
   ]
  },
  {
   "cell_type": "code",
   "execution_count": 30,
   "id": "f624039c",
   "metadata": {},
   "outputs": [
    {
     "name": "stdout",
     "output_type": "stream",
     "text": [
      "Labeling point: ENSG00000125691-ENSG00000124614 at (-0.8629148271310099, 9.115057549373226)\n",
      "Labeling point: ENSG00000272888-ENSG00000169564 at (-0.8610180938458138, 9.708645490021697)\n",
      "Labeling point: ENSG00000009307-ENSG00000241343 at (-1.0332775288474583, 11.034508204992855)\n",
      "Labeling point: ENSG00000054654-ENSG00000128340 at (-1.0256427131087253, 10.501396843135854)\n",
      "Labeling point: ENSG00000166441-ENSG00000118816 at (1.0143106422223658, 9.997943110523664)\n",
      "Labeling point: ENSG00000124942-ENSG00000117523 at (1.2014289993571166, 15.35252977886304)\n",
      "Labeling point: ENSG00000122566-ENSG00000100201 at (-0.9261038806628832, 10.17315898144163)\n"
     ]
    }
   ],
   "source": [
    "for cell_type, df in excel_files_top_diff_genes.items():\n",
    "    # Ensure the DataFrame has the expected columns\n",
    "    if 'Correlation Young' in df.columns and 'Correlation Old' in df.columns:\n",
    "        create_volcano_plot(df, cell_type)\n",
    "    else:\n",
    "        print(f\"Skipping {cell_type} due to missing columns.\")"
   ]
  },
  {
   "cell_type": "code",
   "execution_count": null,
   "id": "7c375bc8",
   "metadata": {},
   "outputs": [],
   "source": []
  }
 ],
 "metadata": {
  "kernelspec": {
   "display_name": "base",
   "language": "python",
   "name": "python3"
  },
  "language_info": {
   "codemirror_mode": {
    "name": "ipython",
    "version": 3
   },
   "file_extension": ".py",
   "mimetype": "text/x-python",
   "name": "python",
   "nbconvert_exporter": "python",
   "pygments_lexer": "ipython3",
   "version": "3.11.4"
  }
 },
 "nbformat": 4,
 "nbformat_minor": 5
}
