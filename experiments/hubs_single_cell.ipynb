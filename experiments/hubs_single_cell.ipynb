{
 "cells": [
  {
   "cell_type": "code",
   "execution_count": 5,
   "id": "e36c46af",
   "metadata": {},
   "outputs": [
    {
     "name": "stdout",
     "output_type": "stream",
     "text": [
      "0.11.4\n"
     ]
    }
   ],
   "source": [
    "import numpy as np\n",
    "import pandas as pd\n",
    "import anndata as ad\n",
    "from scipy.sparse import csr_matrix\n",
    "from scipy.sparse import issparse\n",
    "print(ad.__version__)"
   ]
  },
  {
   "cell_type": "code",
   "execution_count": 6,
   "id": "28bcef4f",
   "metadata": {},
   "outputs": [],
   "source": [
    "cell_types = [\n",
    "    # \"CD8-positive, alpha-beta T cell\",\n",
    "    # \"CD8-positive, alpha-beta memory T cell\",\n",
    "    # \"CD4-positive, alpha-beta T cell\",\n",
    "    # \"central memory CD4-positive, alpha-beta T cell\",\n",
    "    # \"effector memory CD4-positive, alpha-beta T cell\",\n",
    "    # \"gamma-delta T cell\",\n",
    "    # \"regulatory T cell\",\n",
    "    # \"double negative T regulatory cell\",\n",
    "    # \"innate lymphoid cell\"\n",
    "]\n",
    "\n",
    "cell_type = \"effector memory CD4-positive, alpha-beta T cell\"\n",
    "file_path = f\"results/network/young_old//{cell_type}_significant_differences.xlsx\"\n",
    "dataframe = pd.read_excel(file_path)\n",
    "    "
   ]
  },
  {
   "cell_type": "code",
   "execution_count": 7,
   "id": "71bbcfe6",
   "metadata": {},
   "outputs": [
    {
     "name": "stdout",
     "output_type": "stream",
     "text": [
      "              Gene  Number of Significant Differences\n",
      "0  ENSG00000087074                                185\n",
      "1  ENSG00000151883                                146\n",
      "2  ENSG00000143924                                143\n",
      "3  ENSG00000232112                                141\n",
      "4  ENSG00000241343                                135\n",
      "Total genes: 581\n",
      "Threshold: 58\n",
      "                Gene  Number of Significant Differences\n",
      "0    ENSG00000087074                                185\n",
      "1    ENSG00000151883                                146\n",
      "2    ENSG00000143924                                143\n",
      "3    ENSG00000232112                                141\n",
      "4    ENSG00000241343                                135\n",
      "..               ...                                ...\n",
      "113  ENSG00000184076                                 59\n",
      "114  ENSG00000197756                                 58\n",
      "115  ENSG00000078304                                 58\n",
      "116  ENSG00000008517                                 58\n",
      "117  ENSG00000010404                                 58\n",
      "\n",
      "[118 rows x 2 columns]\n",
      "Filtered genes: 118\n"
     ]
    }
   ],
   "source": [
    "print(dataframe.head())\n",
    "\n",
    "total_genes = dataframe[\"Gene\"].unique()\n",
    "print(f\"Total genes: {len(total_genes)}\")\n",
    "threshold = int(0.1 * len(total_genes))\n",
    "print(f\"Threshold: {threshold}\")\n",
    "\n",
    "# Filter genes based on the threshold\n",
    "filtered_genes = dataframe[dataframe[\"Number of Significant Differences\"] >= threshold]\n",
    "print(filtered_genes)\n",
    "print(f\"Filtered genes: {len(filtered_genes)}\")\n",
    "\n",
    "# Write all the filtered genes to a file\n",
    "output_file = f\"results/{cell_type}_filtered_hubs.txt\"\n",
    "with open(output_file, \"w\") as f:\n",
    "    for gene in filtered_genes[\"Gene\"]:\n",
    "        f.write(f\"{gene}\\n\")"
   ]
  },
  {
   "cell_type": "code",
   "execution_count": null,
   "id": "dc51a43e",
   "metadata": {},
   "outputs": [],
   "source": []
  }
 ],
 "metadata": {
  "kernelspec": {
   "display_name": "base",
   "language": "python",
   "name": "python3"
  },
  "language_info": {
   "codemirror_mode": {
    "name": "ipython",
    "version": 3
   },
   "file_extension": ".py",
   "mimetype": "text/x-python",
   "name": "python",
   "nbconvert_exporter": "python",
   "pygments_lexer": "ipython3",
   "version": "3.11.4"
  }
 },
 "nbformat": 4,
 "nbformat_minor": 5
}
