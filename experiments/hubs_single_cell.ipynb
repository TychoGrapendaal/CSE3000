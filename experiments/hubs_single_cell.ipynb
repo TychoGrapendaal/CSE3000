{
 "cells": [
  {
   "cell_type": "code",
   "execution_count": 2,
   "id": "e36c46af",
   "metadata": {},
   "outputs": [
    {
     "name": "stdout",
     "output_type": "stream",
     "text": [
      "0.11.4\n"
     ]
    }
   ],
   "source": [
    "import numpy as np\n",
    "import pandas as pd\n",
    "import anndata as ad\n",
    "from scipy.sparse import csr_matrix\n",
    "from scipy.sparse import issparse\n",
    "print(ad.__version__)"
   ]
  },
  {
   "cell_type": "code",
   "execution_count": 6,
   "id": "28bcef4f",
   "metadata": {},
   "outputs": [],
   "source": [
    "cell_types = [\n",
    "    # \"CD8-positive, alpha-beta T cell\",\n",
    "    # \"CD8-positive, alpha-beta memory T cell\",\n",
    "    # \"CD4-positive, alpha-beta T cell\",\n",
    "    # \"central memory CD4-positive, alpha-beta T cell\",\n",
    "    # \"effector memory CD4-positive, alpha-beta T cell\",\n",
    "    # \"gamma-delta T cell\",\n",
    "    # \"regulatory T cell\",\n",
    "    # \"double negative T regulatory cell\",\n",
    "    # \"innate lymphoid cell\"\n",
    "]\n",
    "\n",
    "cell_type = \"effector memory CD4-positive, alpha-beta T cell\"\n",
    "file_path = f\"results/network/young_old//{cell_type}_significant_differences.xlsx\"\n",
    "dataframe = pd.read_excel(file_path)\n",
    "    "
   ]
  },
  {
   "cell_type": "code",
   "execution_count": 21,
   "id": "71bbcfe6",
   "metadata": {},
   "outputs": [
    {
     "name": "stdout",
     "output_type": "stream",
     "text": [
      "              Gene  Number of Significant Differences\n",
      "0  ENSG00000087074                                 51\n",
      "1  ENSG00000151883                                 46\n",
      "2  ENSG00000232112                                 44\n",
      "3  ENSG00000109332                                 35\n",
      "4  ENSG00000143924                                 34\n",
      "Total genes: 581\n",
      "Threshold: 29\n",
      "               Gene  Number of Significant Differences\n",
      "0   ENSG00000087074                                 51\n",
      "1   ENSG00000151883                                 46\n",
      "2   ENSG00000232112                                 44\n",
      "3   ENSG00000109332                                 35\n",
      "4   ENSG00000143924                                 34\n",
      "5   ENSG00000160888                                 34\n",
      "6   ENSG00000198840                                 33\n",
      "7   ENSG00000231925                                 31\n",
      "8   ENSG00000124942                                 31\n",
      "9   ENSG00000233927                                 31\n",
      "10  ENSG00000198899                                 31\n",
      "11  ENSG00000177954                                 30\n",
      "12  ENSG00000099860                                 30\n",
      "13  ENSG00000228253                                 30\n",
      "14  ENSG00000009307                                 29\n",
      "15  ENSG00000245910                                 29\n",
      "16  ENSG00000220205                                 29\n",
      "17  ENSG00000171858                                 29\n",
      "Filtered genes: 18\n"
     ]
    }
   ],
   "source": [
    "print(dataframe.head())\n",
    "\n",
    "total_genes = dataframe[\"Gene\"].unique()\n",
    "print(f\"Total genes: {len(total_genes)}\")\n",
    "threshold = int(0.05 * len(total_genes))\n",
    "print(f\"Threshold: {threshold}\")\n",
    "\n",
    "# Filter genes based on the threshold\n",
    "filtered_genes = dataframe[dataframe[\"Number of Significant Differences\"] >= threshold]\n",
    "print(filtered_genes)\n",
    "print(f\"Filtered genes: {len(filtered_genes)}\")\n",
    "\n",
    "# Write all the filtered genes to a file\n",
    "output_file = f\"results/{cell_type}_filtered_hubs.txt\"\n",
    "with open(output_file, \"w\") as f:\n",
    "    for gene in filtered_genes[\"Gene\"]:\n",
    "        f.write(f\"{gene}\\n\")"
   ]
  },
  {
   "cell_type": "code",
   "execution_count": null,
   "id": "dc51a43e",
   "metadata": {},
   "outputs": [],
   "source": []
  }
 ],
 "metadata": {
  "kernelspec": {
   "display_name": "base",
   "language": "python",
   "name": "python3"
  },
  "language_info": {
   "codemirror_mode": {
    "name": "ipython",
    "version": 3
   },
   "file_extension": ".py",
   "mimetype": "text/x-python",
   "name": "python",
   "nbconvert_exporter": "python",
   "pygments_lexer": "ipython3",
   "version": "3.11.4"
  }
 },
 "nbformat": 4,
 "nbformat_minor": 5
}
