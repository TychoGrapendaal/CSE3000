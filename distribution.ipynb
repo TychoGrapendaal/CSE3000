{
 "cells": [
  {
   "cell_type": "markdown",
   "id": "de74baa0",
   "metadata": {},
   "source": [
    "# Find distribution"
   ]
  },
  {
   "cell_type": "code",
   "execution_count": null,
   "id": "edb0606d",
   "metadata": {},
   "outputs": [
    {
     "name": "stdout",
     "output_type": "stream",
     "text": [
      "0.11.4\n"
     ]
    }
   ],
   "source": [
    "import numpy as np\n",
    "import pandas as pd\n",
    "import anndata as ad\n",
    "import matplotlib.pyplot as plt\n",
    "import seaborn as sns\n",
    "from scipy.sparse import csr_matrix\n",
    "from scipy.sparse import issparse\n",
    "\n",
    "print(ad.__version__)"
   ]
  },
  {
   "cell_type": "code",
   "execution_count": 3,
   "id": "69c396a9",
   "metadata": {},
   "outputs": [
    {
     "name": "stdout",
     "output_type": "stream",
     "text": [
      "AnnData object with n_obs × n_vars = 1058909 × 36169 backed at 'C:\\\\Users\\\\Tycho\\\\Desktop\\\\SchoolTU\\\\year3\\\\q4_RP\\\\data\\\\0fce5dd5-bcec-4288-90b3-19a16b45ad16.h5ad'\n",
      "    obs: 'reference_genome', 'gene_annotation_version', 'alignment_software', 'intronic_reads_counted', 'library_id', 'assay_ontology_term_id', 'sequenced_fragment', 'cell_number_loaded', 'institute', 'is_primary_data', 'cell_type_ontology_term_id', 'author_cell_type', 'sample_id', 'sample_preservation_method', 'tissue_ontology_term_id', 'development_stage_ontology_term_id', 'sample_collection_method', 'donor_BMI_at_collection', 'tissue_type', 'suspension_derivation_process', 'suspension_enriched_cell_types', 'cell_viability_percentage', 'suspension_uuid', 'suspension_type', 'donor_id', 'self_reported_ethnicity_ontology_term_id', 'donor_living_at_sample_collection', 'organism_ontology_term_id', 'disease_ontology_term_id', 'sex_ontology_term_id', 'Country', 'nCount_RNA', 'nFeature_RNA', 'TCR_VDJdb', 'TCRa_V_gene', 'TCRa_D_gene', 'TCRa_J_gene', 'TCRa_C_gene', 'TCRb_V_gene', 'TCRb_D_gene', 'TCRb_J_gene', 'TCRb_C_gene', 'TCR_Clonality', 'TCR_Clone_ID', 'BCR_VDJ_V_call', 'BCR_VDJ_D_call', 'BCR_VDJ_J_call', 'BCR_VDJ_C_call', 'BCR_VJ_V_call', 'BCR_VJ_J_call', 'BCR_VJ_C_call', 'BCR_Clonality', 'BCR_Clone_size', 'BCR_mu_freq', 'cell_type', 'assay', 'disease', 'organism', 'sex', 'tissue', 'self_reported_ethnicity', 'development_stage', 'observation_joinid'\n",
      "    var: 'feature_is_filtered', 'feature_name', 'feature_reference', 'feature_biotype', 'feature_length', 'feature_type'\n",
      "    uns: 'citation', 'default_embedding', 'schema_reference', 'schema_version', 'title'\n",
      "    obsm: 'X_umap'\n"
     ]
    }
   ],
   "source": [
    "adata = ad.read_h5ad(\"C:/Users/Tycho/Desktop/SchoolTU/year3/q4_RP/data/0fce5dd5-bcec-4288-90b3-19a16b45ad16.h5ad\", backed='r')\n",
    "print(adata)"
   ]
  },
  {
   "cell_type": "code",
   "execution_count": 4,
   "id": "94225a84",
   "metadata": {},
   "outputs": [
    {
     "name": "stdout",
     "output_type": "stream",
     "text": [
      "Distinct donors: 508\n",
      "Distinct cell types: 33\n",
      "Distinct donor IDs for CD16-positive, CD56-dim natural killer cell, human: 505\n",
      "Distinct donor IDs for CD14-positive monocyte: 505\n",
      "Distinct donor IDs for CD8-positive, alpha-beta memory T cell: 505\n",
      "Distinct donor IDs for regulatory T cell: 502\n",
      "Distinct donor IDs for central memory CD4-positive, alpha-beta T cell: 506\n",
      "Distinct donor IDs for memory B cell: 505\n",
      "Distinct donor IDs for CD14-low, CD16-positive monocyte: 505\n",
      "Distinct donor IDs for naive thymus-derived CD4-positive, alpha-beta T cell: 506\n",
      "Distinct donor IDs for naive B cell: 505\n",
      "Distinct donor IDs for mucosal invariant T cell: 499\n",
      "Distinct donor IDs for naive thymus-derived CD8-positive, alpha-beta T cell: 504\n",
      "Distinct donor IDs for effector memory CD4-positive, alpha-beta T cell: 504\n",
      "Distinct donor IDs for CD1c-positive myeloid dendritic cell: 503\n",
      "Distinct donor IDs for mature B cell: 483\n",
      "Distinct donor IDs for gamma-delta T cell: 501\n",
      "Distinct donor IDs for CD141-positive myeloid dendritic cell: 301\n",
      "Distinct donor IDs for CD4-positive, alpha-beta T cell: 503\n",
      "Distinct donor IDs for CD8-positive, alpha-beta cytotoxic T cell: 502\n",
      "Distinct donor IDs for platelet: 476\n",
      "Distinct donor IDs for monocyte: 504\n",
      "Distinct donor IDs for CD4-positive, alpha-beta cytotoxic T cell: 469\n",
      "Distinct donor IDs for CD16-negative, CD56-bright natural killer cell, human: 489\n",
      "Distinct donor IDs for B cell: 492\n",
      "Distinct donor IDs for T cell: 500\n",
      "Distinct donor IDs for dendritic cell: 135\n",
      "Distinct donor IDs for natural killer cell: 464\n",
      "Distinct donor IDs for plasmacytoid dendritic cell: 410\n",
      "Distinct donor IDs for CD8-positive, alpha-beta T cell: 446\n",
      "Distinct donor IDs for plasma cell: 430\n",
      "Distinct donor IDs for double negative T regulatory cell: 291\n",
      "Distinct donor IDs for innate lymphoid cell: 159\n",
      "Distinct donor IDs for conventional dendritic cell: 162\n",
      "Distinct donor IDs for erythrocyte: 72\n"
     ]
    }
   ],
   "source": [
    "# Find how many distinct donors there are in the dataset\n",
    "donors = adata.obs['donor_id'].unique()\n",
    "print(f\"Distinct donors: {len(donors)}\")\n",
    "\n",
    "# Find how many distinct donor IDs there are for every cell type\n",
    "cell_types = adata.obs['cell_type'].unique()\n",
    "print(f\"Distinct cell types: {len(cell_types)}\")\n",
    "\n",
    "for cell_type in cell_types:\n",
    "    donor_ids = adata.obs[adata.obs['cell_type'] == cell_type]['donor_id'].unique()\n",
    "    print(f\"Distinct donor IDs for {cell_type}: {len(donor_ids)}\")"
   ]
  },
  {
   "cell_type": "code",
   "execution_count": 5,
   "id": "0696ed89",
   "metadata": {},
   "outputs": [
    {
     "name": "stdout",
     "output_type": "stream",
     "text": [
      "Distinct donor ages: 54\n",
      "Donor ages distribution:\n",
      "33-year-old stage    46219\n",
      "21-year-old stage    43098\n",
      "30-year-old stage    41260\n",
      "41-year-old stage    38168\n",
      "39-year-old stage    38020\n",
      "26-year-old stage    34704\n",
      "43-year-old stage    34584\n",
      "34-year-old stage    34273\n",
      "37-year-old stage    32614\n",
      "31-year-old stage    30819\n",
      "40-year-old stage    30502\n",
      "23-year-old stage    29683\n",
      "47-year-old stage    28896\n",
      "28-year-old stage    28521\n",
      "48-year-old stage    27457\n",
      "49-year-old stage    26600\n",
      "58-year-old stage    25087\n",
      "45-year-old stage    25066\n",
      "38-year-old stage    24099\n",
      "36-year-old stage    23770\n",
      "56-year-old stage    23565\n",
      "44-year-old stage    23381\n",
      "46-year-old stage    22561\n",
      "53-year-old stage    22210\n",
      "42-year-old stage    20845\n",
      "61-year-old stage    20112\n",
      "29-year-old stage    19315\n",
      "35-year-old stage    18612\n",
      "32-year-old stage    17954\n",
      "52-year-old stage    14651\n",
      "22-year-old stage    14574\n",
      "57-year-old stage    14530\n",
      "62-year-old stage    14394\n",
      "55-year-old stage    14304\n",
      "50-year-old stage    14279\n",
      "54-year-old stage    13835\n",
      "59-year-old stage    11207\n",
      "64-year-old stage    11072\n",
      "25-year-old stage    10970\n",
      "27-year-old stage    10915\n",
      "60-year-old stage    10604\n",
      "24-year-old stage    10433\n",
      "66-year-old stage    10369\n",
      "65-year-old stage     8889\n",
      "51-year-old stage     8708\n",
      "67-year-old stage     6879\n",
      "68-year-old stage     5926\n",
      "63-year-old stage     5185\n",
      "75-year-old stage     4048\n",
      "73-year-old stage     2642\n",
      "71-year-old stage     2581\n",
      "19-year-old stage     2402\n",
      "69-year-old stage     1895\n",
      "72-year-old stage     1622\n",
      "Name: development_stage, dtype: int64\n",
      "      donor_id  development_stage\n",
      "0  SG_HEL_H02a  34-year-old stage\n",
      "1  SG_HEL_H09a  23-year-old stage\n",
      "2  SG_HEL_H10a  47-year-old stage\n",
      "3  SG_HEL_H11a  37-year-old stage\n",
      "4  SG_HEL_H12a  37-year-old stage\n",
      "Number of donors in each age group:\n",
      "33-year-old stage    22\n",
      "37-year-old stage    18\n",
      "39-year-old stage    18\n",
      "43-year-old stage    18\n",
      "26-year-old stage    17\n",
      "30-year-old stage    17\n",
      "47-year-old stage    17\n",
      "31-year-old stage    16\n",
      "34-year-old stage    16\n",
      "48-year-old stage    15\n",
      "49-year-old stage    15\n",
      "40-year-old stage    15\n",
      "45-year-old stage    15\n",
      "46-year-old stage    13\n",
      "28-year-old stage    13\n",
      "56-year-old stage    13\n",
      "58-year-old stage    13\n",
      "38-year-old stage    12\n",
      "44-year-old stage    12\n",
      "36-year-old stage    12\n",
      "21-year-old stage    11\n",
      "61-year-old stage    11\n",
      "53-year-old stage    11\n",
      "41-year-old stage    11\n",
      "35-year-old stage    10\n",
      "42-year-old stage    10\n",
      "32-year-old stage     8\n",
      "29-year-old stage     8\n",
      "57-year-old stage     8\n",
      "52-year-old stage     8\n",
      "62-year-old stage     7\n",
      "22-year-old stage     7\n",
      "23-year-old stage     7\n",
      "55-year-old stage     7\n",
      "50-year-old stage     7\n",
      "54-year-old stage     6\n",
      "27-year-old stage     6\n",
      "64-year-old stage     6\n",
      "66-year-old stage     6\n",
      "51-year-old stage     5\n",
      "24-year-old stage     5\n",
      "59-year-old stage     5\n",
      "60-year-old stage     5\n",
      "25-year-old stage     5\n",
      "65-year-old stage     5\n",
      "68-year-old stage     3\n",
      "63-year-old stage     3\n",
      "67-year-old stage     3\n",
      "75-year-old stage     2\n",
      "69-year-old stage     1\n",
      "71-year-old stage     1\n",
      "72-year-old stage     1\n",
      "73-year-old stage     1\n",
      "19-year-old stage     1\n",
      "Name: development_stage, dtype: int64\n"
     ]
    }
   ],
   "source": [
    "# Create a distribution of the age of the donors\n",
    "donor_ages = adata.obs['development_stage'].unique()\n",
    "print(f\"Distinct donor ages: {len(donor_ages)}\")\n",
    "print(\"Donor ages distribution:\")\n",
    "print(adata.obs['development_stage'].value_counts())\n",
    "\n",
    "# Create 2d array with the donor IDs as rows and the meta data as columns\n",
    "donor_ids = adata.obs['donor_id'].unique()\n",
    "donor_ids = pd.DataFrame(donor_ids, columns=['donor_id'])\n",
    "donor_ids['development_stage'] = adata.obs.groupby('donor_id')['development_stage'].first().values\n",
    "\n",
    "# Print the first 5 rows of the donor IDs dataframe\n",
    "print(donor_ids.head())\n",
    "\n",
    "# Count the number of donors in each age group\n",
    "age_counts = donor_ids['development_stage'].value_counts()\n",
    "print(\"Number of donors in each age group:\")\n",
    "print(age_counts)\n"
   ]
  },
  {
   "cell_type": "code",
   "execution_count": 6,
   "id": "02cabc17",
   "metadata": {},
   "outputs": [
    {
     "name": "stdout",
     "output_type": "stream",
     "text": [
      "        donor_id development_stage\n",
      "309  JP_RIK_H116                19\n",
      "84   SG_HEL_H056                21\n",
      "64   SG_HEL_H203                21\n",
      "125  SG_HEL_H046                21\n",
      "132  SG_HEL_H030                21\n"
     ]
    }
   ],
   "source": [
    "# Get only the age from the development stage\n",
    "donor_ids['development_stage'] = donor_ids['development_stage'].str.extract('(\\d+)').astype(int).squeeze()  \n",
    "\n",
    "# Sort from youngest to oldest\n",
    "donor_ids['development_stage'] = pd.Categorical(donor_ids['development_stage'], ordered=True)\n",
    "donor_ids = donor_ids.sort_values('development_stage')\n",
    "\n",
    "# Print donor IDs dataframe\n",
    "print(donor_ids.head())"
   ]
  },
  {
   "cell_type": "code",
   "execution_count": 7,
   "id": "d9947f41",
   "metadata": {},
   "outputs": [
    {
     "data": {
      "image/png": "[encoded data removed]",
      "text/plain": [
       "<Figure size 1000x600 with 1 Axes>"
      ]
     },
     "metadata": {},
     "output_type": "display_data"
    }
   ],
   "source": [
    "# Plot the distribution of the ages of the donors\n",
    "order_ages = donor_ids['development_stage'].value_counts().index\n",
    "\n",
    "# Sort the order_ages from youngest to oldest\n",
    "order_ages = sorted(order_ages)\n",
    "\n",
    "sns.set(style=\"whitegrid\")\n",
    "plt.figure(figsize=(10, 6))\n",
    "sns.countplot(data=donor_ids, x='development_stage', order=order_ages)\n",
    "plt.title('Distribution of Donor Ages')\n",
    "plt.xlabel('Development Stage')\n",
    "plt.ylabel('Count')\n",
    "plt.xticks(rotation=45)\n",
    "plt.tight_layout()\n",
    "plt.show()"
   ]
  },
  {
   "cell_type": "code",
   "execution_count": 8,
   "id": "e3d64e6f",
   "metadata": {},
   "outputs": [
    {
     "name": "stdout",
     "output_type": "stream",
     "text": [
      "Youngest: 181 (36)\n",
      "Middle: 142 (46)\n",
      "Oldest: 185 (75)\n"
     ]
    }
   ],
   "source": [
    "# Split the data into 3 groups based on the amount of donors in each age group 33% 33% 33%\n",
    "youngest = 0\n",
    "youngest_last_age = 19\n",
    "\n",
    "# Set the age of the youngest_last_age when youngest is more than 33% of 508\n",
    "# Loop over the ages and add the amount of donors to the youngest until it is more than 33% of 508\n",
    "for age in order_ages:\n",
    "    if youngest > 169:\n",
    "        break\n",
    "    number_of_donors = donor_ids[donor_ids['development_stage'] == age].shape[0]\n",
    "    youngest += number_of_donors\n",
    "    youngest_last_age = age\n",
    "\n",
    "print(f\"Youngest: {youngest} ({youngest_last_age})\")\n",
    "\n",
    "middle = 0\n",
    "middle_last_age = youngest_last_age\n",
    "\n",
    "for age in order_ages:\n",
    "    if middle > 140:\n",
    "        break\n",
    "    if age <= youngest_last_age:\n",
    "        continue\n",
    "    number_of_donors = donor_ids[donor_ids['development_stage'] == age].shape[0]\n",
    "    middle += number_of_donors\n",
    "    middle_last_age = age\n",
    "\n",
    "print(f\"Middle: {middle} ({middle_last_age})\")\n",
    "\n",
    "oldest = 0\n",
    "oldest_last_age = 75\n",
    "\n",
    "for age in order_ages:\n",
    "    if age <= middle_last_age:\n",
    "        continue\n",
    "    number_of_donors = donor_ids[donor_ids['development_stage'] == age].shape[0]\n",
    "    oldest += number_of_donors\n",
    "\n",
    "print(f\"Oldest: {oldest} ({oldest_last_age})\")\n"
   ]
  },
  {
   "cell_type": "code",
   "execution_count": null,
   "id": "bac39e15",
   "metadata": {},
   "outputs": [],
   "source": []
  }
 ],
 "metadata": {
  "kernelspec": {
   "display_name": "base",
   "language": "python",
   "name": "python3"
  },
  "language_info": {
   "codemirror_mode": {
    "name": "ipython",
    "version": 3
   },
   "file_extension": ".py",
   "mimetype": "text/x-python",
   "name": "python",
   "nbconvert_exporter": "python",
   "pygments_lexer": "ipython3",
   "version": "3.11.4"
  }
 },
 "nbformat": 4,
 "nbformat_minor": 5
}
